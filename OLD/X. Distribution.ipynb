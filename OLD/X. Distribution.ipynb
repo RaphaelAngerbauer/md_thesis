{
 "cells": [
  {
   "cell_type": "code",
   "execution_count": 1,
   "id": "98e136c8",
   "metadata": {},
   "outputs": [],
   "source": [
    "import pandas as pd\n",
    "import os\n",
    "import tifffile as tiff\n",
    "import matplotlib.pyplot as plt\n",
    "import pathophys as pp\n",
    "import numpy as np\n",
    "import math\n",
    "import seaborn as sns\n",
    "from scipy.stats import norm\n",
    "\n",
    "def getimfolder(experiment):\n",
    "    import os\n",
    "    basedir = \"\"\n",
    "    data = \"D:\\Raphael\\Data\"\n",
    "    for folder in os.listdir(data):\n",
    "        if str(experiment) in folder:\n",
    "            basedir = os.path.join(data, folder)\n",
    "    return basedir\n",
    "\n",
    "experiment = \"X\"\n",
    "basedir = getimfolder(experiment)"
   ]
  },
  {
   "cell_type": "code",
   "execution_count": 2,
   "id": "eed5bcfb",
   "metadata": {},
   "outputs": [
    {
     "data": {
      "text/html": [
       "<div>\n",
       "<style scoped>\n",
       "    .dataframe tbody tr th:only-of-type {\n",
       "        vertical-align: middle;\n",
       "    }\n",
       "\n",
       "    .dataframe tbody tr th {\n",
       "        vertical-align: top;\n",
       "    }\n",
       "\n",
       "    .dataframe thead th {\n",
       "        text-align: right;\n",
       "    }\n",
       "</style>\n",
       "<table border=\"1\" class=\"dataframe\">\n",
       "  <thead>\n",
       "    <tr style=\"text-align: right;\">\n",
       "      <th></th>\n",
       "      <th>Unnamed: 0</th>\n",
       "      <th>label</th>\n",
       "      <th>bbox-0_GFP</th>\n",
       "      <th>bbox-1_GFP</th>\n",
       "      <th>bbox-2_GFP</th>\n",
       "      <th>bbox-3_GFP</th>\n",
       "      <th>intensity_max_GFP</th>\n",
       "      <th>intensity_min_GFP</th>\n",
       "      <th>intensity_mean_GFP</th>\n",
       "      <th>measure_median_GFP</th>\n",
       "      <th>bbox-0_AB</th>\n",
       "      <th>bbox-1_AB</th>\n",
       "      <th>bbox-2_AB</th>\n",
       "      <th>bbox-3_AB</th>\n",
       "      <th>intensity_max_AB</th>\n",
       "      <th>intensity_min_AB</th>\n",
       "      <th>intensity_mean_AB</th>\n",
       "      <th>measure_median_AB</th>\n",
       "      <th>NDID</th>\n",
       "      <th>CID</th>\n",
       "    </tr>\n",
       "  </thead>\n",
       "  <tbody>\n",
       "    <tr>\n",
       "      <th>0</th>\n",
       "      <td>0</td>\n",
       "      <td>1</td>\n",
       "      <td>1371</td>\n",
       "      <td>789</td>\n",
       "      <td>1694</td>\n",
       "      <td>1097</td>\n",
       "      <td>131.0</td>\n",
       "      <td>92.0</td>\n",
       "      <td>110.967443</td>\n",
       "      <td>111.0</td>\n",
       "      <td>1371</td>\n",
       "      <td>789</td>\n",
       "      <td>1694</td>\n",
       "      <td>1097</td>\n",
       "      <td>201.0</td>\n",
       "      <td>103.0</td>\n",
       "      <td>136.116352</td>\n",
       "      <td>134.0</td>\n",
       "      <td>0</td>\n",
       "      <td>1</td>\n",
       "    </tr>\n",
       "    <tr>\n",
       "      <th>1</th>\n",
       "      <td>1</td>\n",
       "      <td>2</td>\n",
       "      <td>755</td>\n",
       "      <td>536</td>\n",
       "      <td>1086</td>\n",
       "      <td>906</td>\n",
       "      <td>131.0</td>\n",
       "      <td>92.0</td>\n",
       "      <td>111.605168</td>\n",
       "      <td>111.0</td>\n",
       "      <td>755</td>\n",
       "      <td>536</td>\n",
       "      <td>1086</td>\n",
       "      <td>906</td>\n",
       "      <td>198.0</td>\n",
       "      <td>107.0</td>\n",
       "      <td>141.408126</td>\n",
       "      <td>140.0</td>\n",
       "      <td>0</td>\n",
       "      <td>2</td>\n",
       "    </tr>\n",
       "    <tr>\n",
       "      <th>2</th>\n",
       "      <td>2</td>\n",
       "      <td>3</td>\n",
       "      <td>1831</td>\n",
       "      <td>1320</td>\n",
       "      <td>2048</td>\n",
       "      <td>1589</td>\n",
       "      <td>147.0</td>\n",
       "      <td>94.0</td>\n",
       "      <td>119.543002</td>\n",
       "      <td>119.0</td>\n",
       "      <td>1831</td>\n",
       "      <td>1320</td>\n",
       "      <td>2048</td>\n",
       "      <td>1589</td>\n",
       "      <td>227.0</td>\n",
       "      <td>111.0</td>\n",
       "      <td>150.321190</td>\n",
       "      <td>147.0</td>\n",
       "      <td>0</td>\n",
       "      <td>3</td>\n",
       "    </tr>\n",
       "    <tr>\n",
       "      <th>3</th>\n",
       "      <td>3</td>\n",
       "      <td>4</td>\n",
       "      <td>178</td>\n",
       "      <td>805</td>\n",
       "      <td>453</td>\n",
       "      <td>1229</td>\n",
       "      <td>205.0</td>\n",
       "      <td>93.0</td>\n",
       "      <td>115.686093</td>\n",
       "      <td>114.0</td>\n",
       "      <td>178</td>\n",
       "      <td>805</td>\n",
       "      <td>453</td>\n",
       "      <td>1229</td>\n",
       "      <td>240.0</td>\n",
       "      <td>111.0</td>\n",
       "      <td>141.422976</td>\n",
       "      <td>140.0</td>\n",
       "      <td>0</td>\n",
       "      <td>4</td>\n",
       "    </tr>\n",
       "    <tr>\n",
       "      <th>4</th>\n",
       "      <td>4</td>\n",
       "      <td>5</td>\n",
       "      <td>1481</td>\n",
       "      <td>1146</td>\n",
       "      <td>1719</td>\n",
       "      <td>1361</td>\n",
       "      <td>242.0</td>\n",
       "      <td>95.0</td>\n",
       "      <td>148.879309</td>\n",
       "      <td>151.0</td>\n",
       "      <td>1481</td>\n",
       "      <td>1146</td>\n",
       "      <td>1719</td>\n",
       "      <td>1361</td>\n",
       "      <td>452.0</td>\n",
       "      <td>108.0</td>\n",
       "      <td>229.511708</td>\n",
       "      <td>242.0</td>\n",
       "      <td>0</td>\n",
       "      <td>5</td>\n",
       "    </tr>\n",
       "  </tbody>\n",
       "</table>\n",
       "</div>"
      ],
      "text/plain": [
       "   Unnamed: 0  label  bbox-0_GFP  bbox-1_GFP  bbox-2_GFP  bbox-3_GFP  \\\n",
       "0           0      1        1371         789        1694        1097   \n",
       "1           1      2         755         536        1086         906   \n",
       "2           2      3        1831        1320        2048        1589   \n",
       "3           3      4         178         805         453        1229   \n",
       "4           4      5        1481        1146        1719        1361   \n",
       "\n",
       "   intensity_max_GFP  intensity_min_GFP  intensity_mean_GFP  \\\n",
       "0              131.0               92.0          110.967443   \n",
       "1              131.0               92.0          111.605168   \n",
       "2              147.0               94.0          119.543002   \n",
       "3              205.0               93.0          115.686093   \n",
       "4              242.0               95.0          148.879309   \n",
       "\n",
       "   measure_median_GFP  bbox-0_AB  bbox-1_AB  bbox-2_AB  bbox-3_AB  \\\n",
       "0               111.0       1371        789       1694       1097   \n",
       "1               111.0        755        536       1086        906   \n",
       "2               119.0       1831       1320       2048       1589   \n",
       "3               114.0        178        805        453       1229   \n",
       "4               151.0       1481       1146       1719       1361   \n",
       "\n",
       "   intensity_max_AB  intensity_min_AB  intensity_mean_AB  measure_median_AB  \\\n",
       "0             201.0             103.0         136.116352              134.0   \n",
       "1             198.0             107.0         141.408126              140.0   \n",
       "2             227.0             111.0         150.321190              147.0   \n",
       "3             240.0             111.0         141.422976              140.0   \n",
       "4             452.0             108.0         229.511708              242.0   \n",
       "\n",
       "   NDID  CID  \n",
       "0     0    1  \n",
       "1     0    2  \n",
       "2     0    3  \n",
       "3     0    4  \n",
       "4     0    5  "
      ]
     },
     "execution_count": 2,
     "metadata": {},
     "output_type": "execute_result"
    }
   ],
   "source": [
    "idf = pd.read_excel(os.path.join(basedir, \"Info.xlsx\"))\n",
    "cdf = pd.read_csv(os.path.join(basedir, \"CellInfo.csv\"))\n",
    "cdf.head()"
   ]
  },
  {
   "cell_type": "code",
   "execution_count": 3,
   "id": "2f707163",
   "metadata": {},
   "outputs": [
    {
     "name": "stdout",
     "output_type": "stream",
     "text": [
      "28578\n"
     ]
    }
   ],
   "source": [
    "print(len(cdf))"
   ]
  },
  {
   "cell_type": "code",
   "execution_count": 4,
   "id": "88e949ef",
   "metadata": {},
   "outputs": [
    {
     "name": "stdout",
     "output_type": "stream",
     "text": [
      "(7948, 20)\n"
     ]
    }
   ],
   "source": [
    "ddfs = []\n",
    "for i in range(4):\n",
    "    ddfs.append(cdf[cdf[\"bbox-\"+str(i)+\"_GFP\"]==cdf[\"bbox-\"+str(i)+\"_GFP\"].min()])\n",
    "    ddfs.append(cdf[cdf[\"bbox-\"+str(i)+\"_GFP\"]==cdf[\"bbox-\"+str(i)+\"_GFP\"].max()])\n",
    "dropdf = pd.concat(ddfs)\n",
    "dropdf.head()\n",
    "print(dropdf.shape)"
   ]
  },
  {
   "cell_type": "code",
   "execution_count": 5,
   "id": "f6c70cfc",
   "metadata": {},
   "outputs": [
    {
     "data": {
      "text/html": [
       "<div>\n",
       "<style scoped>\n",
       "    .dataframe tbody tr th:only-of-type {\n",
       "        vertical-align: middle;\n",
       "    }\n",
       "\n",
       "    .dataframe tbody tr th {\n",
       "        vertical-align: top;\n",
       "    }\n",
       "\n",
       "    .dataframe thead th {\n",
       "        text-align: right;\n",
       "    }\n",
       "</style>\n",
       "<table border=\"1\" class=\"dataframe\">\n",
       "  <thead>\n",
       "    <tr style=\"text-align: right;\">\n",
       "      <th></th>\n",
       "      <th>Unnamed: 0</th>\n",
       "      <th>label</th>\n",
       "      <th>bbox-0_GFP</th>\n",
       "      <th>bbox-1_GFP</th>\n",
       "      <th>bbox-2_GFP</th>\n",
       "      <th>bbox-3_GFP</th>\n",
       "      <th>intensity_max_GFP</th>\n",
       "      <th>intensity_min_GFP</th>\n",
       "      <th>intensity_mean_GFP</th>\n",
       "      <th>measure_median_GFP</th>\n",
       "      <th>bbox-0_AB</th>\n",
       "      <th>bbox-1_AB</th>\n",
       "      <th>bbox-2_AB</th>\n",
       "      <th>bbox-3_AB</th>\n",
       "      <th>intensity_max_AB</th>\n",
       "      <th>intensity_min_AB</th>\n",
       "      <th>intensity_mean_AB</th>\n",
       "      <th>measure_median_AB</th>\n",
       "      <th>NDID</th>\n",
       "      <th>CID</th>\n",
       "    </tr>\n",
       "  </thead>\n",
       "  <tbody>\n",
       "    <tr>\n",
       "      <th>0</th>\n",
       "      <td>0</td>\n",
       "      <td>1</td>\n",
       "      <td>1371</td>\n",
       "      <td>789</td>\n",
       "      <td>1694</td>\n",
       "      <td>1097</td>\n",
       "      <td>131.0</td>\n",
       "      <td>92.0</td>\n",
       "      <td>110.967443</td>\n",
       "      <td>111.0</td>\n",
       "      <td>1371</td>\n",
       "      <td>789</td>\n",
       "      <td>1694</td>\n",
       "      <td>1097</td>\n",
       "      <td>201.0</td>\n",
       "      <td>103.0</td>\n",
       "      <td>136.116352</td>\n",
       "      <td>134.0</td>\n",
       "      <td>0</td>\n",
       "      <td>1</td>\n",
       "    </tr>\n",
       "    <tr>\n",
       "      <th>1</th>\n",
       "      <td>1</td>\n",
       "      <td>2</td>\n",
       "      <td>755</td>\n",
       "      <td>536</td>\n",
       "      <td>1086</td>\n",
       "      <td>906</td>\n",
       "      <td>131.0</td>\n",
       "      <td>92.0</td>\n",
       "      <td>111.605168</td>\n",
       "      <td>111.0</td>\n",
       "      <td>755</td>\n",
       "      <td>536</td>\n",
       "      <td>1086</td>\n",
       "      <td>906</td>\n",
       "      <td>198.0</td>\n",
       "      <td>107.0</td>\n",
       "      <td>141.408126</td>\n",
       "      <td>140.0</td>\n",
       "      <td>0</td>\n",
       "      <td>2</td>\n",
       "    </tr>\n",
       "    <tr>\n",
       "      <th>3</th>\n",
       "      <td>3</td>\n",
       "      <td>4</td>\n",
       "      <td>178</td>\n",
       "      <td>805</td>\n",
       "      <td>453</td>\n",
       "      <td>1229</td>\n",
       "      <td>205.0</td>\n",
       "      <td>93.0</td>\n",
       "      <td>115.686093</td>\n",
       "      <td>114.0</td>\n",
       "      <td>178</td>\n",
       "      <td>805</td>\n",
       "      <td>453</td>\n",
       "      <td>1229</td>\n",
       "      <td>240.0</td>\n",
       "      <td>111.0</td>\n",
       "      <td>141.422976</td>\n",
       "      <td>140.0</td>\n",
       "      <td>0</td>\n",
       "      <td>4</td>\n",
       "    </tr>\n",
       "    <tr>\n",
       "      <th>4</th>\n",
       "      <td>4</td>\n",
       "      <td>5</td>\n",
       "      <td>1481</td>\n",
       "      <td>1146</td>\n",
       "      <td>1719</td>\n",
       "      <td>1361</td>\n",
       "      <td>242.0</td>\n",
       "      <td>95.0</td>\n",
       "      <td>148.879309</td>\n",
       "      <td>151.0</td>\n",
       "      <td>1481</td>\n",
       "      <td>1146</td>\n",
       "      <td>1719</td>\n",
       "      <td>1361</td>\n",
       "      <td>452.0</td>\n",
       "      <td>108.0</td>\n",
       "      <td>229.511708</td>\n",
       "      <td>242.0</td>\n",
       "      <td>0</td>\n",
       "      <td>5</td>\n",
       "    </tr>\n",
       "    <tr>\n",
       "      <th>5</th>\n",
       "      <td>5</td>\n",
       "      <td>6</td>\n",
       "      <td>1123</td>\n",
       "      <td>564</td>\n",
       "      <td>1494</td>\n",
       "      <td>1006</td>\n",
       "      <td>138.0</td>\n",
       "      <td>91.0</td>\n",
       "      <td>110.687786</td>\n",
       "      <td>111.0</td>\n",
       "      <td>1123</td>\n",
       "      <td>564</td>\n",
       "      <td>1494</td>\n",
       "      <td>1006</td>\n",
       "      <td>200.0</td>\n",
       "      <td>101.0</td>\n",
       "      <td>135.764087</td>\n",
       "      <td>134.0</td>\n",
       "      <td>0</td>\n",
       "      <td>6</td>\n",
       "    </tr>\n",
       "    <tr>\n",
       "      <th>...</th>\n",
       "      <td>...</td>\n",
       "      <td>...</td>\n",
       "      <td>...</td>\n",
       "      <td>...</td>\n",
       "      <td>...</td>\n",
       "      <td>...</td>\n",
       "      <td>...</td>\n",
       "      <td>...</td>\n",
       "      <td>...</td>\n",
       "      <td>...</td>\n",
       "      <td>...</td>\n",
       "      <td>...</td>\n",
       "      <td>...</td>\n",
       "      <td>...</td>\n",
       "      <td>...</td>\n",
       "      <td>...</td>\n",
       "      <td>...</td>\n",
       "      <td>...</td>\n",
       "      <td>...</td>\n",
       "      <td>...</td>\n",
       "    </tr>\n",
       "    <tr>\n",
       "      <th>28569</th>\n",
       "      <td>38</td>\n",
       "      <td>39</td>\n",
       "      <td>310</td>\n",
       "      <td>980</td>\n",
       "      <td>603</td>\n",
       "      <td>1355</td>\n",
       "      <td>135.0</td>\n",
       "      <td>92.0</td>\n",
       "      <td>111.524253</td>\n",
       "      <td>111.0</td>\n",
       "      <td>310</td>\n",
       "      <td>980</td>\n",
       "      <td>603</td>\n",
       "      <td>1355</td>\n",
       "      <td>333.0</td>\n",
       "      <td>110.0</td>\n",
       "      <td>153.707994</td>\n",
       "      <td>152.0</td>\n",
       "      <td>360</td>\n",
       "      <td>28947</td>\n",
       "    </tr>\n",
       "    <tr>\n",
       "      <th>28570</th>\n",
       "      <td>39</td>\n",
       "      <td>40</td>\n",
       "      <td>973</td>\n",
       "      <td>557</td>\n",
       "      <td>1342</td>\n",
       "      <td>882</td>\n",
       "      <td>129.0</td>\n",
       "      <td>90.0</td>\n",
       "      <td>110.247324</td>\n",
       "      <td>110.0</td>\n",
       "      <td>973</td>\n",
       "      <td>557</td>\n",
       "      <td>1342</td>\n",
       "      <td>882</td>\n",
       "      <td>263.0</td>\n",
       "      <td>104.0</td>\n",
       "      <td>133.469599</td>\n",
       "      <td>132.0</td>\n",
       "      <td>360</td>\n",
       "      <td>28948</td>\n",
       "    </tr>\n",
       "    <tr>\n",
       "      <th>28572</th>\n",
       "      <td>41</td>\n",
       "      <td>42</td>\n",
       "      <td>621</td>\n",
       "      <td>1126</td>\n",
       "      <td>886</td>\n",
       "      <td>1367</td>\n",
       "      <td>130.0</td>\n",
       "      <td>92.0</td>\n",
       "      <td>110.029467</td>\n",
       "      <td>110.0</td>\n",
       "      <td>621</td>\n",
       "      <td>1126</td>\n",
       "      <td>886</td>\n",
       "      <td>1367</td>\n",
       "      <td>180.0</td>\n",
       "      <td>105.0</td>\n",
       "      <td>131.423569</td>\n",
       "      <td>131.0</td>\n",
       "      <td>360</td>\n",
       "      <td>28950</td>\n",
       "    </tr>\n",
       "    <tr>\n",
       "      <th>28573</th>\n",
       "      <td>42</td>\n",
       "      <td>43</td>\n",
       "      <td>547</td>\n",
       "      <td>1330</td>\n",
       "      <td>790</td>\n",
       "      <td>1540</td>\n",
       "      <td>133.0</td>\n",
       "      <td>91.0</td>\n",
       "      <td>111.413436</td>\n",
       "      <td>111.0</td>\n",
       "      <td>547</td>\n",
       "      <td>1330</td>\n",
       "      <td>790</td>\n",
       "      <td>1540</td>\n",
       "      <td>324.0</td>\n",
       "      <td>112.0</td>\n",
       "      <td>166.074263</td>\n",
       "      <td>157.0</td>\n",
       "      <td>360</td>\n",
       "      <td>28951</td>\n",
       "    </tr>\n",
       "    <tr>\n",
       "      <th>28577</th>\n",
       "      <td>46</td>\n",
       "      <td>47</td>\n",
       "      <td>991</td>\n",
       "      <td>1148</td>\n",
       "      <td>1169</td>\n",
       "      <td>1326</td>\n",
       "      <td>128.0</td>\n",
       "      <td>90.0</td>\n",
       "      <td>109.794021</td>\n",
       "      <td>110.0</td>\n",
       "      <td>991</td>\n",
       "      <td>1148</td>\n",
       "      <td>1169</td>\n",
       "      <td>1326</td>\n",
       "      <td>171.0</td>\n",
       "      <td>105.0</td>\n",
       "      <td>130.883606</td>\n",
       "      <td>130.0</td>\n",
       "      <td>360</td>\n",
       "      <td>28955</td>\n",
       "    </tr>\n",
       "  </tbody>\n",
       "</table>\n",
       "<p>21071 rows × 20 columns</p>\n",
       "</div>"
      ],
      "text/plain": [
       "       Unnamed: 0  label  bbox-0_GFP  bbox-1_GFP  bbox-2_GFP  bbox-3_GFP  \\\n",
       "0               0      1        1371         789        1694        1097   \n",
       "1               1      2         755         536        1086         906   \n",
       "3               3      4         178         805         453        1229   \n",
       "4               4      5        1481        1146        1719        1361   \n",
       "5               5      6        1123         564        1494        1006   \n",
       "...           ...    ...         ...         ...         ...         ...   \n",
       "28569          38     39         310         980         603        1355   \n",
       "28570          39     40         973         557        1342         882   \n",
       "28572          41     42         621        1126         886        1367   \n",
       "28573          42     43         547        1330         790        1540   \n",
       "28577          46     47         991        1148        1169        1326   \n",
       "\n",
       "       intensity_max_GFP  intensity_min_GFP  intensity_mean_GFP  \\\n",
       "0                  131.0               92.0          110.967443   \n",
       "1                  131.0               92.0          111.605168   \n",
       "3                  205.0               93.0          115.686093   \n",
       "4                  242.0               95.0          148.879309   \n",
       "5                  138.0               91.0          110.687786   \n",
       "...                  ...                ...                 ...   \n",
       "28569              135.0               92.0          111.524253   \n",
       "28570              129.0               90.0          110.247324   \n",
       "28572              130.0               92.0          110.029467   \n",
       "28573              133.0               91.0          111.413436   \n",
       "28577              128.0               90.0          109.794021   \n",
       "\n",
       "       measure_median_GFP  bbox-0_AB  bbox-1_AB  bbox-2_AB  bbox-3_AB  \\\n",
       "0                   111.0       1371        789       1694       1097   \n",
       "1                   111.0        755        536       1086        906   \n",
       "3                   114.0        178        805        453       1229   \n",
       "4                   151.0       1481       1146       1719       1361   \n",
       "5                   111.0       1123        564       1494       1006   \n",
       "...                   ...        ...        ...        ...        ...   \n",
       "28569               111.0        310        980        603       1355   \n",
       "28570               110.0        973        557       1342        882   \n",
       "28572               110.0        621       1126        886       1367   \n",
       "28573               111.0        547       1330        790       1540   \n",
       "28577               110.0        991       1148       1169       1326   \n",
       "\n",
       "       intensity_max_AB  intensity_min_AB  intensity_mean_AB  \\\n",
       "0                 201.0             103.0         136.116352   \n",
       "1                 198.0             107.0         141.408126   \n",
       "3                 240.0             111.0         141.422976   \n",
       "4                 452.0             108.0         229.511708   \n",
       "5                 200.0             101.0         135.764087   \n",
       "...                 ...               ...                ...   \n",
       "28569             333.0             110.0         153.707994   \n",
       "28570             263.0             104.0         133.469599   \n",
       "28572             180.0             105.0         131.423569   \n",
       "28573             324.0             112.0         166.074263   \n",
       "28577             171.0             105.0         130.883606   \n",
       "\n",
       "       measure_median_AB  NDID    CID  \n",
       "0                  134.0     0      1  \n",
       "1                  140.0     0      2  \n",
       "3                  140.0     0      4  \n",
       "4                  242.0     0      5  \n",
       "5                  134.0     0      6  \n",
       "...                  ...   ...    ...  \n",
       "28569              152.0   360  28947  \n",
       "28570              132.0   360  28948  \n",
       "28572              131.0   360  28950  \n",
       "28573              157.0   360  28951  \n",
       "28577              130.0   360  28955  \n",
       "\n",
       "[21071 rows x 20 columns]"
      ]
     },
     "execution_count": 5,
     "metadata": {},
     "output_type": "execute_result"
    }
   ],
   "source": [
    "cdf.drop(dropdf.index)"
   ]
  },
  {
   "cell_type": "code",
   "execution_count": 6,
   "id": "7dd22425",
   "metadata": {},
   "outputs": [
    {
     "data": {
      "text/plain": [
       "(array([1.8287e+04, 4.0020e+03, 1.8850e+03, 9.6100e+02, 8.3600e+02,\n",
       "        5.0300e+02, 4.2700e+02, 2.6500e+02, 2.4900e+02, 1.7300e+02,\n",
       "        1.3900e+02, 1.4300e+02, 8.6000e+01, 8.9000e+01, 6.5000e+01,\n",
       "        5.9000e+01, 3.6000e+01, 3.3000e+01, 2.9000e+01, 4.1000e+01,\n",
       "        2.6000e+01, 2.1000e+01, 2.1000e+01, 2.2000e+01, 1.4000e+01,\n",
       "        8.0000e+00, 1.2000e+01, 8.0000e+00, 4.0000e+00, 1.0000e+01,\n",
       "        8.0000e+00, 4.0000e+00, 9.0000e+00, 6.0000e+00, 5.0000e+00,\n",
       "        4.0000e+00, 5.0000e+00, 5.0000e+00, 3.0000e+00, 1.0000e+00,\n",
       "        5.0000e+00, 3.0000e+00, 3.0000e+00, 3.0000e+00, 4.0000e+00,\n",
       "        2.0000e+00, 1.0000e+00, 1.0000e+00, 2.0000e+00, 2.0000e+00,\n",
       "        1.0000e+00, 1.0000e+00, 1.0000e+00, 3.0000e+00, 2.0000e+00,\n",
       "        2.0000e+00, 1.0000e+00, 4.0000e+00, 1.0000e+00, 1.0000e+00,\n",
       "        0.0000e+00, 0.0000e+00, 0.0000e+00, 0.0000e+00, 3.0000e+00,\n",
       "        1.0000e+00, 0.0000e+00, 1.0000e+00, 0.0000e+00, 1.0000e+00,\n",
       "        0.0000e+00, 0.0000e+00, 1.0000e+00, 0.0000e+00, 0.0000e+00,\n",
       "        1.0000e+00, 0.0000e+00, 0.0000e+00, 0.0000e+00, 0.0000e+00,\n",
       "        1.0000e+00, 1.0000e+00, 1.0000e+00, 1.0000e+00, 0.0000e+00,\n",
       "        0.0000e+00, 1.0000e+00, 1.0000e+00, 0.0000e+00, 1.0000e+00,\n",
       "        0.0000e+00, 0.0000e+00, 1.0000e+00, 0.0000e+00, 0.0000e+00,\n",
       "        1.0000e+00, 0.0000e+00, 0.0000e+00, 0.0000e+00, 1.0000e+00,\n",
       "        0.0000e+00, 2.0000e+00, 0.0000e+00, 1.0000e+00, 0.0000e+00,\n",
       "        0.0000e+00, 0.0000e+00, 1.0000e+00, 0.0000e+00, 0.0000e+00,\n",
       "        0.0000e+00, 0.0000e+00, 0.0000e+00, 0.0000e+00, 0.0000e+00,\n",
       "        0.0000e+00, 0.0000e+00, 0.0000e+00, 0.0000e+00, 2.0000e+00,\n",
       "        0.0000e+00, 1.0000e+00, 0.0000e+00, 0.0000e+00, 2.0000e+00,\n",
       "        0.0000e+00, 0.0000e+00, 0.0000e+00, 0.0000e+00, 0.0000e+00,\n",
       "        0.0000e+00, 1.0000e+00, 0.0000e+00, 0.0000e+00, 1.0000e+00,\n",
       "        0.0000e+00, 0.0000e+00, 0.0000e+00, 0.0000e+00, 0.0000e+00,\n",
       "        0.0000e+00, 0.0000e+00, 0.0000e+00, 0.0000e+00, 0.0000e+00,\n",
       "        0.0000e+00, 0.0000e+00, 0.0000e+00, 0.0000e+00, 0.0000e+00,\n",
       "        0.0000e+00, 0.0000e+00, 0.0000e+00, 0.0000e+00, 0.0000e+00,\n",
       "        0.0000e+00, 0.0000e+00, 0.0000e+00, 0.0000e+00, 0.0000e+00,\n",
       "        0.0000e+00, 0.0000e+00, 0.0000e+00, 0.0000e+00, 0.0000e+00,\n",
       "        0.0000e+00, 0.0000e+00, 0.0000e+00, 1.0000e+00, 0.0000e+00,\n",
       "        0.0000e+00, 0.0000e+00, 0.0000e+00, 0.0000e+00, 0.0000e+00,\n",
       "        0.0000e+00, 0.0000e+00, 0.0000e+00, 0.0000e+00, 0.0000e+00,\n",
       "        0.0000e+00, 0.0000e+00, 0.0000e+00, 0.0000e+00, 0.0000e+00,\n",
       "        0.0000e+00, 0.0000e+00, 0.0000e+00, 0.0000e+00, 0.0000e+00,\n",
       "        0.0000e+00, 0.0000e+00, 0.0000e+00, 0.0000e+00, 0.0000e+00,\n",
       "        0.0000e+00, 0.0000e+00, 0.0000e+00, 0.0000e+00, 1.0000e+00]),\n",
       " array([ 108.   ,  115.445,  122.89 ,  130.335,  137.78 ,  145.225,\n",
       "         152.67 ,  160.115,  167.56 ,  175.005,  182.45 ,  189.895,\n",
       "         197.34 ,  204.785,  212.23 ,  219.675,  227.12 ,  234.565,\n",
       "         242.01 ,  249.455,  256.9  ,  264.345,  271.79 ,  279.235,\n",
       "         286.68 ,  294.125,  301.57 ,  309.015,  316.46 ,  323.905,\n",
       "         331.35 ,  338.795,  346.24 ,  353.685,  361.13 ,  368.575,\n",
       "         376.02 ,  383.465,  390.91 ,  398.355,  405.8  ,  413.245,\n",
       "         420.69 ,  428.135,  435.58 ,  443.025,  450.47 ,  457.915,\n",
       "         465.36 ,  472.805,  480.25 ,  487.695,  495.14 ,  502.585,\n",
       "         510.03 ,  517.475,  524.92 ,  532.365,  539.81 ,  547.255,\n",
       "         554.7  ,  562.145,  569.59 ,  577.035,  584.48 ,  591.925,\n",
       "         599.37 ,  606.815,  614.26 ,  621.705,  629.15 ,  636.595,\n",
       "         644.04 ,  651.485,  658.93 ,  666.375,  673.82 ,  681.265,\n",
       "         688.71 ,  696.155,  703.6  ,  711.045,  718.49 ,  725.935,\n",
       "         733.38 ,  740.825,  748.27 ,  755.715,  763.16 ,  770.605,\n",
       "         778.05 ,  785.495,  792.94 ,  800.385,  807.83 ,  815.275,\n",
       "         822.72 ,  830.165,  837.61 ,  845.055,  852.5  ,  859.945,\n",
       "         867.39 ,  874.835,  882.28 ,  889.725,  897.17 ,  904.615,\n",
       "         912.06 ,  919.505,  926.95 ,  934.395,  941.84 ,  949.285,\n",
       "         956.73 ,  964.175,  971.62 ,  979.065,  986.51 ,  993.955,\n",
       "        1001.4  , 1008.845, 1016.29 , 1023.735, 1031.18 , 1038.625,\n",
       "        1046.07 , 1053.515, 1060.96 , 1068.405, 1075.85 , 1083.295,\n",
       "        1090.74 , 1098.185, 1105.63 , 1113.075, 1120.52 , 1127.965,\n",
       "        1135.41 , 1142.855, 1150.3  , 1157.745, 1165.19 , 1172.635,\n",
       "        1180.08 , 1187.525, 1194.97 , 1202.415, 1209.86 , 1217.305,\n",
       "        1224.75 , 1232.195, 1239.64 , 1247.085, 1254.53 , 1261.975,\n",
       "        1269.42 , 1276.865, 1284.31 , 1291.755, 1299.2  , 1306.645,\n",
       "        1314.09 , 1321.535, 1328.98 , 1336.425, 1343.87 , 1351.315,\n",
       "        1358.76 , 1366.205, 1373.65 , 1381.095, 1388.54 , 1395.985,\n",
       "        1403.43 , 1410.875, 1418.32 , 1425.765, 1433.21 , 1440.655,\n",
       "        1448.1  , 1455.545, 1462.99 , 1470.435, 1477.88 , 1485.325,\n",
       "        1492.77 , 1500.215, 1507.66 , 1515.105, 1522.55 , 1529.995,\n",
       "        1537.44 , 1544.885, 1552.33 , 1559.775, 1567.22 , 1574.665,\n",
       "        1582.11 , 1589.555, 1597.   ]),\n",
       " <BarContainer object of 200 artists>)"
      ]
     },
     "execution_count": 6,
     "metadata": {},
     "output_type": "execute_result"
    },
    {
     "data": {
      "image/png": "[encoded data removed]",
      "text/plain": [
       "<Figure size 640x480 with 1 Axes>"
      ]
     },
     "metadata": {},
     "output_type": "display_data"
    }
   ],
   "source": [
    "mInt = cdf[\"measure_median_GFP\"].values\n",
    "plt.hist(mInt, bins=200)"
   ]
  },
  {
   "cell_type": "code",
   "execution_count": 7,
   "id": "c723d5d6",
   "metadata": {},
   "outputs": [
    {
     "data": {
      "text/plain": [
       "(array([1.000e+00, 1.000e+00, 3.800e+01, 1.165e+03, 2.633e+03, 3.093e+03,\n",
       "        2.921e+03, 2.749e+03, 2.298e+03, 1.868e+03, 1.430e+03, 1.163e+03,\n",
       "        9.350e+02, 7.330e+02, 5.830e+02, 4.850e+02, 4.440e+02, 3.450e+02,\n",
       "        2.740e+02, 3.050e+02, 2.450e+02, 2.810e+02, 2.310e+02, 2.630e+02,\n",
       "        2.260e+02, 2.360e+02, 2.010e+02, 1.890e+02, 1.920e+02, 1.840e+02,\n",
       "        1.370e+02, 1.410e+02, 1.510e+02, 1.370e+02, 1.130e+02, 1.350e+02,\n",
       "        7.800e+01, 1.080e+02, 8.800e+01, 1.060e+02, 7.900e+01, 7.700e+01,\n",
       "        8.000e+01, 8.000e+01, 9.000e+01, 7.500e+01, 6.700e+01, 6.500e+01,\n",
       "        6.300e+01, 6.600e+01, 4.800e+01, 4.500e+01, 4.700e+01, 4.400e+01,\n",
       "        3.800e+01, 3.500e+01, 3.700e+01, 3.600e+01, 3.400e+01, 2.300e+01,\n",
       "        2.800e+01, 2.300e+01, 1.900e+01, 2.400e+01, 1.700e+01, 1.600e+01,\n",
       "        1.600e+01, 2.300e+01, 1.500e+01, 2.200e+01, 1.200e+01, 1.700e+01,\n",
       "        1.300e+01, 1.100e+01, 1.100e+01, 1.500e+01, 9.000e+00, 1.400e+01,\n",
       "        1.100e+01, 1.600e+01, 7.000e+00, 8.000e+00, 9.000e+00, 5.000e+00,\n",
       "        1.300e+01, 1.000e+01, 6.000e+00, 8.000e+00, 9.000e+00, 9.000e+00,\n",
       "        7.000e+00, 7.000e+00, 5.000e+00, 7.000e+00, 7.000e+00, 7.000e+00,\n",
       "        0.000e+00, 8.000e+00, 1.000e+00, 1.000e+00, 3.000e+00, 4.000e+00,\n",
       "        6.000e+00, 1.000e+00, 2.000e+00, 2.000e+00, 2.000e+00, 2.000e+00,\n",
       "        1.000e+00, 4.000e+00, 3.000e+00, 3.000e+00, 1.000e+00, 1.000e+00,\n",
       "        1.000e+00, 2.000e+00, 0.000e+00, 0.000e+00, 1.000e+00, 1.000e+00,\n",
       "        0.000e+00, 2.000e+00, 2.000e+00, 2.000e+00, 0.000e+00, 1.000e+00,\n",
       "        0.000e+00, 1.000e+00, 2.000e+00, 1.000e+00, 0.000e+00, 2.000e+00,\n",
       "        4.000e+00, 1.000e+00, 0.000e+00, 1.000e+00, 0.000e+00, 0.000e+00,\n",
       "        0.000e+00, 1.000e+00, 2.000e+00, 0.000e+00, 0.000e+00, 1.000e+00,\n",
       "        0.000e+00, 0.000e+00, 0.000e+00, 3.000e+00, 0.000e+00, 1.000e+00,\n",
       "        1.000e+00, 1.000e+00, 0.000e+00, 0.000e+00, 1.000e+00, 1.000e+00,\n",
       "        0.000e+00, 0.000e+00, 0.000e+00, 0.000e+00, 0.000e+00, 0.000e+00,\n",
       "        0.000e+00, 1.000e+00, 0.000e+00, 0.000e+00, 1.000e+00, 0.000e+00,\n",
       "        0.000e+00, 0.000e+00, 0.000e+00, 1.000e+00, 0.000e+00, 0.000e+00,\n",
       "        0.000e+00, 0.000e+00, 0.000e+00, 0.000e+00, 0.000e+00, 0.000e+00,\n",
       "        0.000e+00, 0.000e+00, 1.000e+00, 0.000e+00, 0.000e+00, 0.000e+00,\n",
       "        1.000e+00, 0.000e+00, 0.000e+00, 0.000e+00, 0.000e+00, 0.000e+00,\n",
       "        0.000e+00, 0.000e+00, 0.000e+00, 0.000e+00, 0.000e+00, 0.000e+00,\n",
       "        0.000e+00, 1.000e+00]),\n",
       " array([ 113.   ,  117.945,  122.89 ,  127.835,  132.78 ,  137.725,\n",
       "         142.67 ,  147.615,  152.56 ,  157.505,  162.45 ,  167.395,\n",
       "         172.34 ,  177.285,  182.23 ,  187.175,  192.12 ,  197.065,\n",
       "         202.01 ,  206.955,  211.9  ,  216.845,  221.79 ,  226.735,\n",
       "         231.68 ,  236.625,  241.57 ,  246.515,  251.46 ,  256.405,\n",
       "         261.35 ,  266.295,  271.24 ,  276.185,  281.13 ,  286.075,\n",
       "         291.02 ,  295.965,  300.91 ,  305.855,  310.8  ,  315.745,\n",
       "         320.69 ,  325.635,  330.58 ,  335.525,  340.47 ,  345.415,\n",
       "         350.36 ,  355.305,  360.25 ,  365.195,  370.14 ,  375.085,\n",
       "         380.03 ,  384.975,  389.92 ,  394.865,  399.81 ,  404.755,\n",
       "         409.7  ,  414.645,  419.59 ,  424.535,  429.48 ,  434.425,\n",
       "         439.37 ,  444.315,  449.26 ,  454.205,  459.15 ,  464.095,\n",
       "         469.04 ,  473.985,  478.93 ,  483.875,  488.82 ,  493.765,\n",
       "         498.71 ,  503.655,  508.6  ,  513.545,  518.49 ,  523.435,\n",
       "         528.38 ,  533.325,  538.27 ,  543.215,  548.16 ,  553.105,\n",
       "         558.05 ,  562.995,  567.94 ,  572.885,  577.83 ,  582.775,\n",
       "         587.72 ,  592.665,  597.61 ,  602.555,  607.5  ,  612.445,\n",
       "         617.39 ,  622.335,  627.28 ,  632.225,  637.17 ,  642.115,\n",
       "         647.06 ,  652.005,  656.95 ,  661.895,  666.84 ,  671.785,\n",
       "         676.73 ,  681.675,  686.62 ,  691.565,  696.51 ,  701.455,\n",
       "         706.4  ,  711.345,  716.29 ,  721.235,  726.18 ,  731.125,\n",
       "         736.07 ,  741.015,  745.96 ,  750.905,  755.85 ,  760.795,\n",
       "         765.74 ,  770.685,  775.63 ,  780.575,  785.52 ,  790.465,\n",
       "         795.41 ,  800.355,  805.3  ,  810.245,  815.19 ,  820.135,\n",
       "         825.08 ,  830.025,  834.97 ,  839.915,  844.86 ,  849.805,\n",
       "         854.75 ,  859.695,  864.64 ,  869.585,  874.53 ,  879.475,\n",
       "         884.42 ,  889.365,  894.31 ,  899.255,  904.2  ,  909.145,\n",
       "         914.09 ,  919.035,  923.98 ,  928.925,  933.87 ,  938.815,\n",
       "         943.76 ,  948.705,  953.65 ,  958.595,  963.54 ,  968.485,\n",
       "         973.43 ,  978.375,  983.32 ,  988.265,  993.21 ,  998.155,\n",
       "        1003.1  , 1008.045, 1012.99 , 1017.935, 1022.88 , 1027.825,\n",
       "        1032.77 , 1037.715, 1042.66 , 1047.605, 1052.55 , 1057.495,\n",
       "        1062.44 , 1067.385, 1072.33 , 1077.275, 1082.22 , 1087.165,\n",
       "        1092.11 , 1097.055, 1102.   ]),\n",
       " <BarContainer object of 200 artists>)"
      ]
     },
     "execution_count": 7,
     "metadata": {},
     "output_type": "execute_result"
    },
    {
     "data": {
      "image/png": "[encoded data removed]",
      "text/plain": [
       "<Figure size 640x480 with 1 Axes>"
      ]
     },
     "metadata": {},
     "output_type": "display_data"
    }
   ],
   "source": [
    "ABmInt = cdf[\"measure_median_AB\"].values\n",
    "plt.hist(ABmInt, bins=200)"
   ]
  },
  {
   "cell_type": "code",
   "execution_count": 8,
   "id": "b383e23b",
   "metadata": {},
   "outputs": [
    {
     "data": {
      "image/png": "[encoded data removed]",
      "text/plain": [
       "<Figure size 640x480 with 1 Axes>"
      ]
     },
     "metadata": {},
     "output_type": "display_data"
    }
   ],
   "source": [
    "from sklearn.mixture import GaussianMixture\n",
    "GM2 = GaussianMixture(n_components=2).fit(mInt.reshape(-1,1))\n",
    "GM2m = GM2.means_\n",
    "GM2cov = GM2.covariances_\n",
    "plt.hist(mInt,bins=100,density=True)\n",
    "x_val = np.arange(0, np.max(mInt), 1)\n",
    "i = 0\n",
    "while i < GM2.means_.shape[0]:\n",
    "    w = GM2.weights_[i]\n",
    "    m = GM2.means_[i][0]\n",
    "    v = math.sqrt(GM2.covariances_[i][0])\n",
    "    plt.plot(x_val, w*norm.pdf(x_val, m, v))\n",
    "    i = i+1\n",
    "plt.show()"
   ]
  },
  {
   "cell_type": "code",
   "execution_count": 9,
   "id": "2bc51083",
   "metadata": {},
   "outputs": [
    {
     "data": {
      "image/png": "[encoded data removed]",
      "text/plain": [
       "<Figure size 640x480 with 1 Axes>"
      ]
     },
     "metadata": {},
     "output_type": "display_data"
    }
   ],
   "source": [
    "x_val = np.arange(0, np.max(mInt), 1)\n",
    "plt.hist(mInt,bins=200,density=True)\n",
    "plt.plot(x_val, GM2.weights_[0]*norm.pdf(x_val, GM2.means_[0][0], math.sqrt(GM2.covariances_[0][0]))+GM2.weights_[1]*norm.pdf(x_val, GM2.means_[1][0], math.sqrt(GM2.covariances_[1][0])))\n",
    "plt.show()"
   ]
  },
  {
   "cell_type": "code",
   "execution_count": 10,
   "id": "e6391a5d",
   "metadata": {},
   "outputs": [
    {
     "name": "stdout",
     "output_type": "stream",
     "text": [
      "0.6650762184168093\n",
      "0.282721426129856\n",
      "0.05220235545333478\n"
     ]
    },
    {
     "data": {
      "image/png": "[encoded data removed]",
      "text/plain": [
       "<Figure size 640x480 with 1 Axes>"
      ]
     },
     "metadata": {},
     "output_type": "display_data"
    }
   ],
   "source": [
    "from sklearn.mixture import GaussianMixture\n",
    "GM3 = GaussianMixture(n_components=3).fit(mInt.reshape(-1,1))\n",
    "GM3m = GM3.means_\n",
    "GM3cov = GM3.covariances_\n",
    "plt.hist(mInt,bins=200,density=True)\n",
    "x_val = np.arange(0, np.max(mInt), 1)\n",
    "i = 0\n",
    "while i < GM3.means_.shape[0]:\n",
    "    w = GM3.weights_[i]\n",
    "    print(w)\n",
    "    m = GM3.means_[i][0]\n",
    "    v = math.sqrt(GM3.covariances_[i][0])\n",
    "    plt.plot(x_val, w*norm.pdf(x_val, m, v))\n",
    "    i = i+1\n",
    "plt.show()"
   ]
  },
  {
   "cell_type": "code",
   "execution_count": 11,
   "id": "da34ed6f",
   "metadata": {},
   "outputs": [
    {
     "data": {
      "image/png": "[encoded data removed]",
      "text/plain": [
       "<Figure size 640x480 with 1 Axes>"
      ]
     },
     "metadata": {},
     "output_type": "display_data"
    }
   ],
   "source": [
    "x_val = np.arange(0, np.max(mInt), 1)\n",
    "plt.hist(mInt,bins=200,density=True)\n",
    "plt.plot(x_val, GM3.weights_[0]*norm.pdf(x_val, GM3.means_[0][0], math.sqrt(GM3.covariances_[0][0]))+GM3.weights_[1]*norm.pdf(x_val, GM3.means_[1][0], math.sqrt(GM3.covariances_[1][0])))\n",
    "plt.show()"
   ]
  },
  {
   "cell_type": "code",
   "execution_count": 12,
   "id": "5c7fca0d",
   "metadata": {},
   "outputs": [
    {
     "data": {
      "text/html": [
       "<div>\n",
       "<style scoped>\n",
       "    .dataframe tbody tr th:only-of-type {\n",
       "        vertical-align: middle;\n",
       "    }\n",
       "\n",
       "    .dataframe tbody tr th {\n",
       "        vertical-align: top;\n",
       "    }\n",
       "\n",
       "    .dataframe thead th {\n",
       "        text-align: right;\n",
       "    }\n",
       "</style>\n",
       "<table border=\"1\" class=\"dataframe\">\n",
       "  <thead>\n",
       "    <tr style=\"text-align: right;\">\n",
       "      <th></th>\n",
       "      <th>Unnamed: 0</th>\n",
       "      <th>label</th>\n",
       "      <th>bbox-0_GFP</th>\n",
       "      <th>bbox-1_GFP</th>\n",
       "      <th>bbox-2_GFP</th>\n",
       "      <th>bbox-3_GFP</th>\n",
       "      <th>intensity_max_GFP</th>\n",
       "      <th>intensity_min_GFP</th>\n",
       "      <th>intensity_mean_GFP</th>\n",
       "      <th>measure_median_GFP</th>\n",
       "      <th>...</th>\n",
       "      <th>bbox-2_AB</th>\n",
       "      <th>bbox-3_AB</th>\n",
       "      <th>intensity_max_AB</th>\n",
       "      <th>intensity_min_AB</th>\n",
       "      <th>intensity_mean_AB</th>\n",
       "      <th>measure_median_AB</th>\n",
       "      <th>NDID</th>\n",
       "      <th>CID</th>\n",
       "      <th>G2_GFP</th>\n",
       "      <th>G3_GFP</th>\n",
       "    </tr>\n",
       "  </thead>\n",
       "  <tbody>\n",
       "    <tr>\n",
       "      <th>0</th>\n",
       "      <td>0</td>\n",
       "      <td>1</td>\n",
       "      <td>1371</td>\n",
       "      <td>789</td>\n",
       "      <td>1694</td>\n",
       "      <td>1097</td>\n",
       "      <td>131.0</td>\n",
       "      <td>92.0</td>\n",
       "      <td>110.967443</td>\n",
       "      <td>111.0</td>\n",
       "      <td>...</td>\n",
       "      <td>1694</td>\n",
       "      <td>1097</td>\n",
       "      <td>201.0</td>\n",
       "      <td>103.0</td>\n",
       "      <td>136.116352</td>\n",
       "      <td>134.0</td>\n",
       "      <td>0</td>\n",
       "      <td>1</td>\n",
       "      <td>0</td>\n",
       "      <td>0</td>\n",
       "    </tr>\n",
       "    <tr>\n",
       "      <th>1</th>\n",
       "      <td>1</td>\n",
       "      <td>2</td>\n",
       "      <td>755</td>\n",
       "      <td>536</td>\n",
       "      <td>1086</td>\n",
       "      <td>906</td>\n",
       "      <td>131.0</td>\n",
       "      <td>92.0</td>\n",
       "      <td>111.605168</td>\n",
       "      <td>111.0</td>\n",
       "      <td>...</td>\n",
       "      <td>1086</td>\n",
       "      <td>906</td>\n",
       "      <td>198.0</td>\n",
       "      <td>107.0</td>\n",
       "      <td>141.408126</td>\n",
       "      <td>140.0</td>\n",
       "      <td>0</td>\n",
       "      <td>2</td>\n",
       "      <td>0</td>\n",
       "      <td>0</td>\n",
       "    </tr>\n",
       "    <tr>\n",
       "      <th>2</th>\n",
       "      <td>2</td>\n",
       "      <td>3</td>\n",
       "      <td>1831</td>\n",
       "      <td>1320</td>\n",
       "      <td>2048</td>\n",
       "      <td>1589</td>\n",
       "      <td>147.0</td>\n",
       "      <td>94.0</td>\n",
       "      <td>119.543002</td>\n",
       "      <td>119.0</td>\n",
       "      <td>...</td>\n",
       "      <td>2048</td>\n",
       "      <td>1589</td>\n",
       "      <td>227.0</td>\n",
       "      <td>111.0</td>\n",
       "      <td>150.321190</td>\n",
       "      <td>147.0</td>\n",
       "      <td>0</td>\n",
       "      <td>3</td>\n",
       "      <td>0</td>\n",
       "      <td>1</td>\n",
       "    </tr>\n",
       "    <tr>\n",
       "      <th>3</th>\n",
       "      <td>3</td>\n",
       "      <td>4</td>\n",
       "      <td>178</td>\n",
       "      <td>805</td>\n",
       "      <td>453</td>\n",
       "      <td>1229</td>\n",
       "      <td>205.0</td>\n",
       "      <td>93.0</td>\n",
       "      <td>115.686093</td>\n",
       "      <td>114.0</td>\n",
       "      <td>...</td>\n",
       "      <td>453</td>\n",
       "      <td>1229</td>\n",
       "      <td>240.0</td>\n",
       "      <td>111.0</td>\n",
       "      <td>141.422976</td>\n",
       "      <td>140.0</td>\n",
       "      <td>0</td>\n",
       "      <td>4</td>\n",
       "      <td>0</td>\n",
       "      <td>0</td>\n",
       "    </tr>\n",
       "    <tr>\n",
       "      <th>4</th>\n",
       "      <td>4</td>\n",
       "      <td>5</td>\n",
       "      <td>1481</td>\n",
       "      <td>1146</td>\n",
       "      <td>1719</td>\n",
       "      <td>1361</td>\n",
       "      <td>242.0</td>\n",
       "      <td>95.0</td>\n",
       "      <td>148.879309</td>\n",
       "      <td>151.0</td>\n",
       "      <td>...</td>\n",
       "      <td>1719</td>\n",
       "      <td>1361</td>\n",
       "      <td>452.0</td>\n",
       "      <td>108.0</td>\n",
       "      <td>229.511708</td>\n",
       "      <td>242.0</td>\n",
       "      <td>0</td>\n",
       "      <td>5</td>\n",
       "      <td>1</td>\n",
       "      <td>1</td>\n",
       "    </tr>\n",
       "  </tbody>\n",
       "</table>\n",
       "<p>5 rows × 22 columns</p>\n",
       "</div>"
      ],
      "text/plain": [
       "   Unnamed: 0  label  bbox-0_GFP  bbox-1_GFP  bbox-2_GFP  bbox-3_GFP  \\\n",
       "0           0      1        1371         789        1694        1097   \n",
       "1           1      2         755         536        1086         906   \n",
       "2           2      3        1831        1320        2048        1589   \n",
       "3           3      4         178         805         453        1229   \n",
       "4           4      5        1481        1146        1719        1361   \n",
       "\n",
       "   intensity_max_GFP  intensity_min_GFP  intensity_mean_GFP  \\\n",
       "0              131.0               92.0          110.967443   \n",
       "1              131.0               92.0          111.605168   \n",
       "2              147.0               94.0          119.543002   \n",
       "3              205.0               93.0          115.686093   \n",
       "4              242.0               95.0          148.879309   \n",
       "\n",
       "   measure_median_GFP  ...  bbox-2_AB  bbox-3_AB  intensity_max_AB  \\\n",
       "0               111.0  ...       1694       1097             201.0   \n",
       "1               111.0  ...       1086        906             198.0   \n",
       "2               119.0  ...       2048       1589             227.0   \n",
       "3               114.0  ...        453       1229             240.0   \n",
       "4               151.0  ...       1719       1361             452.0   \n",
       "\n",
       "   intensity_min_AB  intensity_mean_AB  measure_median_AB  NDID  CID  G2_GFP  \\\n",
       "0             103.0         136.116352              134.0     0    1       0   \n",
       "1             107.0         141.408126              140.0     0    2       0   \n",
       "2             111.0         150.321190              147.0     0    3       0   \n",
       "3             111.0         141.422976              140.0     0    4       0   \n",
       "4             108.0         229.511708              242.0     0    5       1   \n",
       "\n",
       "   G3_GFP  \n",
       "0       0  \n",
       "1       0  \n",
       "2       1  \n",
       "3       0  \n",
       "4       1  \n",
       "\n",
       "[5 rows x 22 columns]"
      ]
     },
     "execution_count": 12,
     "metadata": {},
     "output_type": "execute_result"
    }
   ],
   "source": [
    "cdf[\"G2_GFP\"] = GM2.predict(mInt.reshape(-1,1))\n",
    "cdf[\"G3_GFP\"] = GM3.predict(mInt.reshape(-1,1))\n",
    "cdf.head()"
   ]
  },
  {
   "cell_type": "code",
   "execution_count": 13,
   "id": "7fb0d9ba",
   "metadata": {},
   "outputs": [
    {
     "data": {
      "image/png": "[encoded data removed]",
      "text/plain": [
       "<Figure size 640x480 with 1 Axes>"
      ]
     },
     "metadata": {},
     "output_type": "display_data"
    }
   ],
   "source": [
    "from sklearn.mixture import GaussianMixture\n",
    "GM2AB = GaussianMixture(n_components=2).fit(ABmInt.reshape(-1,1))\n",
    "GM2ABm = GM2AB.means_\n",
    "GM2ABcov = GM2AB.covariances_\n",
    "plt.hist(ABmInt,bins=100,density=True)\n",
    "x_val = np.arange(0, np.max(ABmInt), 1)\n",
    "i = 0\n",
    "while i < GM2AB.means_.shape[0]:\n",
    "    w = GM2AB.weights_[i]\n",
    "    m = GM2AB.means_[i][0]\n",
    "    v = math.sqrt(GM2AB.covariances_[i][0])\n",
    "    plt.plot(x_val, w*norm.pdf(x_val, m, v))\n",
    "    i = i+1\n",
    "plt.show()"
   ]
  },
  {
   "cell_type": "code",
   "execution_count": 14,
   "id": "82bc164c",
   "metadata": {},
   "outputs": [
    {
     "data": {
      "image/png": "[encoded data removed]",
      "text/plain": [
       "<Figure size 640x480 with 1 Axes>"
      ]
     },
     "metadata": {},
     "output_type": "display_data"
    }
   ],
   "source": [
    "from sklearn.mixture import GaussianMixture\n",
    "GM3AB = GaussianMixture(n_components=3).fit(ABmInt.reshape(-1,1))\n",
    "GM3ABm = GM3AB.means_\n",
    "GM3ABcov = GM3AB.covariances_\n",
    "plt.hist(ABmInt,bins=100,density=True)\n",
    "x_val = np.arange(0, np.max(ABmInt), 1)\n",
    "i = 0\n",
    "while i < GM3AB.means_.shape[0]:\n",
    "    w = GM3AB.weights_[i]\n",
    "    m = GM3AB.means_[i][0]\n",
    "    v = math.sqrt(GM3AB.covariances_[i][0])\n",
    "    plt.plot(x_val, w*norm.pdf(x_val, m, v))\n",
    "    i = i+1\n",
    "plt.show()"
   ]
  },
  {
   "cell_type": "code",
   "execution_count": 15,
   "id": "5a23b593",
   "metadata": {},
   "outputs": [
    {
     "data": {
      "text/html": [
       "<div>\n",
       "<style scoped>\n",
       "    .dataframe tbody tr th:only-of-type {\n",
       "        vertical-align: middle;\n",
       "    }\n",
       "\n",
       "    .dataframe tbody tr th {\n",
       "        vertical-align: top;\n",
       "    }\n",
       "\n",
       "    .dataframe thead th {\n",
       "        text-align: right;\n",
       "    }\n",
       "</style>\n",
       "<table border=\"1\" class=\"dataframe\">\n",
       "  <thead>\n",
       "    <tr style=\"text-align: right;\">\n",
       "      <th></th>\n",
       "      <th>Unnamed: 0</th>\n",
       "      <th>label</th>\n",
       "      <th>bbox-0_GFP</th>\n",
       "      <th>bbox-1_GFP</th>\n",
       "      <th>bbox-2_GFP</th>\n",
       "      <th>bbox-3_GFP</th>\n",
       "      <th>intensity_max_GFP</th>\n",
       "      <th>intensity_min_GFP</th>\n",
       "      <th>intensity_mean_GFP</th>\n",
       "      <th>measure_median_GFP</th>\n",
       "      <th>...</th>\n",
       "      <th>intensity_max_AB</th>\n",
       "      <th>intensity_min_AB</th>\n",
       "      <th>intensity_mean_AB</th>\n",
       "      <th>measure_median_AB</th>\n",
       "      <th>NDID</th>\n",
       "      <th>CID</th>\n",
       "      <th>G2_GFP</th>\n",
       "      <th>G3_GFP</th>\n",
       "      <th>G2_AB</th>\n",
       "      <th>G3_AB</th>\n",
       "    </tr>\n",
       "  </thead>\n",
       "  <tbody>\n",
       "    <tr>\n",
       "      <th>0</th>\n",
       "      <td>0</td>\n",
       "      <td>1</td>\n",
       "      <td>1371</td>\n",
       "      <td>789</td>\n",
       "      <td>1694</td>\n",
       "      <td>1097</td>\n",
       "      <td>131.0</td>\n",
       "      <td>92.0</td>\n",
       "      <td>110.967443</td>\n",
       "      <td>111.0</td>\n",
       "      <td>...</td>\n",
       "      <td>201.0</td>\n",
       "      <td>103.0</td>\n",
       "      <td>136.116352</td>\n",
       "      <td>134.0</td>\n",
       "      <td>0</td>\n",
       "      <td>1</td>\n",
       "      <td>0</td>\n",
       "      <td>0</td>\n",
       "      <td>0</td>\n",
       "      <td>1</td>\n",
       "    </tr>\n",
       "    <tr>\n",
       "      <th>1</th>\n",
       "      <td>1</td>\n",
       "      <td>2</td>\n",
       "      <td>755</td>\n",
       "      <td>536</td>\n",
       "      <td>1086</td>\n",
       "      <td>906</td>\n",
       "      <td>131.0</td>\n",
       "      <td>92.0</td>\n",
       "      <td>111.605168</td>\n",
       "      <td>111.0</td>\n",
       "      <td>...</td>\n",
       "      <td>198.0</td>\n",
       "      <td>107.0</td>\n",
       "      <td>141.408126</td>\n",
       "      <td>140.0</td>\n",
       "      <td>0</td>\n",
       "      <td>2</td>\n",
       "      <td>0</td>\n",
       "      <td>0</td>\n",
       "      <td>0</td>\n",
       "      <td>1</td>\n",
       "    </tr>\n",
       "    <tr>\n",
       "      <th>2</th>\n",
       "      <td>2</td>\n",
       "      <td>3</td>\n",
       "      <td>1831</td>\n",
       "      <td>1320</td>\n",
       "      <td>2048</td>\n",
       "      <td>1589</td>\n",
       "      <td>147.0</td>\n",
       "      <td>94.0</td>\n",
       "      <td>119.543002</td>\n",
       "      <td>119.0</td>\n",
       "      <td>...</td>\n",
       "      <td>227.0</td>\n",
       "      <td>111.0</td>\n",
       "      <td>150.321190</td>\n",
       "      <td>147.0</td>\n",
       "      <td>0</td>\n",
       "      <td>3</td>\n",
       "      <td>0</td>\n",
       "      <td>1</td>\n",
       "      <td>0</td>\n",
       "      <td>1</td>\n",
       "    </tr>\n",
       "    <tr>\n",
       "      <th>3</th>\n",
       "      <td>3</td>\n",
       "      <td>4</td>\n",
       "      <td>178</td>\n",
       "      <td>805</td>\n",
       "      <td>453</td>\n",
       "      <td>1229</td>\n",
       "      <td>205.0</td>\n",
       "      <td>93.0</td>\n",
       "      <td>115.686093</td>\n",
       "      <td>114.0</td>\n",
       "      <td>...</td>\n",
       "      <td>240.0</td>\n",
       "      <td>111.0</td>\n",
       "      <td>141.422976</td>\n",
       "      <td>140.0</td>\n",
       "      <td>0</td>\n",
       "      <td>4</td>\n",
       "      <td>0</td>\n",
       "      <td>0</td>\n",
       "      <td>0</td>\n",
       "      <td>1</td>\n",
       "    </tr>\n",
       "    <tr>\n",
       "      <th>4</th>\n",
       "      <td>4</td>\n",
       "      <td>5</td>\n",
       "      <td>1481</td>\n",
       "      <td>1146</td>\n",
       "      <td>1719</td>\n",
       "      <td>1361</td>\n",
       "      <td>242.0</td>\n",
       "      <td>95.0</td>\n",
       "      <td>148.879309</td>\n",
       "      <td>151.0</td>\n",
       "      <td>...</td>\n",
       "      <td>452.0</td>\n",
       "      <td>108.0</td>\n",
       "      <td>229.511708</td>\n",
       "      <td>242.0</td>\n",
       "      <td>0</td>\n",
       "      <td>5</td>\n",
       "      <td>1</td>\n",
       "      <td>1</td>\n",
       "      <td>1</td>\n",
       "      <td>2</td>\n",
       "    </tr>\n",
       "  </tbody>\n",
       "</table>\n",
       "<p>5 rows × 24 columns</p>\n",
       "</div>"
      ],
      "text/plain": [
       "   Unnamed: 0  label  bbox-0_GFP  bbox-1_GFP  bbox-2_GFP  bbox-3_GFP  \\\n",
       "0           0      1        1371         789        1694        1097   \n",
       "1           1      2         755         536        1086         906   \n",
       "2           2      3        1831        1320        2048        1589   \n",
       "3           3      4         178         805         453        1229   \n",
       "4           4      5        1481        1146        1719        1361   \n",
       "\n",
       "   intensity_max_GFP  intensity_min_GFP  intensity_mean_GFP  \\\n",
       "0              131.0               92.0          110.967443   \n",
       "1              131.0               92.0          111.605168   \n",
       "2              147.0               94.0          119.543002   \n",
       "3              205.0               93.0          115.686093   \n",
       "4              242.0               95.0          148.879309   \n",
       "\n",
       "   measure_median_GFP  ...  intensity_max_AB  intensity_min_AB  \\\n",
       "0               111.0  ...             201.0             103.0   \n",
       "1               111.0  ...             198.0             107.0   \n",
       "2               119.0  ...             227.0             111.0   \n",
       "3               114.0  ...             240.0             111.0   \n",
       "4               151.0  ...             452.0             108.0   \n",
       "\n",
       "   intensity_mean_AB  measure_median_AB  NDID  CID  G2_GFP  G3_GFP  G2_AB  \\\n",
       "0         136.116352              134.0     0    1       0       0      0   \n",
       "1         141.408126              140.0     0    2       0       0      0   \n",
       "2         150.321190              147.0     0    3       0       1      0   \n",
       "3         141.422976              140.0     0    4       0       0      0   \n",
       "4         229.511708              242.0     0    5       1       1      1   \n",
       "\n",
       "   G3_AB  \n",
       "0      1  \n",
       "1      1  \n",
       "2      1  \n",
       "3      1  \n",
       "4      2  \n",
       "\n",
       "[5 rows x 24 columns]"
      ]
     },
     "execution_count": 15,
     "metadata": {},
     "output_type": "execute_result"
    }
   ],
   "source": [
    "cdf[\"G2_AB\"] = GM2AB.predict(ABmInt.reshape(-1,1))\n",
    "cdf[\"G3_AB\"] = GM3AB.predict(ABmInt.reshape(-1,1))\n",
    "cdf.head()"
   ]
  },
  {
   "cell_type": "code",
   "execution_count": 16,
   "id": "83789c43",
   "metadata": {},
   "outputs": [
    {
     "data": {
      "text/plain": [
       "G2_GFP\n",
       "0    113.299043\n",
       "1    156.735735\n",
       "Name: intensity_mean_GFP, dtype: float64"
      ]
     },
     "execution_count": 16,
     "metadata": {},
     "output_type": "execute_result"
    }
   ],
   "source": [
    "cdf.groupby(\"G2_GFP\")[\"intensity_mean_GFP\"].mean()"
   ]
  },
  {
   "cell_type": "code",
   "execution_count": 17,
   "id": "c7931386",
   "metadata": {},
   "outputs": [
    {
     "data": {
      "text/plain": [
       "Group1\n",
       "FY    137.946171\n",
       "TP    150.815129\n",
       "X     168.541284\n",
       "Name: intensity_mean_GFP, dtype: float64"
      ]
     },
     "execution_count": 17,
     "metadata": {},
     "output_type": "execute_result"
    }
   ],
   "source": [
    "includeGFP = 1\n",
    "GFPdf = cdf[cdf[\"G2_GFP\"]==includeGFP]\n",
    "GFPdf = GFPdf.join(idf.set_index('NDID'), on=\"NDID\", rsuffix=\"_\")\n",
    "GFPdf.groupby(\"Group1\")[\"intensity_mean_GFP\"].mean()"
   ]
  },
  {
   "cell_type": "code",
   "execution_count": 18,
   "id": "e3490d4b",
   "metadata": {},
   "outputs": [
    {
     "data": {
      "text/plain": [
       "Group1\n",
       "FY    0.879623\n",
       "TP    0.755788\n",
       "X     0.590835\n",
       "Name: intensity_mean_GFP, dtype: float64"
      ]
     },
     "execution_count": 18,
     "metadata": {},
     "output_type": "execute_result"
    }
   ],
   "source": [
    "includeGFP = 0\n",
    "GFPdf = cdf[cdf[\"G2_GFP\"]==includeGFP]\n",
    "GFPdf = GFPdf.join(idf.set_index('NDID'), on=\"NDID\", rsuffix=\"_\")\n",
    "GFPdf.groupby(\"Group1\")[\"intensity_mean_GFP\"].count()/cdf.join(idf.set_index('NDID'), on=\"NDID\", rsuffix=\"_\").groupby(\"Group1\")[\"intensity_mean_GFP\"].count()"
   ]
  },
  {
   "cell_type": "code",
   "execution_count": 19,
   "id": "356963d9",
   "metadata": {},
   "outputs": [
    {
     "data": {
      "text/plain": [
       "G2_AB\n",
       "0    153.823111\n",
       "1    281.041101\n",
       "Name: intensity_mean_AB, dtype: float64"
      ]
     },
     "execution_count": 19,
     "metadata": {},
     "output_type": "execute_result"
    }
   ],
   "source": [
    "cdf.groupby(\"G2_AB\")[\"intensity_mean_AB\"].mean()"
   ]
  },
  {
   "cell_type": "code",
   "execution_count": 20,
   "id": "c0c143a8",
   "metadata": {},
   "outputs": [
    {
     "data": {
      "text/plain": [
       "Group1\n",
       "FY    145.816090\n",
       "TP    162.301638\n",
       "X     155.192640\n",
       "Name: intensity_mean_AB, dtype: float64"
      ]
     },
     "execution_count": 20,
     "metadata": {},
     "output_type": "execute_result"
    }
   ],
   "source": [
    "includeGFP = 0\n",
    "GFPdf = cdf[cdf[\"G2_AB\"]==includeGFP]\n",
    "GFPdf = GFPdf.join(idf.set_index('NDID'), on=\"NDID\", rsuffix=\"_\")\n",
    "GFPdf.groupby(\"Group1\")[\"intensity_mean_AB\"].mean()"
   ]
  },
  {
   "cell_type": "code",
   "execution_count": 21,
   "id": "62e034f3",
   "metadata": {},
   "outputs": [
    {
     "data": {
      "text/plain": [
       "Group1\n",
       "FY    0.145931\n",
       "TP    0.266105\n",
       "X     0.317516\n",
       "Name: intensity_mean_AB, dtype: float64"
      ]
     },
     "execution_count": 21,
     "metadata": {},
     "output_type": "execute_result"
    }
   ],
   "source": [
    "includeGFP = 1\n",
    "GFPdf = cdf[cdf[\"G2_AB\"]==includeGFP]\n",
    "GFPdf = GFPdf.join(idf.set_index('NDID'), on=\"NDID\", rsuffix=\"_\")\n",
    "GFPdf.groupby(\"Group1\")[\"intensity_mean_AB\"].count()/cdf.join(idf.set_index('NDID'), on=\"NDID\", rsuffix=\"_\").groupby(\"Group1\")[\"intensity_mean_AB\"].count()"
   ]
  },
  {
   "cell_type": "code",
   "execution_count": 22,
   "id": "66ad8440",
   "metadata": {},
   "outputs": [
    {
     "data": {
      "text/plain": [
       "<matplotlib.collections.PathCollection at 0x1f8d16053d0>"
      ]
     },
     "execution_count": 22,
     "metadata": {},
     "output_type": "execute_result"
    },
    {
     "data": {
      "image/png": "[encoded data removed]",
      "text/plain": [
       "<Figure size 640x480 with 1 Axes>"
      ]
     },
     "metadata": {},
     "output_type": "display_data"
    }
   ],
   "source": [
    "Xlin = cdf[\"intensity_mean_GFP\"][cdf[\"G2_GFP\"]==1][cdf[\"G2_AB\"]==0].values\n",
    "Ylin = cdf[\"intensity_mean_AB\"][cdf[\"G2_GFP\"]==1][cdf[\"G2_AB\"]==0].values\n",
    "plt.scatter(Xlin, Ylin)"
   ]
  },
  {
   "cell_type": "code",
   "execution_count": 23,
   "id": "5dc653d7",
   "metadata": {},
   "outputs": [
    {
     "name": "stdout",
     "output_type": "stream",
     "text": [
      "X: 0.006142111880483081\n",
      "TP: 0.0010728277547691345\n",
      "FY: 0.0010809974370269426\n"
     ]
    }
   ],
   "source": [
    "combdf = cdf.join(idf.set_index('NDID'), on=\"NDID\", rsuffix=\"_\")\n",
    "combdf = combdf[combdf[\"G2_GFP\"]==1]\n",
    "combdf = combdf[combdf[\"G2_AB\"]==0]\n",
    "from sklearn.linear_model import LinearRegression\n",
    "for g in combdf[\"Group1\"].unique():\n",
    "    Xlg = combdf[\"intensity_mean_GFP\"][combdf[\"Group1\"]==g].values.reshape(-1, 1)\n",
    "    Ylg = combdf[\"intensity_mean_AB\"][combdf[\"Group1\"]==g].values.reshape(-1, 1)\n",
    "    reg = LinearRegression().fit(Xlg, Ylg)\n",
    "    score = reg.score(Xlg, Ylg)\n",
    "    print(g+\": \"+str(score))\n"
   ]
  },
  {
   "cell_type": "code",
   "execution_count": 24,
   "id": "bfc98ab5",
   "metadata": {},
   "outputs": [
    {
     "name": "stdout",
     "output_type": "stream",
     "text": [
      "X: [[0.04309699]]\n",
      "TP: [[0.0313362]]\n",
      "FY: [[0.05444933]]\n"
     ]
    },
    {
     "data": {
      "image/png": "[encoded data removed]",
      "text/plain": [
       "<Figure size 640x480 with 1 Axes>"
      ]
     },
     "metadata": {},
     "output_type": "display_data"
    }
   ],
   "source": [
    "combdf = cdf.join(idf.set_index('NDID'), on=\"NDID\", rsuffix=\"_\")\n",
    "combdf = combdf[combdf[\"G2_GFP\"]==1]\n",
    "combdf = combdf[combdf[\"G2_AB\"]==0]\n",
    "from sklearn.linear_model import LinearRegression\n",
    "for g in combdf[\"Group1\"].unique():\n",
    "    Xlg = combdf[\"intensity_mean_GFP\"][combdf[\"Group1\"]==g].values\n",
    "    Ylg = combdf[\"intensity_mean_AB\"][combdf[\"Group1\"]==g].values\n",
    "    plt.scatter(Xlg,Ylg)\n",
    "    reg = LinearRegression().fit(Xlg.reshape(-1, 1), Ylg.reshape(-1, 1))\n",
    "    xval = np.arange(combdf[\"intensity_mean_GFP\"].min(),combdf[\"intensity_mean_GFP\"].max(),1)\n",
    "    plt.plot(xval, xval*float(reg.coef_)+reg.intercept_)\n",
    "    print(g+\": \"+str(reg.coef_))\n",
    "plt.legend(combdf[\"Group1\"].unique())\n",
    "plt.show()\n"
   ]
  },
  {
   "cell_type": "code",
   "execution_count": 25,
   "id": "a159f5f5",
   "metadata": {},
   "outputs": [
    {
     "data": {
      "text/plain": [
       "G3_GFP\n",
       "0    112.466862\n",
       "1    132.139881\n",
       "2    238.077912\n",
       "Name: measure_median_GFP, dtype: float64"
      ]
     },
     "execution_count": 25,
     "metadata": {},
     "output_type": "execute_result"
    }
   ],
   "source": [
    "cdf.groupby(\"G3_GFP\")[\"measure_median_GFP\"].mean()"
   ]
  },
  {
   "cell_type": "code",
   "execution_count": 26,
   "id": "44aa8d39",
   "metadata": {},
   "outputs": [
    {
     "data": {
      "text/plain": [
       "G3_AB\n",
       "0    423.999263\n",
       "1    150.348110\n",
       "2    232.011310\n",
       "Name: measure_median_AB, dtype: float64"
      ]
     },
     "execution_count": 26,
     "metadata": {},
     "output_type": "execute_result"
    }
   ],
   "source": [
    "cdf.groupby(\"G3_AB\")[\"measure_median_AB\"].mean()"
   ]
  },
  {
   "cell_type": "code",
   "execution_count": 27,
   "id": "249e58e7",
   "metadata": {},
   "outputs": [
    {
     "data": {
      "text/plain": [
       "Group1  G3_GFP\n",
       "FY      0         0.834374\n",
       "        1         0.157940\n",
       "        2         0.007686\n",
       "TP      0         0.696600\n",
       "        1         0.265136\n",
       "        2         0.038264\n",
       "X       0         0.527357\n",
       "        1         0.364467\n",
       "        2         0.108176\n",
       "dtype: float64"
      ]
     },
     "execution_count": 27,
     "metadata": {},
     "output_type": "execute_result"
    }
   ],
   "source": [
    "GFPdf = cdf.join(idf.set_index('NDID'), on=\"NDID\", rsuffix=\"_\")\n",
    "GFPdf.groupby([\"Group1\",\"G3_GFP\"])[\"intensity_mean_GFP\"].count()/cdf.join(idf.set_index('NDID'), on=\"NDID\", rsuffix=\"_\").groupby(\"Group1\")[\"intensity_mean_AB\"].count()"
   ]
  },
  {
   "cell_type": "code",
   "execution_count": 28,
   "id": "36e3931e",
   "metadata": {},
   "outputs": [
    {
     "data": {
      "text/plain": [
       "Group1\n",
       "FY    41636\n",
       "TP    41292\n",
       "X     31948\n",
       "Name: intensity_mean_AB, dtype: int64"
      ]
     },
     "execution_count": 28,
     "metadata": {},
     "output_type": "execute_result"
    }
   ],
   "source": [
    "cdf.join(idf.set_index('NDID'), on=\"NDID\", rsuffix=\"_\").groupby(\"Group1\")[\"intensity_mean_AB\"].count()"
   ]
  },
  {
   "cell_type": "code",
   "execution_count": 29,
   "id": "d1ba1d0d",
   "metadata": {},
   "outputs": [
    {
     "data": {
      "text/plain": [
       "Group1  G3_GFP\n",
       "FY      0         34740\n",
       "        1          6576\n",
       "        2           320\n",
       "TP      0         28764\n",
       "        1         10948\n",
       "        2          1580\n",
       "X       0         16848\n",
       "        1         11644\n",
       "        2          3456\n",
       "Name: intensity_mean_GFP, dtype: int64"
      ]
     },
     "execution_count": 29,
     "metadata": {},
     "output_type": "execute_result"
    }
   ],
   "source": [
    "GFPdf = cdf.join(idf.set_index('NDID'), on=\"NDID\", rsuffix=\"_\")\n",
    "GFPdf.groupby([\"Group1\",\"G3_GFP\"])[\"intensity_mean_GFP\"].count()"
   ]
  },
  {
   "cell_type": "code",
   "execution_count": 30,
   "id": "8d208dc1",
   "metadata": {},
   "outputs": [
    {
     "data": {
      "text/plain": [
       "Group1  G3_GFP\n",
       "FY      0         34740\n",
       "        1          6576\n",
       "        2           320\n",
       "TP      0         28764\n",
       "        1         10948\n",
       "        2          1580\n",
       "X       0         16848\n",
       "        1         11644\n",
       "        2          3456\n",
       "Name: intensity_mean_GFP, dtype: int64"
      ]
     },
     "execution_count": 30,
     "metadata": {},
     "output_type": "execute_result"
    }
   ],
   "source": [
    "GFPdf.groupby([\"Group1\",\"G3_GFP\"])[\"intensity_mean_GFP\"].count()"
   ]
  },
  {
   "cell_type": "code",
   "execution_count": 31,
   "id": "0a028323",
   "metadata": {},
   "outputs": [
    {
     "data": {
      "text/plain": [
       "Group1  G3_AB\n",
       "FY      0        0.019022\n",
       "        1        0.833606\n",
       "        2        0.147372\n",
       "TP      0        0.052698\n",
       "        1        0.685266\n",
       "        2        0.262036\n",
       "X       0        0.079504\n",
       "        1        0.655816\n",
       "        2        0.264680\n",
       "dtype: float64"
      ]
     },
     "execution_count": 31,
     "metadata": {},
     "output_type": "execute_result"
    }
   ],
   "source": [
    "GFPdf.groupby([\"Group1\",\"G3_AB\"])[\"intensity_mean_GFP\"].count()/cdf.join(idf.set_index('NDID'), on=\"NDID\", rsuffix=\"_\").groupby(\"Group1\")[\"intensity_mean_AB\"].count()"
   ]
  },
  {
   "cell_type": "code",
   "execution_count": 32,
   "id": "e042ec01",
   "metadata": {},
   "outputs": [],
   "source": [
    "df = cdf.join(idf.set_index('NDID'), on=\"NDID\", rsuffix=\"_\")"
   ]
  },
  {
   "cell_type": "code",
   "execution_count": null,
   "id": "5d940f1b",
   "metadata": {},
   "outputs": [],
   "source": []
  },
  {
   "cell_type": "code",
   "execution_count": 33,
   "id": "4b6890c3",
   "metadata": {},
   "outputs": [],
   "source": [
    "dfGFP = df[df[\"G3_GFP\"]==2]\n",
    "dfAB = df[df[\"G3_AB\"]==2]"
   ]
  },
  {
   "cell_type": "code",
   "execution_count": 34,
   "id": "8b684af7",
   "metadata": {},
   "outputs": [
    {
     "name": "stdout",
     "output_type": "stream",
     "text": [
      "PathPatch6((0.6, 184) ...)\n",
      "PathPatch6((1.6, 181) ...)\n",
      "PathPatch6((2.6, 177.75) ...)\n",
      "1\n",
      "X vs. TP: -2.220446049250313e-16\n",
      "1\n",
      "X vs. FY: -2.220446049250313e-16\n",
      "PathPatch6((0.6, 204) ...)\n",
      "PathPatch6((1.6, 193) ...)\n",
      "PathPatch6((2.6, 198) ...)\n",
      "1\n",
      "X vs. TP: -2.220446049250313e-16\n",
      "1\n",
      "X vs. FY: -2.220446049250313e-16\n"
     ]
    },
    {
     "data": {
      "image/png": "[encoded data removed]",
      "text/plain": [
       "<Figure size 1141.73x708.661 with 6 Axes>"
      ]
     },
     "metadata": {},
     "output_type": "display_data"
    }
   ],
   "source": [
    "sigp = [[\"X\",\"TP\"],[\"X\",\"FY\"]]\n",
    "\n",
    "params = pp.loadparams()\n",
    "#sns.set_palette(sns.color_palette(params[\"Colors\"]))\n",
    "bs = params[\"BarSize\"]\n",
    "ls = params[\"LS\"]\n",
    "fig = plt.figure(constrained_layout=True, figsize=(29*pp.cm,18*pp.cm))\n",
    "subfigs = fig.subfigures(2,3,width_ratios=(2,2,1))\n",
    "axUp = subfigs[0][2].subplots(1, 1, sharey=True)\n",
    "X1 = []\n",
    "Y1 = []\n",
    "CI1 = []\n",
    "maxvs = 0\n",
    "for g in ['X','TP', 'FY']:\n",
    "    X1.append(g)\n",
    "    Y1.append(dfGFP[\"measure_median_GFP\"][dfGFP[\"Group1\"]==g])\n",
    "    CI1.append(1.96*(dfGFP[\"measure_median_GFP\"][dfGFP[\"Group1\"]==g].std())/math.sqrt(len(dfGFP[dfGFP[\"Group1\"]==g])))\n",
    "#axUp.bar(X1,Y1,0.8, yerr = CI1, capsize=4, linewidth=2, edgecolor=\"black\",color=params[\"Colors\"])\n",
    "bplot1 = axUp.boxplot(Y1,widths=0.8,labels=X1, showfliers=False,patch_artist=True)\n",
    "for axis in ['top','bottom','left','right']:\n",
    "    axUp.spines[axis].set_linewidth(ls)\n",
    "    if axis in ['top','right']:\n",
    "        axUp.spines[axis].set_visible(False)\n",
    "colors = params[\"Colors\"]\n",
    "for median in bplot1['medians']:\n",
    "    median.set_color('black')\n",
    "for patch, color in zip(bplot1['boxes'], colors):\n",
    "    print(patch)\n",
    "    patch.set_facecolor(color)\n",
    "axUp.tick_params(width=ls)\n",
    "maxv = axUp.get_ylim()[1]\n",
    "hightind = 0\n",
    "#axUp.set_ylim(ymin=dfGFP[\"intensity_mean_GFP\"].min())\n",
    "bottom, top = axUp.get_ylim()\n",
    "y_range = maxv - bottom\n",
    "#maxv = maxv+y_range*0.2\n",
    "treatmenti = 0\n",
    "for pairs in sigp:\n",
    "    c1 = pairs[0]\n",
    "    ctrli = X1.index(c1)\n",
    "    c2 = pairs[1]\n",
    "    treatmenti = X1.index(c2)\n",
    "    c1dic = {c1:ctrli+1}\n",
    "    c2dic = {c2:treatmenti+1}\n",
    "    diff = ((treatmenti-ctrli)/2)+1\n",
    "    pp.drawsigbars(df, axUp, \"Group1\", \"measure_median_GFP\", c1dic, c2dic, maxv+hightind, y_range, diff)\n",
    "    hightind = hightind + y_range*0.2\n",
    "axUp.set_title(\"GFP\", fontsize=11)\n",
    "axUp.set_title(\"e\", loc=\"left\", fontsize=20, fontweight=\"bold\", pad=15)\n",
    "axUp.set_xlabel(\"Treatment\", fontsize=11)\n",
    "axUp.set_ylabel(\"Median Intensity\", fontsize=11)\n",
    "\n",
    "\n",
    "axLo = subfigs[1][2].subplots(1, 1, sharey=True)\n",
    "X2 = []\n",
    "Y2 = []\n",
    "CI2 = []\n",
    "maxvs = 0\n",
    "for g in ['X','TP', 'FY']:\n",
    "    X2.append(g)\n",
    "    Y2.append(dfAB[\"measure_median_AB\"][dfAB[\"Group1\"]==g])\n",
    "    CI2.append(1.96*(dfAB[\"measure_median_AB\"][dfAB[\"Group1\"]==g].std())/math.sqrt(len(dfAB[dfAB[\"Group1\"]==g])))\n",
    "#axLo.bar(X2,Y2,0.8, yerr = CI2, capsize=4, linewidth=2, edgecolor=\"black\",color=params[\"Colors\"])\n",
    "bplot = axLo.boxplot(Y2,widths=0.8,labels=X2, showfliers=False,patch_artist=True)\n",
    "for axis in ['top','bottom','left','right']:\n",
    "    axLo.spines[axis].set_linewidth(ls)\n",
    "    if axis in ['top','right']:\n",
    "        axLo.spines[axis].set_visible(False)\n",
    "axLo.tick_params(width=ls)\n",
    "#maxv = np.max(np.array(Y2)+np.array(CI2))\n",
    "maxv = (axLo.get_ylim()[1])\n",
    "hightind = 0\n",
    "#axLo.set_ylim(ymin=dfAB[\"intensity_mean_AB\"].min())\n",
    "colors = params[\"Colors\"]\n",
    "for median in bplot['medians']:\n",
    "    median.set_color('black')\n",
    "for patch, color in zip(bplot['boxes'], colors):\n",
    "    print(patch)\n",
    "    patch.set_facecolor(color)\n",
    "bottom, top = axUp.get_ylim()\n",
    "y_range = top - bottom\n",
    "treatmenti = 0\n",
    "for pairs in sigp:\n",
    "    c1 = pairs[0]\n",
    "    ctrli = X2.index(c1)\n",
    "    c2 = pairs[1]\n",
    "    treatmenti = X2.index(c2)\n",
    "    c1dic = {c1:ctrli+1}\n",
    "    c2dic = {c2:treatmenti+1}\n",
    "    diff = ((treatmenti-ctrli)/2)+1\n",
    "    pp.drawsigbars(df, axLo, \"Group1\", \"measure_median_AB\", c1dic, c2dic, maxv+hightind, y_range, diff)\n",
    "    hightind = hightind + y_range*0.2\n",
    "axLo.set_title(\"aSynuclein\", fontsize=11)\n",
    "axLo.set_title(\"f\", loc=\"left\", fontsize=20, fontweight=\"bold\", pad=15)\n",
    "axLo.set_xlabel(\"Treatment\", fontsize=11)\n",
    "axLo.set_ylabel(\"Median Intensity\", fontsize=11)\n",
    "\n",
    "axL1 = subfigs[0][1].subplots(1, 1, sharey=True)\n",
    "x_val = np.arange(0, np.max(mInt), 0.1)\n",
    "i = 0\n",
    "#axL1.hist(mInt,bins=100,density=True,color=params[\"Colors\"][0])\n",
    "while i < GM3.means_.shape[0]:\n",
    "    w = GM3.weights_[i]\n",
    "    m = GM3.means_[i][0]\n",
    "    v = math.sqrt(GM3.covariances_[i][0])\n",
    "    axL1.plot(x_val, w*norm.pdf(x_val, m, v),color=params[\"Colors\"][i])\n",
    "    i = i+1\n",
    "for axis in ['top','bottom','left','right']:\n",
    "    axL1.spines[axis].set_linewidth(ls)\n",
    "    if axis in ['top','right']:\n",
    "        axL1.spines[axis].set_visible(False)\n",
    "axL1.tick_params(width=ls)\n",
    "axL1.set_title(\"GFP - Gaussian Mixture\", fontsize=11)\n",
    "axL1.set_title(\"c\", loc=\"left\", fontsize=20, fontweight=\"bold\", pad=15)\n",
    "axL1.set_xlabel(\"Median Intensity\", fontsize=11)\n",
    "axL1.set_ylabel(\"Probability\", fontsize=11)\n",
    "axL1.set_xlim(xmin=80,xmax=300)\n",
    "\n",
    "axL2 = subfigs[1][1].subplots(1, 1, sharey=True)\n",
    "x_val = np.arange(0, np.max(ABmInt), 1)\n",
    "i = 0\n",
    "#axL2.hist(ABmInt,bins=200,density=True,color=params[\"Colors\"][0])\n",
    "while i < GM3AB.means_.shape[0]:\n",
    "    w = GM3AB.weights_[i]\n",
    "    m = GM3AB.means_[i][0]\n",
    "    v = math.sqrt(GM3AB.covariances_[i][0])\n",
    "    axL2.plot(x_val, w*norm.pdf(x_val, m, v),color=params[\"Colors\"][i])\n",
    "    i = i+1\n",
    "for axis in ['top','bottom','left','right']:\n",
    "    axL2.spines[axis].set_linewidth(ls)\n",
    "    if axis in ['top','right']:\n",
    "        axL2.spines[axis].set_visible(False)\n",
    "axL2.tick_params(width=ls)\n",
    "axL2.set_title(\"aSyn - Gaussian Mixture\", fontsize=11)\n",
    "axL2.set_title(\"d\", loc=\"left\", fontsize=20, fontweight=\"bold\", pad=15)\n",
    "axL2.set_xlabel(\"Median Intensity\", fontsize=11)\n",
    "axL2.set_ylabel(\"Probability\", fontsize=11)\n",
    "axL2.set_xlim(xmax=600)\n",
    "#axL2.set_yticklabels([])\n",
    "\n",
    "\n",
    "axL3 = subfigs[0][0].subplots(1, 1, sharey=True)\n",
    "axL3.hist(mInt,bins=800,color=params[\"Colors\"][0])\n",
    "for axis in ['top','bottom','left','right']:\n",
    "    axL3.spines[axis].set_linewidth(ls)\n",
    "    if axis in ['top','right']:\n",
    "        axL3.spines[axis].set_visible(False)\n",
    "axL3.axvline(dfGFP[\"measure_median_GFP\"].min(), color = 'r')\n",
    "axL3.axvline(dfGFP[\"measure_median_GFP\"].max(), color = 'r',linestyle=\"--\")\n",
    "axL3.tick_params(width=ls)\n",
    "axL3.set_title(\"GFP - Histogram\", fontsize=11)\n",
    "axL3.set_title(\"a\", loc=\"left\", fontsize=20, fontweight=\"bold\", pad=15)\n",
    "axL3.set_xlabel(\"Median Intensity\", fontsize=11)\n",
    "axL3.set_ylabel(\"Cell count\", fontsize=11)\n",
    "axL3.set_xlim(xmin=80,xmax=200)\n",
    "\n",
    "axL4 = subfigs[1][0].subplots(1, 1, sharey=True)\n",
    "axL4.hist(ABmInt,bins=200,color=params[\"Colors\"][0])\n",
    "for axis in ['top','bottom','left','right']:\n",
    "    axL4.spines[axis].set_linewidth(ls)\n",
    "    if axis in ['top','right']:\n",
    "        axL4.spines[axis].set_visible(False)\n",
    "axL4.tick_params(width=ls)\n",
    "axL4.axvline(dfAB[\"measure_median_AB\"].min(), color = 'r')\n",
    "axL4.axvline(dfAB[\"measure_median_AB\"].max(), color = 'r',linestyle=\"--\")\n",
    "axL4.set_title(\"aSyn - Histogram\", fontsize=11)\n",
    "axL4.set_title(\"b\", loc=\"left\", fontsize=20, fontweight=\"bold\", pad=15)\n",
    "axL4.set_xlabel(\"Median Intensity\", fontsize=11)\n",
    "axL4.set_ylabel(\"Cell count\", fontsize=11)\n",
    "axL4.set_xlim(xmax=600)\n",
    "\n",
    "\n",
    "plt.show()"
   ]
  },
  {
   "cell_type": "code",
   "execution_count": 35,
   "id": "48321083",
   "metadata": {},
   "outputs": [
    {
     "data": {
      "text/plain": [
       "Group1  G3_GFP\n",
       "FY      0         34740\n",
       "        1          6576\n",
       "        2           320\n",
       "TP      0         28764\n",
       "        1         10948\n",
       "        2          1580\n",
       "X       0         16848\n",
       "        1         11644\n",
       "        2          3456\n",
       "Name: measure_median_GFP, dtype: int64"
      ]
     },
     "execution_count": 35,
     "metadata": {},
     "output_type": "execute_result"
    }
   ],
   "source": [
    "chidf = cdf.join(idf.set_index('NDID'), on=\"NDID\", rsuffix=\"_\")\n",
    "chidf.groupby([\"Group1\",\"G3_GFP\"])[\"measure_median_GFP\"].count()"
   ]
  },
  {
   "cell_type": "code",
   "execution_count": 36,
   "id": "584ec287",
   "metadata": {},
   "outputs": [
    {
     "data": {
      "text/plain": [
       "Group1  G3_GFP\n",
       "FY      0         83.437410\n",
       "        1         15.794024\n",
       "        2          0.768566\n",
       "TP      0         69.659983\n",
       "        1         26.513610\n",
       "        2          3.826407\n",
       "X       0         52.735696\n",
       "        1         36.446726\n",
       "        2         10.817579\n",
       "Name: measure_median_GFP, dtype: float64"
      ]
     },
     "execution_count": 36,
     "metadata": {},
     "output_type": "execute_result"
    }
   ],
   "source": [
    "chidf.groupby([\"Group1\",\"G3_GFP\"])[\"measure_median_GFP\"].count()*100/chidf.groupby(\"Group1\")[\"measure_median_GFP\"].count()"
   ]
  },
  {
   "cell_type": "code",
   "execution_count": 37,
   "id": "0fed51b1",
   "metadata": {},
   "outputs": [
    {
     "data": {
      "text/plain": [
       "Group1  G3_GFP\n",
       "FY      0         111.0\n",
       "        1         124.0\n",
       "        2         194.0\n",
       "TP      0         112.0\n",
       "        1         128.0\n",
       "        2         195.0\n",
       "X       0         113.0\n",
       "        1         131.0\n",
       "        2         205.0\n",
       "Name: measure_median_GFP, dtype: float64"
      ]
     },
     "execution_count": 37,
     "metadata": {},
     "output_type": "execute_result"
    }
   ],
   "source": [
    "chidf.groupby([\"Group1\",\"G3_GFP\"])[\"measure_median_GFP\"].median()"
   ]
  },
  {
   "cell_type": "code",
   "execution_count": 38,
   "id": "cc739741",
   "metadata": {},
   "outputs": [
    {
     "data": {
      "text/plain": [
       "Group1  G3_AB\n",
       "FY      0         1.902200\n",
       "        1        83.360553\n",
       "        2        14.737247\n",
       "TP      0         5.269786\n",
       "        1        68.526591\n",
       "        2        26.203623\n",
       "X       0         7.950419\n",
       "        1        65.581570\n",
       "        2        26.468011\n",
       "Name: measure_median_AB, dtype: float64"
      ]
     },
     "execution_count": 38,
     "metadata": {},
     "output_type": "execute_result"
    }
   ],
   "source": [
    "chidf.groupby([\"Group1\",\"G3_AB\"])[\"measure_median_AB\"].count()*100/chidf.groupby(\"Group1\")[\"measure_median_AB\"].count()"
   ]
  },
  {
   "cell_type": "code",
   "execution_count": 39,
   "id": "a21ec629",
   "metadata": {},
   "outputs": [
    {
     "data": {
      "text/plain": [
       "Group1  G3_AB\n",
       "FY      0        383.0\n",
       "        1        140.0\n",
       "        2        223.0\n",
       "TP      0        386.0\n",
       "        1        158.0\n",
       "        2        215.0\n",
       "X       0        394.0\n",
       "        1        149.0\n",
       "        2        231.0\n",
       "Name: measure_median_AB, dtype: float64"
      ]
     },
     "execution_count": 39,
     "metadata": {},
     "output_type": "execute_result"
    }
   ],
   "source": [
    "chidf.groupby([\"Group1\",\"G3_AB\"])[\"measure_median_AB\"].median()"
   ]
  },
  {
   "cell_type": "code",
   "execution_count": 40,
   "id": "891a8f03",
   "metadata": {},
   "outputs": [
    {
     "name": "stdout",
     "output_type": "stream",
     "text": [
      "[16848 11644  3456]\n",
      "(2684.89393703928, 0.0, 2, array([[19896.3978154 ,  9854.85002731,  2196.75215729],\n",
      "       [25715.6021846 , 12737.14997269,  2839.24784271]]))\n",
      "(9101.817572776996, 0.0, 2, array([[22397.98630137,  7910.58599696,  1639.42770167],\n",
      "       [29190.01369863, 10309.41400304,  2136.57229833]]))\n"
     ]
    }
   ],
   "source": [
    "from scipy.stats import chi2_contingency\n",
    "XGFP = chidf[chidf[\"Group1\"]==\"X\"].groupby(\"G3_GFP\")[\"measure_median_GFP\"].count().values\n",
    "TPGFP = chidf[chidf[\"Group1\"]==\"TP\"].groupby(\"G3_GFP\")[\"measure_median_GFP\"].count().values\n",
    "FYGFP = chidf[chidf[\"Group1\"]==\"FY\"].groupby(\"G3_GFP\")[\"measure_median_GFP\"].count().values\n",
    "print(XGFP)\n",
    "res = chi2_contingency([XGFP,TPGFP])\n",
    "print(res)\n",
    "res = chi2_contingency([XGFP,FYGFP])\n",
    "print(res)"
   ]
  },
  {
   "cell_type": "code",
   "execution_count": 41,
   "id": "b4e00231",
   "metadata": {},
   "outputs": [
    {
     "name": "stdout",
     "output_type": "stream",
     "text": [
      "[ 2540 20952  8456]\n",
      "(224.71775116829824, 1.5964684524921172e-49, 2, array([[ 2057.16504642, 21482.45636264,  8408.37859093],\n",
      "       [ 2658.83495358, 27765.54363736, 10867.62140907]]))\n",
      "(3470.222124834845, 0.0, 2, array([[ 1446.65601218, 24165.92846271,  6335.41552511],\n",
      "       [ 1885.34398782, 31494.07153729,  8256.58447489]]))\n"
     ]
    }
   ],
   "source": [
    "from scipy.stats import chi2_contingency\n",
    "XGFP = chidf[chidf[\"Group1\"]==\"X\"].groupby(\"G3_AB\")[\"measure_median_AB\"].count().values\n",
    "TPGFP = chidf[chidf[\"Group1\"]==\"TP\"].groupby(\"G3_AB\")[\"measure_median_AB\"].count().values\n",
    "FYGFP = chidf[chidf[\"Group1\"]==\"FY\"].groupby(\"G3_AB\")[\"measure_median_AB\"].count().values\n",
    "print(XGFP)\n",
    "res = chi2_contingency([XGFP,TPGFP])\n",
    "print(res)\n",
    "res = chi2_contingency([XGFP,FYGFP])\n",
    "print(res)"
   ]
  },
  {
   "cell_type": "code",
   "execution_count": 42,
   "id": "39f6b2c4",
   "metadata": {},
   "outputs": [
    {
     "name": "stdout",
     "output_type": "stream",
     "text": [
      "(0.6379945580316257, 0.0)\n",
      "(0.6906468602116367, 0.0)\n",
      "(0.7513971056407532, 0.0)\n"
     ]
    }
   ],
   "source": [
    "from numpy import random\n",
    "from scipy.stats import pearsonr\n",
    "Xrng = chidf[chidf[\"Group1\"]==\"X\"][[\"measure_median_GFP\",\"measure_median_AB\"]].to_numpy()\n",
    "TPrng = chidf[chidf[\"Group1\"]==\"TP\"][[\"measure_median_GFP\",\"measure_median_AB\"]].to_numpy()\n",
    "FYrng = chidf[chidf[\"Group1\"]==\"FY\"][[\"measure_median_GFP\",\"measure_median_AB\"]].to_numpy()\n",
    "print(pearsonr(Xrng.T[0],Xrng.T[1]))\n",
    "print(pearsonr(TPrng.T[0],TPrng.T[1]))\n",
    "print(pearsonr(FYrng.T[0],FYrng.T[1]))"
   ]
  },
  {
   "cell_type": "code",
   "execution_count": 44,
   "id": "3d731c46",
   "metadata": {},
   "outputs": [
    {
     "name": "stdout",
     "output_type": "stream",
     "text": [
      "10000\n",
      "10000\n",
      "--- 39.16064763069153 seconds ---\n"
     ]
    }
   ],
   "source": [
    "from numpy import random\n",
    "from scipy.stats import spearmanr\n",
    "import time\n",
    "start_time = time.time()\n",
    "Xrng = chidf[chidf[\"Group1\"]==\"X\"][[\"measure_median_GFP\",\"measure_median_AB\"]].to_numpy()\n",
    "TPrng = chidf[chidf[\"Group1\"]==\"TP\"][[\"measure_median_GFP\",\"measure_median_AB\"]].to_numpy()\n",
    "FYrng = chidf[chidf[\"Group1\"]==\"FY\"][[\"measure_median_GFP\",\"measure_median_AB\"]].to_numpy()\n",
    "DTP = []\n",
    "DFY = []\n",
    "X = []\n",
    "TP = []\n",
    "FY = []\n",
    "for i in range(10000):\n",
    "    rng = np.random.default_rng()\n",
    "    XR = rng.choice(Xrng,replace=True,size=Xrng.shape[0],axis=0)\n",
    "    TPR = rng.choice(TPrng,replace=True,size=TPrng.shape[0],axis=0)\n",
    "    FYR = rng.choice(FYrng,replace=True,size=FYrng.shape[0],axis=0)\n",
    "    SpX,pX = pearsonr(XR.T[0],XR.T[1])\n",
    "    SpTP, pTP = pearsonr(TPR.T[0],TPR.T[1])\n",
    "    SpFY, pFY = pearsonr(FYR.T[0],FYR.T[1])\n",
    "    X.append(SpX)\n",
    "    TP.append(SpTP)\n",
    "    FY.append(SpFY)\n",
    "    dTP = SpX - SpTP\n",
    "    dFY = SpX - SpFY\n",
    "    DTP.append(dTP)\n",
    "    DFY.append(dFY)\n",
    "print(len(DTP))\n",
    "print(len(DFY))\n",
    "print(\"--- %s seconds ---\" % (time.time() - start_time))"
   ]
  },
  {
   "cell_type": "code",
   "execution_count": 45,
   "id": "f1318f4a",
   "metadata": {},
   "outputs": [],
   "source": [
    "from scipy.stats import norm\n",
    "P = {}\n",
    "TPtup = norm.fit(DTP)\n",
    "P[\"TP\"] = norm(loc = TPtup[0] , scale = TPtup[1]).cdf(0)\n",
    "FYtup = norm.fit(DFY)\n",
    "P[\"FY\"] = norm(loc = FYtup[0] , scale = FYtup[1]).cdf(0)"
   ]
  },
  {
   "cell_type": "code",
   "execution_count": 49,
   "id": "02d0e8e5",
   "metadata": {},
   "outputs": [
    {
     "name": "stdout",
     "output_type": "stream",
     "text": [
      "{'TP': 0.9785152002965781, 'FY': 0.9999999999999979}\n"
     ]
    }
   ],
   "source": [
    "print(P)"
   ]
  },
  {
   "cell_type": "code",
   "execution_count": 46,
   "id": "7d49a6a9",
   "metadata": {},
   "outputs": [
    {
     "name": "stdout",
     "output_type": "stream",
     "text": [
      "{'X': [0.6199538309800905, 0.6569282410055562], 'TP': [0.645796729911849, 0.7453069553891912], 'FY': [0.7308102355341963, 0.7733596559367741]}\n"
     ]
    }
   ],
   "source": [
    "CI = {}\n",
    "CI[\"X\"] = [np.percentile(np.array(X),2.5),np.percentile(np.array(X),97.5)]\n",
    "CI[\"TP\"] = [np.percentile(np.array(TP),2.5),np.percentile(np.array(TP),97.5)]\n",
    "CI[\"FY\"] = [np.percentile(np.array(FY),2.5),np.percentile(np.array(FY),97.5)]\n",
    "print(CI)"
   ]
  },
  {
   "cell_type": "code",
   "execution_count": 47,
   "id": "4f82794d",
   "metadata": {},
   "outputs": [
    {
     "name": "stdout",
     "output_type": "stream",
     "text": [
      "0.6383460819495056\n",
      "0.6932690573451177\n",
      "0.7519850200495678\n"
     ]
    }
   ],
   "source": [
    "print(np.mean(X))\n",
    "print(np.mean(TP))\n",
    "print(np.mean(FY))"
   ]
  },
  {
   "cell_type": "code",
   "execution_count": 48,
   "id": "f5d9d7f9",
   "metadata": {},
   "outputs": [],
   "source": [
    "def convert_pvalue_to_asterisks(pvalue):\n",
    "    if pvalue <= 0.0001:\n",
    "        return \"****\"\n",
    "    elif pvalue <= 0.001:\n",
    "        return \"***\"\n",
    "    elif pvalue <= 0.01:\n",
    "        return \"**\"\n",
    "    elif pvalue <= 0.05:\n",
    "        return \"*\"\n",
    "    return \"ns\""
   ]
  },
  {
   "cell_type": "code",
   "execution_count": null,
   "id": "64e9af32",
   "metadata": {},
   "outputs": [],
   "source": [
    "\n",
    "def drawsigbars(ax, ctrl, treatment, maxv, y_range, diff,pv):\n",
    "    import matplotlib.pyplot as plt\n",
    "    import pathophys as pp\n",
    "    ctrls = ctrl\n",
    "    treatments = treatment\n",
    "    if (type(ctrl) is dict) == True:\n",
    "        ctrls = list(ctrl.keys())[0]\n",
    "        ctrl = ctrl[ctrls]\n",
    "        treatments = list(treatment.keys())[0]\n",
    "        treatment = treatment[treatments]\n",
    "        print(ctrl)\n",
    "    ax.plot(\n",
    "        [ctrl, ctrl, treatment, treatment],\n",
    "        [maxv, maxv, maxv, maxv], lw=2, c='k'\n",
    "    )\n",
    "    p = convert_pvalue_to_asterisks(pv)\n",
    "    ax.text((ctrl+diff), maxv, p, ha='center', va='bottom', fontsize=11)\n",
    "\n",
    "\n",
    "import pathophys as pp\n",
    "sigp = [[\"Ctrl\",\"TP\"],[\"Ctrl\",\"FY\"]]\n",
    "titledic = {\"X\":\"Ctrl\",\"TP\":\"TP\",\"FY\":\"FY\"}\n",
    "\n",
    "\n",
    "params = pp.loadparams()\n",
    "#sns.set_palette(sns.color_palette(params[\"Colors\"]))\n",
    "bs = params[\"BarSize\"]\n",
    "print(bs)\n",
    "ls = params[\"LS\"]\n",
    "fig = plt.figure(constrained_layout=True, figsize=(18*pp.cm,9*pp.cm))\n",
    "subfigs = fig.subfigures(1,2,width_ratios=(1,1))\n",
    "ax = subfigs[0].subplots(1, 1, sharey=True)\n",
    "cond = []\n",
    "maxvs = 0\n",
    "colorcount=0\n",
    "for g in [\"X\",\"TP\",\"FY\"]:\n",
    "    color = params[\"Colors\"][colorcount]\n",
    "    Xrng = chidf[chidf[\"Group1\"]==g][[\"measure_median_GFP\",\"measure_median_AB\"]].to_numpy()\n",
    "    x = titledic[g]\n",
    "    cond.append(x)\n",
    "    y = pearsonr(Xrng.T[0],Xrng.T[1])[0]\n",
    "    ci = np.array([np.abs(CI[g]-y)]).T\n",
    "    ax.bar(x, y, 0.8, yerr=ci, capsize=4, linewidth=ls, edgecolor=\"black\",color=color)\n",
    "    colorcount=colorcount+1\n",
    "for axis in ['top','bottom','left','right']:\n",
    "    ax.spines[axis].set_linewidth(ls)\n",
    "    if axis in ['top','right']:\n",
    "        ax.spines[axis].set_visible(False)\n",
    "colors = params[\"Colors\"]\n",
    "\n",
    "maxv = ax.get_ylim()[1]\n",
    "hightind = 0\n",
    "#axUp.set_ylim(ymin=dfGFP[\"intensity_mean_GFP\"].min())\n",
    "bottom, top = ax.get_ylim()\n",
    "y_range = maxv - bottom\n",
    "print(bottom)\n",
    "#maxv = maxv+y_range*0.2\n",
    "hightind = 0\n",
    "for sp in sigp:\n",
    "    c1 = sp[0]\n",
    "    ctrli = cond.index(c1)\n",
    "    c2 = sp[1]\n",
    "    treatmenti = cond.index(c2)\n",
    "    diff = (treatmenti-ctrli)/2\n",
    "    p = P[c2]\n",
    "    drawsigbars(ax, ctrli, treatmenti, maxv+hightind, y_range, diff,p)\n",
    "    hightind = hightind + y_range*0.2\n",
    "ax.set_title(\"Correlation\", fontsize=11)\n",
    "ax.set_title(\"c\", loc=\"left\", fontsize=20, fontweight=\"bold\", pad=15)\n",
    "ax.set_xlabel(\"Treatment\", fontsize=11)\n",
    "ax.set_ylabel(\"PCC\", fontsize=11)\n",
    "\n",
    "\n",
    "\n",
    "plt.show()"
   ]
  },
  {
   "cell_type": "code",
   "execution_count": null,
   "id": "036a64b8",
   "metadata": {},
   "outputs": [],
   "source": [
    "plt.hist(FY)"
   ]
  },
  {
   "cell_type": "code",
   "execution_count": null,
   "id": "f96b8eda",
   "metadata": {},
   "outputs": [],
   "source": [
    "\n"
   ]
  },
  {
   "cell_type": "code",
   "execution_count": null,
   "id": "b1021561",
   "metadata": {},
   "outputs": [],
   "source": [
    "sigp = [[\"X\",\"TP\"],[\"X\",\"FY\"]]\n",
    "params = pp.loadparams()\n",
    "#sns.set_palette(sns.color_palette(params[\"Colors\"]))\n",
    "bs = params[\"BarSize\"]\n",
    "ls = params[\"LS\"]\n",
    "fig = plt.figure(constrained_layout=True, figsize=(20*pp.cm,10*pp.cm))\n",
    "subfigs = fig.subfigures(1,2)\n",
    "\n",
    "axUp = subfigs[0].subplots(1, 1, sharey=True)\n",
    "\n",
    "reg = LinearRegression().fit(df2[\"Group\"].values.reshape(-1, 1), df2[\"Mean\"].values.reshape(-1, 1))\n",
    "xval = np.arange(df2[\"Group\"].min(),df2[\"Group\"].max(),0.1)\n",
    "axUp.plot(xval, xval*float(reg.coef_)+reg.intercept_,c=\"red\")\n",
    "axUp.scatter(df2[\"Group\"],df2[\"Mean\"],c=\"black\",marker=\"x\",s=20)\n",
    "print(\"R2: \"+str(reg.score(df2[\"Group\"].values.reshape(-1, 1), df2[\"Mean\"].values.reshape(-1, 1))))\n",
    "i = 0\n",
    "leg = []\n",
    "for g in ['X','TP', 'FY']:\n",
    "    leg.append(axUp.scatter((df[\"Mean\"][df[\"Group\"]==g].median()-reg.intercept_)/float(reg.coef_),df[\"Mean\"][df[\"Group\"]==g].median(),c=params[\"Colors\"][i],marker=\"^\",s=100))\n",
    "    i = i+1\n",
    "for axis in ['top','bottom','left','right']:\n",
    "    axUp.spines[axis].set_linewidth(ls)\n",
    "    if axis in ['top','right']:\n",
    "        axUp.spines[axis].set_visible(False)\n",
    "axUp.tick_params(width=ls)\n",
    "handles, labels = axUp.get_legend_handles_labels()\n",
    "print(handles, labels)\n",
    "axUp.legend(leg,['X','TP', 'FY'])\n",
    "axUp.set_title(\"Dilution\", fontsize=11)\n",
    "axUp.set_title(\"a\", loc=\"left\", fontsize=20, fontweight=\"bold\", pad=15)\n",
    "axUp.set_xlabel(\"GFP-Concentration (ng/µl)\", fontsize=11)\n",
    "axUp.set_ylabel(\"Mean Intensity (\"+'$10^3$'+\")\", fontsize=11)\n",
    "\n",
    "axLo = subfigs[1].subplots(1, 1, sharey=True)\n",
    "X2 = []\n",
    "Y2 = []\n",
    "maxvs = []\n",
    "for g in ['X','TP', 'FY']:\n",
    "    X2.append(g)\n",
    "    Y2.append(df[\"Mean\"][df[\"Group\"]==g])\n",
    "    maxvs.append(df[\"Mean\"][df[\"Group\"]==g].quantile(0.75)+(1.5*(df[\"Mean\"][df[\"Group\"]==g].quantile(0.75)-df[\"Mean\"][df[\"Group\"]==g].quantile(0.25))))\n",
    "    #CI1.append(1.96*(df[\"Mean\"][df[\"Group\"]==g].std())/math.sqrt(len(df[df[\"Group\"]==g])))\n",
    "bplot = axLo.boxplot(Y2,widths=0.8,labels=X2, showfliers=False,patch_artist=True)\n",
    "colors = params[\"Colors\"]\n",
    "for median in bplot['medians']:\n",
    "    median.set_color('black')\n",
    "for patch, color in zip(bplot['boxes'], colors):\n",
    "    print(patch)\n",
    "    patch.set_facecolor(color)\n",
    "for axis in ['top','bottom','left','right']:\n",
    "    axLo.spines[axis].set_linewidth(ls)\n",
    "    if axis in ['top','right']:\n",
    "        axLo.spines[axis].set_visible(False)\n",
    "axLo.tick_params(width=ls)\n",
    "maxv2 = np.max(np.array(maxvs))\n",
    "hightind = 0\n",
    "bottom2, top2 = axLo.get_ylim()\n",
    "y_range = top2 - bottom2\n",
    "treatmenti = 0\n",
    "args = [df[\"Mean\"][df[\"Group\"]==g].values for g in df[\"Group\"].unique()]\n",
    "m_comp = tukey_hsd(*args)\n",
    "for pairs in sigp:\n",
    "    c1 = pairs[0]\n",
    "    ctrli = X2.index(c1)\n",
    "    c2 = pairs[1]\n",
    "    treatmenti = X2.index(c2)\n",
    "    c1dic = {c1:ctrli+1}\n",
    "    c2dic = {c2:treatmenti+1}\n",
    "    diff = ((treatmenti-ctrli)/2)+1\n",
    "    pp.drawsigbars(df, axLo, \"Group\", \"Mean\", c1dic, c2dic, maxv2+hightind, y_range, diff)\n",
    "    hightind = hightind + y_range*0.2\n",
    "axLo.set_title(\"Quenching (10 ng/µl)\", fontsize=11)\n",
    "axLo.set_title(\"b\", loc=\"left\", fontsize=20, fontweight=\"bold\", pad=15)\n",
    "axLo.set_xlabel(\"Treatment\", fontsize=11)\n",
    "axLo.set_ylabel(\"Mean Intensity (\"+'$10^3$'+\")\", fontsize=11)\n"
   ]
  },
  {
   "cell_type": "code",
   "execution_count": null,
   "id": "4cb6d220",
   "metadata": {},
   "outputs": [],
   "source": [
    "import nd2\n",
    "images = {\"X\":{},\"TP\":{},\"FY\":{}}\n",
    "imdir = os.path.join(basedir,\"1\")\n",
    "for i in os.listdir(imdir):\n",
    "    if \"large\" in i:\n",
    "        c = i.split(\"_\")[0]\n",
    "        with nd2.ND2File(os.path.join(imdir,i)) as ndfile:\n",
    "            for j in range(len(ndfile.metadata.channels)):\n",
    "                cn = ndfile.metadata.channels[j].channel.name\n",
    "                img = ndfile.asarray()\n",
    "                img = img[j,:,:]\n",
    "                images[c][cn] = img\n",
    "print(len(images))"
   ]
  },
  {
   "cell_type": "code",
   "execution_count": null,
   "id": "7d629cec",
   "metadata": {},
   "outputs": [],
   "source": [
    "plt.rcParams['lines.linewidth'] = 10\n",
    "ranges = [(0, 255),(0, 255),(0, 255)]\n",
    "fig = plt.figure(constrained_layout=True, figsize=(6,8))\n",
    "subfigs = fig.subfigures(1, 2, wspace=0, width_ratios=[1,1])\n",
    "axGFP = subfigs[0].subplots(3, 1, sharex=True, sharey=True)\n",
    "subfigs[0].suptitle(\"GFP\", fontsize=11)\n",
    "axGFP[0].imshow(images[\"X\"][\"GFP\"])\n",
    "axGFP[0].set_ylabel(\"X\")\n",
    "axGFP[1].imshow(images[\"TP\"][\"GFP\"])\n",
    "axGFP[1].set_ylabel(\"TP\")\n",
    "axGFP[2].imshow(images[\"FY\"][\"GFP\"])\n",
    "axGFP[2].set_ylabel(\"FY\")\n",
    "for ax in axGFP:\n",
    "    ax.set_xticks([])\n",
    "    ax.set_yticks([])\n",
    "    for axis in ['top','bottom','left','right']:\n",
    "        ax.spines[axis].set_linewidth(2)\n",
    "\n",
    "axAB = subfigs[1].subplots(3, 1, sharex=True, sharey=True)\n",
    "subfigs[1].suptitle(\"aSyn-Antibody\", fontsize=11)\n",
    "axAB[0].imshow(images[\"X\"][\"647\"])\n",
    "axAB[1].imshow(images[\"TP\"][\"647\"])\n",
    "axAB[2].imshow(images[\"FY\"][\"647\"])\n",
    "for ax in axAB:\n",
    "    ax.set_xticks([])\n",
    "    ax.set_yticks([])\n",
    "    for axis in ['top','bottom','left','right']:\n",
    "        ax.spines[axis].set_linewidth(2)\n",
    "\n",
    "\n",
    "plt.show()"
   ]
  }
 ],
 "metadata": {
  "kernelspec": {
   "display_name": "Python 3 (ipykernel)",
   "language": "python",
   "name": "python3"
  },
  "language_info": {
   "codemirror_mode": {
    "name": "ipython",
    "version": 3
   },
   "file_extension": ".py",
   "mimetype": "text/x-python",
   "name": "python",
   "nbconvert_exporter": "python",
   "pygments_lexer": "ipython3",
   "version": "3.9.13"
  }
 },
 "nbformat": 4,
 "nbformat_minor": 5
}
