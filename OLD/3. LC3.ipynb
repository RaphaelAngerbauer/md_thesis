{
 "cells": [
  {
   "cell_type": "code",
   "execution_count": 1,
   "id": "e8deeb7b",
   "metadata": {},
   "outputs": [],
   "source": [
    "#import image_analysis as ia\n",
    "#import NearestNeighbour as NN\n",
    "import pandas as pd\n",
    "import numpy as np\n",
    "import matplotlib.pyplot as plt\n",
    "import os"
   ]
  },
  {
   "cell_type": "markdown",
   "id": "eb4efa8f",
   "metadata": {},
   "source": [
    "# 1. Image Analysis\n",
    "Image analysis involves 2 main steps: Segmentation and Object detection\n",
    "## 1.1 Segmentation\n",
    "First the images are segemented into individual cells and their boundaries are stored as ImageJ ROIs in zip files. These can be opened later in FIJI/ImageJ vor viewing and analysis.\n",
    "Segmentation involves the following steps:\n",
    "1. Thresholding: Images are thresholded by the multiotsu thresholding technique, which produces 2 numbers. The lower number is chosen as a threshold.\n",
    "2. Cell separation: During thresholding cells may be too close together which would merge them together. To solve this problem Cell centers are identified and starting from the cell centers watershed segmentation is performed. This seperates the thrsholded area into individual labeled regions that represent the cells. Cell centers are identified via either of the following methods:\n",
    "    - By nuclei: If nuclei were imaged by a DAPI stain, they are identified as cell centers.\n",
    "    - By distance transform: If no nuclei were captured a distance transform is performed. Resulting peaks are taken as cell centers.\n",
    "3. Cell identification and measurement: From each cell measurements are taken involving the area, mean and median intensities. Furthermore the boundaries are converted to ROIs and stored in a corresponding zip file."
   ]
  },
  {
   "cell_type": "code",
   "execution_count": 2,
   "id": "a58636de",
   "metadata": {},
   "outputs": [],
   "source": [
    "basedir = \"D:/Raphael/Data/3. Plasmid moves cargo into Lysosomes\"\n",
    "df = pd.DataFrame()\n",
    "#df = pd.read_excel(os.path.join(basedir,\"Results.xlsx\"))\n",
    "CD={0:\"aSyn-GFP\",1:\"aSyn-AB\",2:\"LAMP1/LC3\"}\n",
    "#seg = ia.segmentation(basedir=basedir,p_max=500,t_mod=1,ch_dic=CD,cell_channel=\"aSyn-GFP\",intensity_channels=[\"aSyn-GFP\"])\n",
    "#print(seg.ch_dic)\n",
    "#seg.plot_segmentation()\n",
    "#seg.segment_all()\n",
    "#df.head()"
   ]
  },
  {
   "cell_type": "code",
   "execution_count": 3,
   "id": "06b5b237",
   "metadata": {},
   "outputs": [
    {
     "data": {
      "text/html": [
       "<div>\n",
       "<style scoped>\n",
       "    .dataframe tbody tr th:only-of-type {\n",
       "        vertical-align: middle;\n",
       "    }\n",
       "\n",
       "    .dataframe tbody tr th {\n",
       "        vertical-align: top;\n",
       "    }\n",
       "\n",
       "    .dataframe thead th {\n",
       "        text-align: right;\n",
       "    }\n",
       "</style>\n",
       "<table border=\"1\" class=\"dataframe\">\n",
       "  <thead>\n",
       "    <tr style=\"text-align: right;\">\n",
       "      <th></th>\n",
       "      <th>Unnamed: 0</th>\n",
       "      <th>label</th>\n",
       "      <th>bbox-0</th>\n",
       "      <th>bbox-1</th>\n",
       "      <th>bbox-2</th>\n",
       "      <th>bbox-3</th>\n",
       "      <th>label_aSyn-GFP</th>\n",
       "      <th>bbox-0_aSyn-GFP</th>\n",
       "      <th>bbox-1_aSyn-GFP</th>\n",
       "      <th>bbox-2_aSyn-GFP</th>\n",
       "      <th>...</th>\n",
       "      <th>Channel_1</th>\n",
       "      <th>Channel_aSyn-AB</th>\n",
       "      <th>Channel_2</th>\n",
       "      <th>Channel_LAMP1/LC3</th>\n",
       "      <th>ROI_path</th>\n",
       "      <th>Replicate</th>\n",
       "      <th>Group1</th>\n",
       "      <th>Group2</th>\n",
       "      <th>path</th>\n",
       "      <th>denoised_path</th>\n",
       "    </tr>\n",
       "  </thead>\n",
       "  <tbody>\n",
       "    <tr>\n",
       "      <th>13</th>\n",
       "      <td>13</td>\n",
       "      <td>6</td>\n",
       "      <td>822</td>\n",
       "      <td>779</td>\n",
       "      <td>1571</td>\n",
       "      <td>1236</td>\n",
       "      <td>6</td>\n",
       "      <td>822</td>\n",
       "      <td>779</td>\n",
       "      <td>1571</td>\n",
       "      <td>...</td>\n",
       "      <td>aSyn-AB</td>\n",
       "      <td>1</td>\n",
       "      <td>LAMP1/LC3</td>\n",
       "      <td>2</td>\n",
       "      <td>D:/Raphael/Data/3. Plasmid moves cargo into Ly...</td>\n",
       "      <td>1</td>\n",
       "      <td>FY</td>\n",
       "      <td>LC3</td>\n",
       "      <td>D:/Raphael/Data/3. Plasmid moves cargo into Ly...</td>\n",
       "      <td>D:/Raphael/Data/3. Plasmid moves cargo into Ly...</td>\n",
       "    </tr>\n",
       "    <tr>\n",
       "      <th>14</th>\n",
       "      <td>14</td>\n",
       "      <td>9</td>\n",
       "      <td>690</td>\n",
       "      <td>888</td>\n",
       "      <td>1533</td>\n",
       "      <td>1726</td>\n",
       "      <td>9</td>\n",
       "      <td>690</td>\n",
       "      <td>888</td>\n",
       "      <td>1533</td>\n",
       "      <td>...</td>\n",
       "      <td>aSyn-AB</td>\n",
       "      <td>1</td>\n",
       "      <td>LAMP1/LC3</td>\n",
       "      <td>2</td>\n",
       "      <td>D:/Raphael/Data/3. Plasmid moves cargo into Ly...</td>\n",
       "      <td>1</td>\n",
       "      <td>FY</td>\n",
       "      <td>LC3</td>\n",
       "      <td>D:/Raphael/Data/3. Plasmid moves cargo into Ly...</td>\n",
       "      <td>D:/Raphael/Data/3. Plasmid moves cargo into Ly...</td>\n",
       "    </tr>\n",
       "    <tr>\n",
       "      <th>15</th>\n",
       "      <td>15</td>\n",
       "      <td>6</td>\n",
       "      <td>690</td>\n",
       "      <td>164</td>\n",
       "      <td>1382</td>\n",
       "      <td>788</td>\n",
       "      <td>6</td>\n",
       "      <td>690</td>\n",
       "      <td>164</td>\n",
       "      <td>1382</td>\n",
       "      <td>...</td>\n",
       "      <td>aSyn-AB</td>\n",
       "      <td>1</td>\n",
       "      <td>LAMP1/LC3</td>\n",
       "      <td>2</td>\n",
       "      <td>D:/Raphael/Data/3. Plasmid moves cargo into Ly...</td>\n",
       "      <td>1</td>\n",
       "      <td>FY</td>\n",
       "      <td>LC3</td>\n",
       "      <td>D:/Raphael/Data/3. Plasmid moves cargo into Ly...</td>\n",
       "      <td>D:/Raphael/Data/3. Plasmid moves cargo into Ly...</td>\n",
       "    </tr>\n",
       "    <tr>\n",
       "      <th>16</th>\n",
       "      <td>16</td>\n",
       "      <td>7</td>\n",
       "      <td>813</td>\n",
       "      <td>1096</td>\n",
       "      <td>1433</td>\n",
       "      <td>1442</td>\n",
       "      <td>7</td>\n",
       "      <td>813</td>\n",
       "      <td>1096</td>\n",
       "      <td>1433</td>\n",
       "      <td>...</td>\n",
       "      <td>aSyn-AB</td>\n",
       "      <td>1</td>\n",
       "      <td>LAMP1/LC3</td>\n",
       "      <td>2</td>\n",
       "      <td>D:/Raphael/Data/3. Plasmid moves cargo into Ly...</td>\n",
       "      <td>1</td>\n",
       "      <td>FY</td>\n",
       "      <td>LC3</td>\n",
       "      <td>D:/Raphael/Data/3. Plasmid moves cargo into Ly...</td>\n",
       "      <td>D:/Raphael/Data/3. Plasmid moves cargo into Ly...</td>\n",
       "    </tr>\n",
       "    <tr>\n",
       "      <th>17</th>\n",
       "      <td>17</td>\n",
       "      <td>8</td>\n",
       "      <td>871</td>\n",
       "      <td>783</td>\n",
       "      <td>1427</td>\n",
       "      <td>1100</td>\n",
       "      <td>8</td>\n",
       "      <td>871</td>\n",
       "      <td>783</td>\n",
       "      <td>1427</td>\n",
       "      <td>...</td>\n",
       "      <td>aSyn-AB</td>\n",
       "      <td>1</td>\n",
       "      <td>LAMP1/LC3</td>\n",
       "      <td>2</td>\n",
       "      <td>D:/Raphael/Data/3. Plasmid moves cargo into Ly...</td>\n",
       "      <td>1</td>\n",
       "      <td>FY</td>\n",
       "      <td>LC3</td>\n",
       "      <td>D:/Raphael/Data/3. Plasmid moves cargo into Ly...</td>\n",
       "      <td>D:/Raphael/Data/3. Plasmid moves cargo into Ly...</td>\n",
       "    </tr>\n",
       "  </tbody>\n",
       "</table>\n",
       "<p>5 rows × 30 columns</p>\n",
       "</div>"
      ],
      "text/plain": [
       "    Unnamed: 0  label  bbox-0  bbox-1  bbox-2  bbox-3  label_aSyn-GFP  \\\n",
       "13          13      6     822     779    1571    1236               6   \n",
       "14          14      9     690     888    1533    1726               9   \n",
       "15          15      6     690     164    1382     788               6   \n",
       "16          16      7     813    1096    1433    1442               7   \n",
       "17          17      8     871     783    1427    1100               8   \n",
       "\n",
       "    bbox-0_aSyn-GFP  bbox-1_aSyn-GFP  bbox-2_aSyn-GFP  ...  Channel_1  \\\n",
       "13              822              779             1571  ...    aSyn-AB   \n",
       "14              690              888             1533  ...    aSyn-AB   \n",
       "15              690              164             1382  ...    aSyn-AB   \n",
       "16              813             1096             1433  ...    aSyn-AB   \n",
       "17              871              783             1427  ...    aSyn-AB   \n",
       "\n",
       "    Channel_aSyn-AB  Channel_2  Channel_LAMP1/LC3  \\\n",
       "13                1  LAMP1/LC3                  2   \n",
       "14                1  LAMP1/LC3                  2   \n",
       "15                1  LAMP1/LC3                  2   \n",
       "16                1  LAMP1/LC3                  2   \n",
       "17                1  LAMP1/LC3                  2   \n",
       "\n",
       "                                             ROI_path  Replicate  Group1  \\\n",
       "13  D:/Raphael/Data/3. Plasmid moves cargo into Ly...          1      FY   \n",
       "14  D:/Raphael/Data/3. Plasmid moves cargo into Ly...          1      FY   \n",
       "15  D:/Raphael/Data/3. Plasmid moves cargo into Ly...          1      FY   \n",
       "16  D:/Raphael/Data/3. Plasmid moves cargo into Ly...          1      FY   \n",
       "17  D:/Raphael/Data/3. Plasmid moves cargo into Ly...          1      FY   \n",
       "\n",
       "    Group2                                               path  \\\n",
       "13     LC3  D:/Raphael/Data/3. Plasmid moves cargo into Ly...   \n",
       "14     LC3  D:/Raphael/Data/3. Plasmid moves cargo into Ly...   \n",
       "15     LC3  D:/Raphael/Data/3. Plasmid moves cargo into Ly...   \n",
       "16     LC3  D:/Raphael/Data/3. Plasmid moves cargo into Ly...   \n",
       "17     LC3  D:/Raphael/Data/3. Plasmid moves cargo into Ly...   \n",
       "\n",
       "                                        denoised_path  \n",
       "13  D:/Raphael/Data/3. Plasmid moves cargo into Ly...  \n",
       "14  D:/Raphael/Data/3. Plasmid moves cargo into Ly...  \n",
       "15  D:/Raphael/Data/3. Plasmid moves cargo into Ly...  \n",
       "16  D:/Raphael/Data/3. Plasmid moves cargo into Ly...  \n",
       "17  D:/Raphael/Data/3. Plasmid moves cargo into Ly...  \n",
       "\n",
       "[5 rows x 30 columns]"
      ]
     },
     "execution_count": 3,
     "metadata": {},
     "output_type": "execute_result"
    }
   ],
   "source": [
    "df = pd.read_excel(os.path.join(basedir,\"Results.xlsx\"))\n",
    "df = df[df[\"Group2\"]==\"LC3\"]\n",
    "df.head()"
   ]
  },
  {
   "cell_type": "code",
   "execution_count": 4,
   "id": "c809e1e3",
   "metadata": {},
   "outputs": [],
   "source": [
    "from Manders import manders, adapted_manders,manders_overlap\n",
    "from ImageOperations import get_cropped, getImage, get_mask\n",
    "from skimage.filters import threshold_otsu,threshold_multiotsu\n",
    "from skimage.measure import pearson_corr_coeff\n",
    "from tqdm import tqdm\n",
    "def get_coloc(df):\n",
    "    df2 = pd.DataFrame()\n",
    "    Rep=[]\n",
    "    CIDs = []\n",
    "    Group = []\n",
    "    Manders_GFP = []\n",
    "    Manders_AB = []\n",
    "    Manders_adapted_GFP = []\n",
    "    Manders_adapted_AB = []\n",
    "    Pearson_GFP = []\n",
    "    Pearson_AB = []\n",
    "    Ratio_GFP = []\n",
    "    Ratio_AB = []\n",
    "    Ratio_LC3 = []\n",
    "    Stack = []\n",
    "    for CID in tqdm(df[\"CID\"].values):\n",
    "        denoised_path = df[df[\"CID\"]==CID][\"denoised_path\"].values[0]\n",
    "        image1_GFP = getImage(denoised_path,0)\n",
    "        image1_AB = getImage(denoised_path,1)\n",
    "        image1_LC3 = getImage(denoised_path,2)\n",
    "        image2_GFP = get_cropped(df,CID,0)\n",
    "        image2_AB = get_cropped(df,CID,1)\n",
    "        image2_LC3 = get_cropped(df,CID,2)\n",
    "        mask = get_mask(df,CID,image1_GFP[0,:,:].shape)\n",
    "        t_GFP = threshold_otsu(image1_GFP[:,mask==True])\n",
    "        t_AB = threshold_otsu(image1_AB[:,mask==True])\n",
    "        t_LC3 = threshold_otsu(image1_LC3[:,mask==True])\n",
    "        image1_GFP[:,mask==False] = 0\n",
    "        image1_AB[:,mask==False] = 0\n",
    "        image1_LC3[:,mask==False] = 0\n",
    "        for i in range(image1_GFP.shape[0]):\n",
    "            Manders_GFP.append(manders(image2_GFP[i,:,:],image1_LC3[i,:,:]>t_LC3,mask))\n",
    "            Manders_AB.append(manders(image2_LC3[i,:,:],image1_GFP[i,:,:]>t_GFP,mask))\n",
    "            Manders_adapted_GFP.append(manders(image2_AB[i,:,:],image1_LC3[i,:,:]>t_LC3,mask))\n",
    "            Manders_adapted_AB.append(manders(image2_LC3[i,:,:],image1_AB[i,:,:]>t_AB,mask))\n",
    "            Pearson_GFP.append(pearson_corr_coeff(image1_AB[i,:,:],image1_LC3[i,:,:]))\n",
    "            Pearson_AB.append(pearson_corr_coeff(image1_GFP[i,:,:],image1_LC3[i,:,:]))\n",
    "            Group.append(df[df[\"CID\"]==CID][\"Group1\"].values[0])\n",
    "            Rep.append(df[df[\"CID\"]==CID][\"Replicate\"].values[0])\n",
    "            Stack.append(i)\n",
    "            CIDs.append(CID)\n",
    "            Ratio_GFP.append(np.sum(image1_GFP[i,:,:]>t_GFP)/np.sum(mask))\n",
    "            Ratio_AB.append(np.sum(image1_AB[i,:,:]>t_GFP)/np.sum(mask))\n",
    "            Ratio_LC3.append(np.sum(image1_LC3[i,:,:]>t_GFP)/np.sum(mask))\n",
    "    df2[\"Manders_GFP_M1\"] = Manders_GFP\n",
    "    df2[\"Manders_GFP_M2\"] = Manders_AB\n",
    "    df2[\"Manders_AB_M1\"] = Manders_adapted_GFP\n",
    "    df2[\"Manders_AB_M2\"] = Manders_adapted_AB\n",
    "    df2[\"Ratio_GFP\"] = Ratio_GFP\n",
    "    df2[\"Ratio_AB\"] = Ratio_AB\n",
    "    df2[\"Ratio_LC3\"] = Ratio_LC3\n",
    "    df2[\"Pearson_GFP\"] = Manders_adapted_AB\n",
    "    df2[\"Pearson_AB\"] = Manders_adapted_AB\n",
    "    df2[\"Replicate\"] = Rep\n",
    "    df2[\"Group1\"] = Group\n",
    "    df2[\"CID\"] = CIDs\n",
    "    df2[\"Stack\"] = Stack\n",
    "    return df2\n",
    "\n",
    "#df2 = get_coloc(df)"
   ]
  },
  {
   "cell_type": "code",
   "execution_count": 5,
   "id": "bcf563bd",
   "metadata": {},
   "outputs": [],
   "source": [
    "from ImageOperations import get_cropped, getImage, get_mask, get_ROI\n",
    "from Ripley import ripley\n",
    "from DetectPoints import detect_points\n",
    "from tqdm import tqdm\n",
    "def get_R(lower,upper):\n",
    "    xlen = 0.0753084\n",
    "    r = np.linspace(lower/xlen,upper/xlen,100)\n",
    "    return r\n",
    "\n",
    "def calculate_ripley(df,R):\n",
    "    data = {\n",
    "        \"L\":[],\n",
    "        \"r\":[],\n",
    "        \"X\":[],\n",
    "        \"Y\":[],\n",
    "        \"Group\":[],\n",
    "        \"Stack\":[],\n",
    "        \"CID\":[],\n",
    "        \"Rep\":[],\n",
    "        \"LenX\":[],\n",
    "        \"LenY\":[]\n",
    "    }\n",
    "    for CID in tqdm(df[\"CID\"].values):\n",
    "        rep = df[df[\"CID\"]==CID][\"Replicate\"].values[0]\n",
    "        g = df[df[\"CID\"]==CID][\"Group1\"].values[0]\n",
    "        ROI = get_ROI(df,CID)\n",
    "        GFPimage = get_cropped(df,CID,0).astype(\"uint8\")\n",
    "        ABimage = get_cropped(df,CID,1).astype(\"uint8\")\n",
    "        LC3image = get_cropped(df,CID,2).astype(\"uint8\")\n",
    "        boundary = ROI.coordinates()-[[ROI.left,ROI.top]]\n",
    "        for i in range(GFPimage.shape[0]):\n",
    "            GFP = detect_points(GFPimage[i,:,:],ROI,ntol=50)\n",
    "            AB = detect_points(ABimage[i,:,:],ROI,ntol=50)\n",
    "            LC3 = detect_points(LC3image[i,:,:],ROI,ntol=200)\n",
    "            #GFP - LC3\n",
    "            if len(GFP) != 0 and len(LC3) != 0:\n",
    "                data[\"L\"]=[*data[\"L\"],*ripley(GFP,LC3,boundary,R,maxD=np.max(R))]\n",
    "                data[\"r\"]=[*data[\"r\"],*R]\n",
    "                data[\"X\"]=[*data[\"X\"],*([\"GFP\"]*len(R))]\n",
    "                data[\"Y\"]=[*data[\"Y\"],*([\"LC3\"]*len(R))]\n",
    "                data[\"CID\"]=[*data[\"CID\"],*([CID]*len(R))]\n",
    "                data[\"Rep\"]=[*data[\"Rep\"],*([rep]*len(R))]\n",
    "                data[\"Stack\"]=[*data[\"Stack\"],*([i]*len(R))]\n",
    "                data[\"Group\"]=[*data[\"Group\"],*([g]*len(R))]\n",
    "                data[\"LenX\"]=[*data[\"LenX\"],*([len(GFP)]*len(R))]\n",
    "                data[\"LenY\"]=[*data[\"LenY\"],*([len(LC3)]*len(R))]\n",
    "            #AB - LC3\n",
    "            if len(AB) != 0 and len(LC3) != 0:\n",
    "                data[\"L\"]=[*data[\"L\"],*ripley(AB,LC3,boundary,R,maxD=np.max(R))]\n",
    "                data[\"r\"]=[*data[\"r\"],*R]\n",
    "                data[\"X\"]=[*data[\"X\"],*([\"AB\"]*len(R))]\n",
    "                data[\"Y\"]=[*data[\"Y\"],*([\"LC3\"]*len(R))]\n",
    "                data[\"CID\"]=[*data[\"CID\"],*([CID]*len(R))]\n",
    "                data[\"Rep\"]=[*data[\"Rep\"],*([rep]*len(R))]\n",
    "                data[\"Group\"]=[*data[\"Group\"],*([g]*len(R))]\n",
    "                data[\"Stack\"]=[*data[\"Stack\"],*([i]*len(R))]\n",
    "                data[\"LenX\"]=[*data[\"LenX\"],*([len(AB)]*len(R))]\n",
    "                data[\"LenY\"]=[*data[\"LenY\"],*([len(LC3)]*len(R))]\n",
    "            #LC3 - GFP\n",
    "            if len(GFP) != 0 and len(LC3) != 0:\n",
    "                data[\"L\"]=[*data[\"L\"],*ripley(LC3,GFP,boundary,R,maxD=np.max(R))]\n",
    "                data[\"r\"]=[*data[\"r\"],*R]\n",
    "                data[\"X\"]=[*data[\"X\"],*([\"LC3\"]*len(R))]\n",
    "                data[\"Y\"]=[*data[\"Y\"],*([\"GFP\"]*len(R))]\n",
    "                data[\"CID\"]=[*data[\"CID\"],*([CID]*len(R))]\n",
    "                data[\"Rep\"]=[*data[\"Rep\"],*([rep]*len(R))]\n",
    "                data[\"Group\"]=[*data[\"Group\"],*([g]*len(R))]\n",
    "                data[\"Stack\"]=[*data[\"Stack\"],*([i]*len(R))]\n",
    "                data[\"LenX\"]=[*data[\"LenX\"],*([len(LC3)]*len(R))]\n",
    "                data[\"LenY\"]=[*data[\"LenY\"],*([len(GFP)]*len(R))]\n",
    "            #LC3 - AB\n",
    "            if len(AB) != 0 and len(LC3) != 0:\n",
    "                data[\"L\"]=[*data[\"L\"],*ripley(LC3,AB,boundary,R,maxD=np.max(R))]\n",
    "                data[\"r\"]=[*data[\"r\"],*R]\n",
    "                data[\"X\"]=[*data[\"X\"],*([\"LC3\"]*len(R))]\n",
    "                data[\"Y\"]=[*data[\"Y\"],*([\"AB\"]*len(R))]\n",
    "                data[\"CID\"]=[*data[\"CID\"],*([CID]*len(R))]\n",
    "                data[\"Rep\"]=[*data[\"Rep\"],*([rep]*len(R))]\n",
    "                data[\"Group\"]=[*data[\"Group\"],*([g]*len(R))]\n",
    "                data[\"Stack\"]=[*data[\"Stack\"],*([i]*len(R))]\n",
    "                data[\"LenX\"]=[*data[\"LenX\"],*([len(LC3)]*len(R))]\n",
    "                data[\"LenY\"]=[*data[\"LenY\"],*([len(AB)]*len(R))]\n",
    "    return pd.DataFrame(data=data)\n",
    "\n",
    "R = get_R(0,0.5)\n",
    "#df2 = calculate_ripley(df,R)\n",
    "#df2.to_csv(os.path.join(basedir,\"LC3_Ripley_coloc.csv\"),index=False)\n",
    "#df2.head()"
   ]
  },
  {
   "cell_type": "code",
   "execution_count": 6,
   "id": "45551c42",
   "metadata": {},
   "outputs": [
    {
     "name": "stderr",
     "output_type": "stream",
     "text": [
      "100%|██████████████████████████████████████████████████████████████████████████████████| 78/78 [19:10<00:00, 14.75s/it]\n"
     ]
    },
    {
     "data": {
      "text/html": [
       "<div>\n",
       "<style scoped>\n",
       "    .dataframe tbody tr th:only-of-type {\n",
       "        vertical-align: middle;\n",
       "    }\n",
       "\n",
       "    .dataframe tbody tr th {\n",
       "        vertical-align: top;\n",
       "    }\n",
       "\n",
       "    .dataframe thead th {\n",
       "        text-align: right;\n",
       "    }\n",
       "</style>\n",
       "<table border=\"1\" class=\"dataframe\">\n",
       "  <thead>\n",
       "    <tr style=\"text-align: right;\">\n",
       "      <th></th>\n",
       "      <th>L</th>\n",
       "      <th>r</th>\n",
       "      <th>X</th>\n",
       "      <th>Y</th>\n",
       "      <th>Group</th>\n",
       "      <th>Stack</th>\n",
       "      <th>CID</th>\n",
       "      <th>Rep</th>\n",
       "      <th>LenX</th>\n",
       "      <th>LenY</th>\n",
       "    </tr>\n",
       "  </thead>\n",
       "  <tbody>\n",
       "    <tr>\n",
       "      <th>0</th>\n",
       "      <td>0.0</td>\n",
       "      <td>0.000000</td>\n",
       "      <td>AB</td>\n",
       "      <td>LC3</td>\n",
       "      <td>FY</td>\n",
       "      <td>0</td>\n",
       "      <td>54</td>\n",
       "      <td>1</td>\n",
       "      <td>1</td>\n",
       "      <td>2</td>\n",
       "    </tr>\n",
       "    <tr>\n",
       "      <th>1</th>\n",
       "      <td>0.0</td>\n",
       "      <td>0.067064</td>\n",
       "      <td>AB</td>\n",
       "      <td>LC3</td>\n",
       "      <td>FY</td>\n",
       "      <td>0</td>\n",
       "      <td>54</td>\n",
       "      <td>1</td>\n",
       "      <td>1</td>\n",
       "      <td>2</td>\n",
       "    </tr>\n",
       "    <tr>\n",
       "      <th>2</th>\n",
       "      <td>0.0</td>\n",
       "      <td>0.134129</td>\n",
       "      <td>AB</td>\n",
       "      <td>LC3</td>\n",
       "      <td>FY</td>\n",
       "      <td>0</td>\n",
       "      <td>54</td>\n",
       "      <td>1</td>\n",
       "      <td>1</td>\n",
       "      <td>2</td>\n",
       "    </tr>\n",
       "    <tr>\n",
       "      <th>3</th>\n",
       "      <td>0.0</td>\n",
       "      <td>0.201193</td>\n",
       "      <td>AB</td>\n",
       "      <td>LC3</td>\n",
       "      <td>FY</td>\n",
       "      <td>0</td>\n",
       "      <td>54</td>\n",
       "      <td>1</td>\n",
       "      <td>1</td>\n",
       "      <td>2</td>\n",
       "    </tr>\n",
       "    <tr>\n",
       "      <th>4</th>\n",
       "      <td>0.0</td>\n",
       "      <td>0.268257</td>\n",
       "      <td>AB</td>\n",
       "      <td>LC3</td>\n",
       "      <td>FY</td>\n",
       "      <td>0</td>\n",
       "      <td>54</td>\n",
       "      <td>1</td>\n",
       "      <td>1</td>\n",
       "      <td>2</td>\n",
       "    </tr>\n",
       "  </tbody>\n",
       "</table>\n",
       "</div>"
      ],
      "text/plain": [
       "     L         r   X    Y Group  Stack  CID  Rep  LenX  LenY\n",
       "0  0.0  0.000000  AB  LC3    FY      0   54    1     1     2\n",
       "1  0.0  0.067064  AB  LC3    FY      0   54    1     1     2\n",
       "2  0.0  0.134129  AB  LC3    FY      0   54    1     1     2\n",
       "3  0.0  0.201193  AB  LC3    FY      0   54    1     1     2\n",
       "4  0.0  0.268257  AB  LC3    FY      0   54    1     1     2"
      ]
     },
     "execution_count": 6,
     "metadata": {},
     "output_type": "execute_result"
    }
   ],
   "source": [
    "from ImageOperations import get_cropped, getImage, get_mask, get_ROI\n",
    "from NearestNeighbour import NearestNeighbour\n",
    "from DetectPoints import detect_points\n",
    "from tqdm import tqdm\n",
    "def get_R(lower,upper):\n",
    "    xlen = 0.0753084\n",
    "    r = np.linspace(lower/xlen,upper/xlen,100)\n",
    "    return r\n",
    "\n",
    "def calculate_NN(df,R):\n",
    "    data = {\n",
    "        \"L\":[],\n",
    "        \"r\":[],\n",
    "        \"X\":[],\n",
    "        \"Y\":[],\n",
    "        \"Group\":[],\n",
    "        \"Stack\":[],\n",
    "        \"CID\":[],\n",
    "        \"Rep\":[],\n",
    "        \"LenX\":[],\n",
    "        \"LenY\":[]\n",
    "    }\n",
    "    for CID in tqdm(df[\"CID\"].values):\n",
    "        rep = df[df[\"CID\"]==CID][\"Replicate\"].values[0]\n",
    "        g = df[df[\"CID\"]==CID][\"Group1\"].values[0]\n",
    "        ROI = get_ROI(df,CID)\n",
    "        GFPimage = get_cropped(df,CID,0).astype(\"uint8\")\n",
    "        ABimage = get_cropped(df,CID,1).astype(\"uint8\")\n",
    "        LC3image = get_cropped(df,CID,2).astype(\"uint8\")\n",
    "        boundary = ROI.coordinates()-[[ROI.left,ROI.top]]\n",
    "        for i in range(GFPimage.shape[0]):\n",
    "            GFP = detect_points(GFPimage[i,:,:],ROI,ntol=50)\n",
    "            AB = detect_points(ABimage[i,:,:],ROI,ntol=50)\n",
    "            LC3 = detect_points(LC3image[i,:,:],ROI,ntol=200)\n",
    "            #GFP - LC3\n",
    "            if len(GFP) != 0 and len(LC3) != 0:\n",
    "                data[\"L\"]=[*data[\"L\"],*NearestNeighbour(GFP,LC3,boundary,R,maxD=np.max(R))]\n",
    "                data[\"r\"]=[*data[\"r\"],*R]\n",
    "                data[\"X\"]=[*data[\"X\"],*([\"GFP\"]*len(R))]\n",
    "                data[\"Y\"]=[*data[\"Y\"],*([\"LC3\"]*len(R))]\n",
    "                data[\"CID\"]=[*data[\"CID\"],*([CID]*len(R))]\n",
    "                data[\"Rep\"]=[*data[\"Rep\"],*([rep]*len(R))]\n",
    "                data[\"Stack\"]=[*data[\"Stack\"],*([i]*len(R))]\n",
    "                data[\"Group\"]=[*data[\"Group\"],*([g]*len(R))]\n",
    "                data[\"LenX\"]=[*data[\"LenX\"],*([len(GFP)]*len(R))]\n",
    "                data[\"LenY\"]=[*data[\"LenY\"],*([len(LC3)]*len(R))]\n",
    "            #AB - LC3\n",
    "            if len(AB) != 0 and len(LC3) != 0:\n",
    "                data[\"L\"]=[*data[\"L\"],*NearestNeighbour(AB,LC3,boundary,R,maxD=np.max(R))]\n",
    "                data[\"r\"]=[*data[\"r\"],*R]\n",
    "                data[\"X\"]=[*data[\"X\"],*([\"AB\"]*len(R))]\n",
    "                data[\"Y\"]=[*data[\"Y\"],*([\"LC3\"]*len(R))]\n",
    "                data[\"CID\"]=[*data[\"CID\"],*([CID]*len(R))]\n",
    "                data[\"Rep\"]=[*data[\"Rep\"],*([rep]*len(R))]\n",
    "                data[\"Group\"]=[*data[\"Group\"],*([g]*len(R))]\n",
    "                data[\"Stack\"]=[*data[\"Stack\"],*([i]*len(R))]\n",
    "                data[\"LenX\"]=[*data[\"LenX\"],*([len(AB)]*len(R))]\n",
    "                data[\"LenY\"]=[*data[\"LenY\"],*([len(LC3)]*len(R))]\n",
    "            #LC3 - GFP\n",
    "            if len(GFP) != 0 and len(LC3) != 0:\n",
    "                data[\"L\"]=[*data[\"L\"],*NearestNeighbour(LC3,GFP,boundary,R,maxD=np.max(R))]\n",
    "                data[\"r\"]=[*data[\"r\"],*R]\n",
    "                data[\"X\"]=[*data[\"X\"],*([\"LC3\"]*len(R))]\n",
    "                data[\"Y\"]=[*data[\"Y\"],*([\"GFP\"]*len(R))]\n",
    "                data[\"CID\"]=[*data[\"CID\"],*([CID]*len(R))]\n",
    "                data[\"Rep\"]=[*data[\"Rep\"],*([rep]*len(R))]\n",
    "                data[\"Group\"]=[*data[\"Group\"],*([g]*len(R))]\n",
    "                data[\"Stack\"]=[*data[\"Stack\"],*([i]*len(R))]\n",
    "                data[\"LenX\"]=[*data[\"LenX\"],*([len(LC3)]*len(R))]\n",
    "                data[\"LenY\"]=[*data[\"LenY\"],*([len(GFP)]*len(R))]\n",
    "            #LC3 - AB\n",
    "            if len(AB) != 0 and len(LC3) != 0:\n",
    "                data[\"L\"]=[*data[\"L\"],*NearestNeighbour(LC3,AB,boundary,R,maxD=np.max(R))]\n",
    "                data[\"r\"]=[*data[\"r\"],*R]\n",
    "                data[\"X\"]=[*data[\"X\"],*([\"LC3\"]*len(R))]\n",
    "                data[\"Y\"]=[*data[\"Y\"],*([\"AB\"]*len(R))]\n",
    "                data[\"CID\"]=[*data[\"CID\"],*([CID]*len(R))]\n",
    "                data[\"Rep\"]=[*data[\"Rep\"],*([rep]*len(R))]\n",
    "                data[\"Group\"]=[*data[\"Group\"],*([g]*len(R))]\n",
    "                data[\"Stack\"]=[*data[\"Stack\"],*([i]*len(R))]\n",
    "                data[\"LenX\"]=[*data[\"LenX\"],*([len(LC3)]*len(R))]\n",
    "                data[\"LenY\"]=[*data[\"LenY\"],*([len(AB)]*len(R))]\n",
    "    return pd.DataFrame(data=data)\n",
    "\n",
    "R = get_R(0,0.5)\n",
    "df2 = calculate_NN(df,R)\n",
    "df2.to_csv(os.path.join(basedir,\"LC3_NN_coloc.csv\"),index=False)\n",
    "df2.head()"
   ]
  },
  {
   "cell_type": "code",
   "execution_count": 7,
   "id": "b015efbd",
   "metadata": {},
   "outputs": [],
   "source": [
    "df2[\"r\"] = df2[\"r\"]*0.0753084"
   ]
  },
  {
   "cell_type": "code",
   "execution_count": null,
   "id": "1ab971ef",
   "metadata": {},
   "outputs": [],
   "source": []
  },
  {
   "cell_type": "code",
   "execution_count": 22,
   "id": "cccf6d32",
   "metadata": {},
   "outputs": [
    {
     "name": "stderr",
     "output_type": "stream",
     "text": [
      "C:\\Users\\Raphael\\AppData\\Local\\Temp\\ipykernel_18336\\83983210.py:1: UserWarning: Boolean Series key will be reindexed to match DataFrame index.\n",
      "  df3 = df2[df2[\"X\"]==\"AB\"][df2[\"Y\"]==\"LC3\"]\n"
     ]
    },
    {
     "data": {
      "text/plain": [
       "<AxesSubplot:xlabel='Group', ylabel='LenY'>"
      ]
     },
     "execution_count": 22,
     "metadata": {},
     "output_type": "execute_result"
    },
    {
     "data": {
      "image/png": "[encoded data removed]",
      "text/plain": [
       "<Figure size 640x480 with 1 Axes>"
      ]
     },
     "metadata": {},
     "output_type": "display_data"
    }
   ],
   "source": [
    "df3 = df2[df2[\"X\"]==\"AB\"][df2[\"Y\"]==\"LC3\"]\n",
    "import seaborn as sns\n",
    "sns.boxplot(data=df3,x = \"Group\",y=\"LenY\",hue=\"Rep\")"
   ]
  },
  {
   "cell_type": "code",
   "execution_count": 17,
   "id": "7701b792",
   "metadata": {},
   "outputs": [
    {
     "data": {
      "text/plain": [
       "<AxesSubplot:xlabel='r', ylabel='L'>"
      ]
     },
     "execution_count": 17,
     "metadata": {},
     "output_type": "execute_result"
    },
    {
     "data": {
      "image/png": "[encoded data removed]",
      "text/plain": [
       "<Figure size 640x480 with 1 Axes>"
      ]
     },
     "metadata": {},
     "output_type": "display_data"
    }
   ],
   "source": [
    "\n",
    "sns.lineplot(data=df3, x=\"r\",y=\"L\",hue=\"Group\")"
   ]
  },
  {
   "cell_type": "code",
   "execution_count": 18,
   "id": "13cec9e0",
   "metadata": {},
   "outputs": [
    {
     "data": {
      "text/html": [
       "<div>\n",
       "<style scoped>\n",
       "    .dataframe tbody tr th:only-of-type {\n",
       "        vertical-align: middle;\n",
       "    }\n",
       "\n",
       "    .dataframe tbody tr th {\n",
       "        vertical-align: top;\n",
       "    }\n",
       "\n",
       "    .dataframe thead th {\n",
       "        text-align: right;\n",
       "    }\n",
       "</style>\n",
       "<table border=\"1\" class=\"dataframe\">\n",
       "  <thead>\n",
       "    <tr style=\"text-align: right;\">\n",
       "      <th></th>\n",
       "      <th></th>\n",
       "      <th>L</th>\n",
       "      <th>Group</th>\n",
       "    </tr>\n",
       "    <tr>\n",
       "      <th>CID</th>\n",
       "      <th>Stack</th>\n",
       "      <th></th>\n",
       "      <th></th>\n",
       "    </tr>\n",
       "  </thead>\n",
       "  <tbody>\n",
       "    <tr>\n",
       "      <th rowspan=\"5\" valign=\"top\">54</th>\n",
       "      <th>0</th>\n",
       "      <td>-0.053966</td>\n",
       "      <td>FY</td>\n",
       "    </tr>\n",
       "    <tr>\n",
       "      <th>1</th>\n",
       "      <td>-0.110210</td>\n",
       "      <td>FY</td>\n",
       "    </tr>\n",
       "    <tr>\n",
       "      <th>2</th>\n",
       "      <td>-0.584206</td>\n",
       "      <td>FY</td>\n",
       "    </tr>\n",
       "    <tr>\n",
       "      <th>3</th>\n",
       "      <td>-1.050287</td>\n",
       "      <td>FY</td>\n",
       "    </tr>\n",
       "    <tr>\n",
       "      <th>4</th>\n",
       "      <td>-0.596833</td>\n",
       "      <td>FY</td>\n",
       "    </tr>\n",
       "  </tbody>\n",
       "</table>\n",
       "</div>"
      ],
      "text/plain": [
       "                  L Group\n",
       "CID Stack                \n",
       "54  0     -0.053966    FY\n",
       "    1     -0.110210    FY\n",
       "    2     -0.584206    FY\n",
       "    3     -1.050287    FY\n",
       "    4     -0.596833    FY"
      ]
     },
     "execution_count": 18,
     "metadata": {},
     "output_type": "execute_result"
    }
   ],
   "source": [
    "gdf = pd.concat([df3.groupby([\"CID\",\"Stack\"])[\"L\"].sum(),df3.groupby([\"CID\",\"Stack\"])[\"Group\"].first()],axis=1)\n",
    "gdf.head()"
   ]
  },
  {
   "cell_type": "code",
   "execution_count": 35,
   "id": "6cf67dc8",
   "metadata": {},
   "outputs": [
    {
     "name": "stderr",
     "output_type": "stream",
     "text": [
      "C:\\Users\\Raphael\\AppData\\Local\\Temp\\ipykernel_18336\\211226237.py:1: FutureWarning: Indexing with multiple keys (implicitly converted to a tuple of keys) will be deprecated, use a list instead.\n",
      "  df4 = pd.concat([df3.groupby([\"CID\",\"Stack\"])[\"L\",\"r\"].apply(lambda x: np.interp(0.25,x[\"r\"],x[\"L\"])),df3.groupby([\"CID\",\"Stack\"])[\"Group\"].first()],axis=1).rename(columns= {0:'%'}).dropna()\n"
     ]
    },
    {
     "data": {
      "text/html": [
       "<div>\n",
       "<style scoped>\n",
       "    .dataframe tbody tr th:only-of-type {\n",
       "        vertical-align: middle;\n",
       "    }\n",
       "\n",
       "    .dataframe tbody tr th {\n",
       "        vertical-align: top;\n",
       "    }\n",
       "\n",
       "    .dataframe thead th {\n",
       "        text-align: right;\n",
       "    }\n",
       "</style>\n",
       "<table border=\"1\" class=\"dataframe\">\n",
       "  <thead>\n",
       "    <tr style=\"text-align: right;\">\n",
       "      <th></th>\n",
       "      <th></th>\n",
       "      <th>%</th>\n",
       "      <th>Group</th>\n",
       "    </tr>\n",
       "    <tr>\n",
       "      <th>CID</th>\n",
       "      <th>Stack</th>\n",
       "      <th></th>\n",
       "      <th></th>\n",
       "    </tr>\n",
       "  </thead>\n",
       "  <tbody>\n",
       "    <tr>\n",
       "      <th rowspan=\"5\" valign=\"top\">54</th>\n",
       "      <th>0</th>\n",
       "      <td>-0.000167</td>\n",
       "      <td>FY</td>\n",
       "    </tr>\n",
       "    <tr>\n",
       "      <th>1</th>\n",
       "      <td>-0.001089</td>\n",
       "      <td>FY</td>\n",
       "    </tr>\n",
       "    <tr>\n",
       "      <th>2</th>\n",
       "      <td>-0.000499</td>\n",
       "      <td>FY</td>\n",
       "    </tr>\n",
       "    <tr>\n",
       "      <th>3</th>\n",
       "      <td>-0.002001</td>\n",
       "      <td>FY</td>\n",
       "    </tr>\n",
       "    <tr>\n",
       "      <th>4</th>\n",
       "      <td>-0.001180</td>\n",
       "      <td>FY</td>\n",
       "    </tr>\n",
       "  </tbody>\n",
       "</table>\n",
       "</div>"
      ],
      "text/plain": [
       "                  % Group\n",
       "CID Stack                \n",
       "54  0     -0.000167    FY\n",
       "    1     -0.001089    FY\n",
       "    2     -0.000499    FY\n",
       "    3     -0.002001    FY\n",
       "    4     -0.001180    FY"
      ]
     },
     "execution_count": 35,
     "metadata": {},
     "output_type": "execute_result"
    }
   ],
   "source": [
    "df4 = pd.concat([df3.groupby([\"CID\",\"Stack\"])[\"L\",\"r\"].apply(lambda x: np.interp(0.25,x[\"r\"],x[\"L\"])),df3.groupby([\"CID\",\"Stack\"])[\"Group\"].first()],axis=1).rename(columns= {0:'%'}).dropna()\n",
    "df4.head()"
   ]
  },
  {
   "cell_type": "code",
   "execution_count": 36,
   "id": "f5aa7c17",
   "metadata": {},
   "outputs": [
    {
     "data": {
      "text/plain": [
       "<AxesSubplot:xlabel='Group', ylabel='%'>"
      ]
     },
     "execution_count": 36,
     "metadata": {},
     "output_type": "execute_result"
    },
    {
     "data": {
      "image/png": "[encoded data removed]",
      "text/plain": [
       "<Figure size 640x480 with 1 Axes>"
      ]
     },
     "metadata": {},
     "output_type": "display_data"
    }
   ],
   "source": [
    "sns.barplot(data=df4,x = \"Group\",y=\"%\")"
   ]
  },
  {
   "cell_type": "code",
   "execution_count": 37,
   "id": "005ebdde",
   "metadata": {},
   "outputs": [
    {
     "name": "stdout",
     "output_type": "stream",
     "text": [
      "13.899040309469582 1.1874917169391108e-06\n"
     ]
    }
   ],
   "source": [
    "import scipy.stats as stats\n",
    "\n",
    "# stats f_oneway functions takes the groups as input and returns ANOVA F and p value\n",
    "fvalue, pvalue = stats.f_oneway(df4[df4[\"Group\"]==\"X\"]['%'].dropna(), df4[df4[\"Group\"]==\"TP\"]['%'].dropna(), df4[df4[\"Group\"]==\"FY\"]['%'].dropna())\n",
    "print(fvalue, pvalue)"
   ]
  },
  {
   "cell_type": "code",
   "execution_count": 38,
   "id": "87e5b329",
   "metadata": {},
   "outputs": [
    {
     "data": {
      "text/html": [
       "<table class=\"simpletable\">\n",
       "<caption>Multiple Comparison of Means - Tukey HSD, FWER=0.05</caption>\n",
       "<tr>\n",
       "  <th>group1</th> <th>group2</th> <th>meandiff</th>  <th>p-adj</th>  <th>lower</th>   <th>upper</th>  <th>reject</th>\n",
       "</tr>\n",
       "<tr>\n",
       "    <td>FY</td>     <td>TP</td>    <td>0.0438</td>  <td>0.0016</td> <td>0.0141</td>  <td>0.0735</td>   <td>True</td> \n",
       "</tr>\n",
       "<tr>\n",
       "    <td>FY</td>      <td>X</td>    <td>-0.009</td>  <td>0.7711</td> <td>-0.0397</td> <td>0.0217</td>   <td>False</td>\n",
       "</tr>\n",
       "<tr>\n",
       "    <td>TP</td>      <td>X</td>    <td>-0.0528</td>   <td>0.0</td>  <td>-0.0777</td> <td>-0.0279</td>  <td>True</td> \n",
       "</tr>\n",
       "</table>"
      ],
      "text/plain": [
       "<class 'statsmodels.iolib.table.SimpleTable'>"
      ]
     },
     "execution_count": 38,
     "metadata": {},
     "output_type": "execute_result"
    }
   ],
   "source": [
    "from statsmodels.stats.multicomp import pairwise_tukeyhsd\n",
    "\n",
    "m_comp = pairwise_tukeyhsd(endog=df4['%'].dropna(), groups=df4['Group'].dropna(), alpha=0.05)\n",
    "m_comp.summary()"
   ]
  },
  {
   "cell_type": "code",
   "execution_count": 41,
   "id": "a46024a6",
   "metadata": {},
   "outputs": [
    {
     "name": "stderr",
     "output_type": "stream",
     "text": [
      "C:\\Users\\Raphael\\AppData\\Local\\Temp\\ipykernel_18336\\1371556776.py:1: UserWarning: Boolean Series key will be reindexed to match DataFrame index.\n",
      "  df5 = df2[df2[\"X\"]==\"LC3\"][df2[\"Y\"]==\"AB\"]\n"
     ]
    }
   ],
   "source": [
    "df5 = df2[df2[\"X\"]==\"LC3\"][df2[\"Y\"]==\"AB\"]"
   ]
  },
  {
   "cell_type": "code",
   "execution_count": 42,
   "id": "34c42b58",
   "metadata": {},
   "outputs": [
    {
     "name": "stderr",
     "output_type": "stream",
     "text": [
      "C:\\Users\\Raphael\\AppData\\Local\\Temp\\ipykernel_18336\\1682409247.py:1: FutureWarning: Indexing with multiple keys (implicitly converted to a tuple of keys) will be deprecated, use a list instead.\n",
      "  df6 = pd.concat([df5.groupby([\"CID\",\"Stack\"])[\"L\",\"r\"].apply(lambda x: np.interp(0.25,x[\"r\"],x[\"L\"])),df5.groupby([\"CID\",\"Stack\"])[\"Group\"].first()],axis=1).rename(columns= {0:'%'}).dropna()\n"
     ]
    },
    {
     "data": {
      "text/html": [
       "<div>\n",
       "<style scoped>\n",
       "    .dataframe tbody tr th:only-of-type {\n",
       "        vertical-align: middle;\n",
       "    }\n",
       "\n",
       "    .dataframe tbody tr th {\n",
       "        vertical-align: top;\n",
       "    }\n",
       "\n",
       "    .dataframe thead th {\n",
       "        text-align: right;\n",
       "    }\n",
       "</style>\n",
       "<table border=\"1\" class=\"dataframe\">\n",
       "  <thead>\n",
       "    <tr style=\"text-align: right;\">\n",
       "      <th></th>\n",
       "      <th></th>\n",
       "      <th>%</th>\n",
       "      <th>Group</th>\n",
       "    </tr>\n",
       "    <tr>\n",
       "      <th>CID</th>\n",
       "      <th>Stack</th>\n",
       "      <th></th>\n",
       "      <th></th>\n",
       "    </tr>\n",
       "  </thead>\n",
       "  <tbody>\n",
       "    <tr>\n",
       "      <th rowspan=\"5\" valign=\"top\">54</th>\n",
       "      <th>0</th>\n",
       "      <td>-0.000491</td>\n",
       "      <td>FY</td>\n",
       "    </tr>\n",
       "    <tr>\n",
       "      <th>1</th>\n",
       "      <td>-0.000676</td>\n",
       "      <td>FY</td>\n",
       "    </tr>\n",
       "    <tr>\n",
       "      <th>2</th>\n",
       "      <td>-0.004406</td>\n",
       "      <td>FY</td>\n",
       "    </tr>\n",
       "    <tr>\n",
       "      <th>3</th>\n",
       "      <td>-0.008016</td>\n",
       "      <td>FY</td>\n",
       "    </tr>\n",
       "    <tr>\n",
       "      <th>4</th>\n",
       "      <td>-0.010333</td>\n",
       "      <td>FY</td>\n",
       "    </tr>\n",
       "  </tbody>\n",
       "</table>\n",
       "</div>"
      ],
      "text/plain": [
       "                  % Group\n",
       "CID Stack                \n",
       "54  0     -0.000491    FY\n",
       "    1     -0.000676    FY\n",
       "    2     -0.004406    FY\n",
       "    3     -0.008016    FY\n",
       "    4     -0.010333    FY"
      ]
     },
     "execution_count": 42,
     "metadata": {},
     "output_type": "execute_result"
    }
   ],
   "source": [
    "df6 = pd.concat([df5.groupby([\"CID\",\"Stack\"])[\"L\",\"r\"].apply(lambda x: np.interp(0.25,x[\"r\"],x[\"L\"])),df5.groupby([\"CID\",\"Stack\"])[\"Group\"].first()],axis=1).rename(columns= {0:'%'}).dropna()\n",
    "df6.head()"
   ]
  },
  {
   "cell_type": "code",
   "execution_count": 43,
   "id": "6bee4ac3",
   "metadata": {},
   "outputs": [
    {
     "data": {
      "text/plain": [
       "<AxesSubplot:xlabel='Group', ylabel='%'>"
      ]
     },
     "execution_count": 43,
     "metadata": {},
     "output_type": "execute_result"
    },
    {
     "data": {
      "image/png": "[encoded data removed]",
      "text/plain": [
       "<Figure size 640x480 with 1 Axes>"
      ]
     },
     "metadata": {},
     "output_type": "display_data"
    }
   ],
   "source": [
    "sns.barplot(data=df6,x = \"Group\",y=\"%\")"
   ]
  },
  {
   "cell_type": "code",
   "execution_count": 44,
   "id": "75ae70b2",
   "metadata": {},
   "outputs": [
    {
     "name": "stdout",
     "output_type": "stream",
     "text": [
      "10.577186510434764 2.9579533682441205e-05\n"
     ]
    }
   ],
   "source": [
    "# stats f_oneway functions takes the groups as input and returns ANOVA F and p value\n",
    "fvalue, pvalue = stats.f_oneway(df6[df6[\"Group\"]==\"X\"]['%'].dropna(), df6[df6[\"Group\"]==\"TP\"]['%'].dropna(), df6[df6[\"Group\"]==\"FY\"]['%'].dropna())\n",
    "print(fvalue, pvalue)"
   ]
  },
  {
   "cell_type": "code",
   "execution_count": 45,
   "id": "22ba7c76",
   "metadata": {},
   "outputs": [
    {
     "data": {
      "text/html": [
       "<table class=\"simpletable\">\n",
       "<caption>Multiple Comparison of Means - Tukey HSD, FWER=0.05</caption>\n",
       "<tr>\n",
       "  <th>group1</th> <th>group2</th> <th>meandiff</th>  <th>p-adj</th>  <th>lower</th>   <th>upper</th>  <th>reject</th>\n",
       "</tr>\n",
       "<tr>\n",
       "    <td>FY</td>     <td>TP</td>    <td>0.0359</td>  <td>0.0067</td> <td>0.0082</td>  <td>0.0635</td>   <td>True</td> \n",
       "</tr>\n",
       "<tr>\n",
       "    <td>FY</td>      <td>X</td>    <td>-0.0069</td> <td>0.8367</td> <td>-0.0356</td> <td>0.0217</td>   <td>False</td>\n",
       "</tr>\n",
       "<tr>\n",
       "    <td>TP</td>      <td>X</td>    <td>-0.0428</td>   <td>0.0</td>  <td>-0.066</td>  <td>-0.0196</td>  <td>True</td> \n",
       "</tr>\n",
       "</table>"
      ],
      "text/plain": [
       "<class 'statsmodels.iolib.table.SimpleTable'>"
      ]
     },
     "execution_count": 45,
     "metadata": {},
     "output_type": "execute_result"
    }
   ],
   "source": [
    "m_comp = pairwise_tukeyhsd(endog=df6['%'].dropna(), groups=df6['Group'].dropna(), alpha=0.05)\n",
    "m_comp.summary()"
   ]
  },
  {
   "cell_type": "code",
   "execution_count": 46,
   "id": "ac17bb5c",
   "metadata": {},
   "outputs": [
    {
     "name": "stderr",
     "output_type": "stream",
     "text": [
      "C:\\Users\\Raphael\\anaconda3\\envs\\pathophysiology\\lib\\site-packages\\seaborn\\categorical.py:1296: UserWarning: 28.6% of the points cannot be placed; you may want to decrease the size of the markers or use stripplot.\n",
      "  warnings.warn(msg, UserWarning)\n"
     ]
    },
    {
     "data": {
      "text/plain": [
       "<AxesSubplot:xlabel='Group', ylabel='%'>"
      ]
     },
     "execution_count": 46,
     "metadata": {},
     "output_type": "execute_result"
    },
    {
     "data": {
      "image/png": "[encoded data removed]",
      "text/plain": [
       "<Figure size 640x480 with 1 Axes>"
      ]
     },
     "metadata": {},
     "output_type": "display_data"
    }
   ],
   "source": [
    "df7 = pd.concat([df6.groupby([\"CID\"])[\"%\"].mean(numeric_only=True),df6.groupby([\"CID\"])[\"Group\"].first()],axis=1)\n",
    "df7.head()\n",
    "sns.swarmplot(data=df7,x = \"Group\",y=\"%\")"
   ]
  },
  {
   "cell_type": "code",
   "execution_count": 47,
   "id": "7f223a00",
   "metadata": {},
   "outputs": [
    {
     "ename": "KeyError",
     "evalue": "'Group1'",
     "output_type": "error",
     "traceback": [
      "\u001b[1;31m---------------------------------------------------------------------------\u001b[0m",
      "\u001b[1;31mKeyError\u001b[0m                                  Traceback (most recent call last)",
      "\u001b[1;32m~\\anaconda3\\envs\\pathophysiology\\lib\\site-packages\\pandas\\core\\indexes\\base.py\u001b[0m in \u001b[0;36mget_loc\u001b[1;34m(self, key, method, tolerance)\u001b[0m\n\u001b[0;32m   3620\u001b[0m             \u001b[1;32mtry\u001b[0m\u001b[1;33m:\u001b[0m\u001b[1;33m\u001b[0m\u001b[1;33m\u001b[0m\u001b[0m\n\u001b[1;32m-> 3621\u001b[1;33m                 \u001b[1;32mreturn\u001b[0m \u001b[0mself\u001b[0m\u001b[1;33m.\u001b[0m\u001b[0m_engine\u001b[0m\u001b[1;33m.\u001b[0m\u001b[0mget_loc\u001b[0m\u001b[1;33m(\u001b[0m\u001b[0mcasted_key\u001b[0m\u001b[1;33m)\u001b[0m\u001b[1;33m\u001b[0m\u001b[1;33m\u001b[0m\u001b[0m\n\u001b[0m\u001b[0;32m   3622\u001b[0m             \u001b[1;32mexcept\u001b[0m \u001b[0mKeyError\u001b[0m \u001b[1;32mas\u001b[0m \u001b[0merr\u001b[0m\u001b[1;33m:\u001b[0m\u001b[1;33m\u001b[0m\u001b[1;33m\u001b[0m\u001b[0m\n",
      "\u001b[1;32m~\\anaconda3\\envs\\pathophysiology\\lib\\site-packages\\pandas\\_libs\\index.pyx\u001b[0m in \u001b[0;36mpandas._libs.index.IndexEngine.get_loc\u001b[1;34m()\u001b[0m\n",
      "\u001b[1;32m~\\anaconda3\\envs\\pathophysiology\\lib\\site-packages\\pandas\\_libs\\index.pyx\u001b[0m in \u001b[0;36mpandas._libs.index.IndexEngine.get_loc\u001b[1;34m()\u001b[0m\n",
      "\u001b[1;32mpandas\\_libs\\hashtable_class_helper.pxi\u001b[0m in \u001b[0;36mpandas._libs.hashtable.PyObjectHashTable.get_item\u001b[1;34m()\u001b[0m\n",
      "\u001b[1;32mpandas\\_libs\\hashtable_class_helper.pxi\u001b[0m in \u001b[0;36mpandas._libs.hashtable.PyObjectHashTable.get_item\u001b[1;34m()\u001b[0m\n",
      "\u001b[1;31mKeyError\u001b[0m: 'Group1'",
      "\nThe above exception was the direct cause of the following exception:\n",
      "\u001b[1;31mKeyError\u001b[0m                                  Traceback (most recent call last)",
      "\u001b[1;32m~\\AppData\\Local\\Temp\\ipykernel_18336\\3611170003.py\u001b[0m in \u001b[0;36m<cell line: 59>\u001b[1;34m()\u001b[0m\n\u001b[0;32m     58\u001b[0m \u001b[0mi\u001b[0m \u001b[1;33m=\u001b[0m \u001b[1;36m0\u001b[0m\u001b[1;33m\u001b[0m\u001b[1;33m\u001b[0m\u001b[0m\n\u001b[0;32m     59\u001b[0m \u001b[1;32mfor\u001b[0m \u001b[0mg\u001b[0m \u001b[1;32min\u001b[0m \u001b[1;33m[\u001b[0m\u001b[1;34m'X'\u001b[0m\u001b[1;33m,\u001b[0m\u001b[1;34m'TP'\u001b[0m\u001b[1;33m,\u001b[0m \u001b[1;34m'FY'\u001b[0m\u001b[1;33m]\u001b[0m\u001b[1;33m:\u001b[0m\u001b[1;33m\u001b[0m\u001b[1;33m\u001b[0m\u001b[0m\n\u001b[1;32m---> 60\u001b[1;33m     \u001b[0mgdf\u001b[0m \u001b[1;33m=\u001b[0m \u001b[0mdf6\u001b[0m\u001b[1;33m[\u001b[0m\u001b[0mdf6\u001b[0m\u001b[1;33m[\u001b[0m\u001b[1;34m\"Group1\"\u001b[0m\u001b[1;33m]\u001b[0m\u001b[1;33m==\u001b[0m\u001b[0mg\u001b[0m\u001b[1;33m]\u001b[0m\u001b[1;33m\u001b[0m\u001b[1;33m\u001b[0m\u001b[0m\n\u001b[0m\u001b[0;32m     61\u001b[0m     \u001b[0mx\u001b[0m \u001b[1;33m=\u001b[0m \u001b[0mg\u001b[0m\u001b[1;33m\u001b[0m\u001b[1;33m\u001b[0m\u001b[0m\n\u001b[0;32m     62\u001b[0m     \u001b[1;32mif\u001b[0m \u001b[0mg\u001b[0m \u001b[1;33m==\u001b[0m \u001b[1;34m\"X\"\u001b[0m\u001b[1;33m:\u001b[0m\u001b[1;33m\u001b[0m\u001b[1;33m\u001b[0m\u001b[0m\n",
      "\u001b[1;32m~\\anaconda3\\envs\\pathophysiology\\lib\\site-packages\\pandas\\core\\frame.py\u001b[0m in \u001b[0;36m__getitem__\u001b[1;34m(self, key)\u001b[0m\n\u001b[0;32m   3503\u001b[0m             \u001b[1;32mif\u001b[0m \u001b[0mself\u001b[0m\u001b[1;33m.\u001b[0m\u001b[0mcolumns\u001b[0m\u001b[1;33m.\u001b[0m\u001b[0mnlevels\u001b[0m \u001b[1;33m>\u001b[0m \u001b[1;36m1\u001b[0m\u001b[1;33m:\u001b[0m\u001b[1;33m\u001b[0m\u001b[1;33m\u001b[0m\u001b[0m\n\u001b[0;32m   3504\u001b[0m                 \u001b[1;32mreturn\u001b[0m \u001b[0mself\u001b[0m\u001b[1;33m.\u001b[0m\u001b[0m_getitem_multilevel\u001b[0m\u001b[1;33m(\u001b[0m\u001b[0mkey\u001b[0m\u001b[1;33m)\u001b[0m\u001b[1;33m\u001b[0m\u001b[1;33m\u001b[0m\u001b[0m\n\u001b[1;32m-> 3505\u001b[1;33m             \u001b[0mindexer\u001b[0m \u001b[1;33m=\u001b[0m \u001b[0mself\u001b[0m\u001b[1;33m.\u001b[0m\u001b[0mcolumns\u001b[0m\u001b[1;33m.\u001b[0m\u001b[0mget_loc\u001b[0m\u001b[1;33m(\u001b[0m\u001b[0mkey\u001b[0m\u001b[1;33m)\u001b[0m\u001b[1;33m\u001b[0m\u001b[1;33m\u001b[0m\u001b[0m\n\u001b[0m\u001b[0;32m   3506\u001b[0m             \u001b[1;32mif\u001b[0m \u001b[0mis_integer\u001b[0m\u001b[1;33m(\u001b[0m\u001b[0mindexer\u001b[0m\u001b[1;33m)\u001b[0m\u001b[1;33m:\u001b[0m\u001b[1;33m\u001b[0m\u001b[1;33m\u001b[0m\u001b[0m\n\u001b[0;32m   3507\u001b[0m                 \u001b[0mindexer\u001b[0m \u001b[1;33m=\u001b[0m \u001b[1;33m[\u001b[0m\u001b[0mindexer\u001b[0m\u001b[1;33m]\u001b[0m\u001b[1;33m\u001b[0m\u001b[1;33m\u001b[0m\u001b[0m\n",
      "\u001b[1;32m~\\anaconda3\\envs\\pathophysiology\\lib\\site-packages\\pandas\\core\\indexes\\base.py\u001b[0m in \u001b[0;36mget_loc\u001b[1;34m(self, key, method, tolerance)\u001b[0m\n\u001b[0;32m   3621\u001b[0m                 \u001b[1;32mreturn\u001b[0m \u001b[0mself\u001b[0m\u001b[1;33m.\u001b[0m\u001b[0m_engine\u001b[0m\u001b[1;33m.\u001b[0m\u001b[0mget_loc\u001b[0m\u001b[1;33m(\u001b[0m\u001b[0mcasted_key\u001b[0m\u001b[1;33m)\u001b[0m\u001b[1;33m\u001b[0m\u001b[1;33m\u001b[0m\u001b[0m\n\u001b[0;32m   3622\u001b[0m             \u001b[1;32mexcept\u001b[0m \u001b[0mKeyError\u001b[0m \u001b[1;32mas\u001b[0m \u001b[0merr\u001b[0m\u001b[1;33m:\u001b[0m\u001b[1;33m\u001b[0m\u001b[1;33m\u001b[0m\u001b[0m\n\u001b[1;32m-> 3623\u001b[1;33m                 \u001b[1;32mraise\u001b[0m \u001b[0mKeyError\u001b[0m\u001b[1;33m(\u001b[0m\u001b[0mkey\u001b[0m\u001b[1;33m)\u001b[0m \u001b[1;32mfrom\u001b[0m \u001b[0merr\u001b[0m\u001b[1;33m\u001b[0m\u001b[1;33m\u001b[0m\u001b[0m\n\u001b[0m\u001b[0;32m   3624\u001b[0m             \u001b[1;32mexcept\u001b[0m \u001b[0mTypeError\u001b[0m\u001b[1;33m:\u001b[0m\u001b[1;33m\u001b[0m\u001b[1;33m\u001b[0m\u001b[0m\n\u001b[0;32m   3625\u001b[0m                 \u001b[1;31m# If we have a listlike key, _check_indexing_error will raise\u001b[0m\u001b[1;33m\u001b[0m\u001b[1;33m\u001b[0m\u001b[0m\n",
      "\u001b[1;31mKeyError\u001b[0m: 'Group1'"
     ]
    },
    {
     "data": {
      "image/png": "[encoded data removed]",
      "text/plain": [
       "<Figure size 787.402x393.701 with 1 Axes>"
      ]
     },
     "metadata": {},
     "output_type": "display_data"
    }
   ],
   "source": [
    "import pathophys as pp\n",
    "\n",
    "def convert_pvalue_to_asterisks(pvalue):\n",
    "    if pvalue <= 0.0001:\n",
    "        return \"****\"\n",
    "    elif pvalue <= 0.001:\n",
    "        return \"***\"\n",
    "    elif pvalue <= 0.01:\n",
    "        return \"**\"\n",
    "    elif pvalue <= 0.05:\n",
    "        return \"*\"\n",
    "    return \"ns\"\n",
    "\n",
    "def drawsigbars(ax, ctrl, treatment, maxv, y_range, diff,pv):\n",
    "    import matplotlib.pyplot as plt\n",
    "    import pathophys as pp\n",
    "    ctrls = ctrl\n",
    "    treatments = treatment\n",
    "    if (type(ctrl) is dict) == True:\n",
    "        ctrls = list(ctrl.keys())[0]\n",
    "        ctrl = ctrl[ctrls]\n",
    "        treatments = list(treatment.keys())[0]\n",
    "        treatment = treatment[treatments]\n",
    "        print(ctrl)\n",
    "    ax.plot(\n",
    "        [ctrl, ctrl, treatment, treatment],\n",
    "        [maxv, maxv, maxv, maxv], lw=2, c='k'\n",
    "    )\n",
    "    p = pp.convert_pvalue_to_asterisks(pv)\n",
    "    ax.text((ctrl+diff), maxv, p, ha='center', va='bottom', fontsize=11)\n",
    "\n",
    "    \n",
    "pv1 = {\n",
    "    \"Ctrl\":{\n",
    "        \"TP\":0,\n",
    "        \"FY\":0.8367 \t\n",
    "    }\n",
    "}\n",
    "pv2 = {\n",
    "    \"Ctrl\":{\n",
    "        \"TP\":0.7711 \t,\n",
    "        \"FY\":0\n",
    "    }\n",
    "}\n",
    "sigp = [[\"Ctrl\",\"TP\"],[\"Ctrl\",\"FY\"]]\n",
    "params = pp.loadparams()\n",
    "#sns.set_palette(sns.color_palette(params[\"Colors\"]))\n",
    "bs = params[\"BarSize\"]\n",
    "ls = params[\"LS\"]\n",
    "fig = plt.figure(constrained_layout=True, figsize=(20*pp.cm,10*pp.cm))\n",
    "subfigs = fig.subfigures(1,2)\n",
    "\n",
    "axUp = subfigs[0].subplots(1, 1, sharey=True)\n",
    "X2 = []\n",
    "X3 = []\n",
    "Y2 = []\n",
    "maxvs = []\n",
    "i = 0\n",
    "for g in ['X','TP', 'FY']:\n",
    "    gdf = df6[df6[\"Group\"]==g]\n",
    "    x = g\n",
    "    if g == \"X\":\n",
    "        x = \"Ctrl\"\n",
    "    X2.append(x)\n",
    "    gdf['%'] = gdf['%']*100\n",
    "    y = gdf['%'].mean()\n",
    "    std = gdf['%'].std()\n",
    "    err = 1.96*(std)/np.sqrt(gdf.size)\n",
    "    maxvs.append(y+err)\n",
    "    axUp.bar(x, y, 0.8, yerr=err, capsize=4, linewidth=ls, edgecolor=\"black\",color=params[\"Colors\"][i])\n",
    "    i=i+1\n",
    "    #CI1.append(1.96*(df[\"Mean\"][df[\"Group\"]==g].std())/math.sqrt(len(df[df[\"Group\"]==g])))\n",
    "for axis in ['top','bottom','left','right']:\n",
    "    axUp.spines[axis].set_linewidth(ls)\n",
    "    if axis in ['top','right']:\n",
    "        axUp.spines[axis].set_visible(False)\n",
    "axUp.tick_params(width=ls)\n",
    "maxv2 = np.max(np.array(maxvs))\n",
    "\n",
    "bottom2, top2 = axUp.get_ylim()\n",
    "y_range = top2 - bottom2\n",
    "hightind =  y_range*0.1\n",
    "treatmenti = 0\n",
    "#args = [df[\"Mean\"][df[\"Group\"]==g].values for g in df[\"Group\"].unique()]\n",
    "#m_comp = tukey_hsd(*args)\n",
    "for pairs in sigp:\n",
    "    c1 = pairs[0]\n",
    "    ctrli = X2.index(c1)\n",
    "    c2 = pairs[1]\n",
    "    treatmenti = X2.index(c2)\n",
    "    c1dic = {c1:ctrli+1}\n",
    "    c2dic = {c2:treatmenti+1}\n",
    "    diff = ((treatmenti-ctrli)/2)\n",
    "    print(diff)\n",
    "    p = pv1[c1][c2]\n",
    "    drawsigbars(axUp, ctrli, treatmenti, maxv2+hightind, y_range, diff,p)\n",
    "    hightind = hightind + y_range*0.2\n",
    "#expected = ((1.2)**2)/2-((0.2)**2)/2\n",
    "#axLo.axhline(y=expected, color='r', linestyle='--')\n",
    "axUp.set_title(\"Colocalization (aSyn - LC3)\", fontsize=11)\n",
    "axUp.set_title(\"b\", loc=\"left\", fontsize=20, fontweight=\"bold\", pad=15)\n",
    "axUp.set_xlabel(\"Treatment\", fontsize=11)\n",
    "axUp.set_ylabel(\"% aSyn colocalization with LC3 (<0.25 µm)\", fontsize=11)\n",
    "\n",
    "axLo = subfigs[1].subplots(1, 1, sharey=True)\n",
    "X2 = []\n",
    "X3 = []\n",
    "Y2 = []\n",
    "maxvs = []\n",
    "i = 0\n",
    "for g in ['X','TP', 'FY']:\n",
    "    gdf = df4[df4[\"Group1\"]==g]\n",
    "    x = g\n",
    "    if g == \"X\":\n",
    "        x = \"Ctrl\"\n",
    "    X2.append(x)\n",
    "    gdf['%'] = gdf['%']*100\n",
    "    y = gdf['%'].mean()\n",
    "    std = gdf['%'].std()\n",
    "    err = 1.96*(std)/np.sqrt(gdf.size)\n",
    "    maxvs.append(y+err)\n",
    "    axLo.bar(x, y, 0.8, yerr=err, capsize=4, linewidth=ls, edgecolor=\"black\",color=params[\"Colors\"][i])\n",
    "    i=i+1\n",
    "    #CI1.append(1.96*(df[\"Mean\"][df[\"Group\"]==g].std())/math.sqrt(len(df[df[\"Group\"]==g])))\n",
    "for axis in ['top','bottom','left','right']:\n",
    "    axLo.spines[axis].set_linewidth(ls)\n",
    "    if axis in ['top','right']:\n",
    "        axLo.spines[axis].set_visible(False)\n",
    "axLo.tick_params(width=ls)\n",
    "maxv2 = np.max(np.array(maxvs))\n",
    "\n",
    "bottom2, top2 = axLo.get_ylim()\n",
    "y_range = top2 - bottom2\n",
    "hightind =  y_range*0.1\n",
    "treatmenti = 0\n",
    "#args = [df[\"Mean\"][df[\"Group\"]==g].values for g in df[\"Group\"].unique()]\n",
    "#m_comp = tukey_hsd(*args)\n",
    "for pairs in sigp:\n",
    "    c1 = pairs[0]\n",
    "    ctrli = X2.index(c1)\n",
    "    c2 = pairs[1]\n",
    "    treatmenti = X2.index(c2)\n",
    "    c1dic = {c1:ctrli+1}\n",
    "    c2dic = {c2:treatmenti+1}\n",
    "    diff = ((treatmenti-ctrli)/2)\n",
    "    print(diff)\n",
    "    p = pv2[c1][c2]\n",
    "    drawsigbars(axLo, ctrli, treatmenti, maxv2+hightind, y_range, diff,p)\n",
    "    hightind = hightind + y_range*0.2\n",
    "#expected = ((1.2)**2)/2-((0.2)**2)/2\n",
    "#axLo.axhline(y=expected, color='r', linestyle='--')\n",
    "axLo.set_title(\"Colocalization (LC3 - aSyn)\", fontsize=11)\n",
    "axLo.set_title(\"c\", loc=\"left\", fontsize=20, fontweight=\"bold\", pad=15)\n",
    "axLo.set_xlabel(\"Treatment\", fontsize=11)\n",
    "axLo.set_ylabel(\"% LC3 colocalization with aSyn (<0.25 µm)\", fontsize=11)\n",
    "\n",
    "\n",
    "plt.show()"
   ]
  },
  {
   "cell_type": "code",
   "execution_count": 39,
   "id": "a796c274",
   "metadata": {},
   "outputs": [
    {
     "name": "stdout",
     "output_type": "stream",
     "text": [
      "Ttest_indResult(statistic=-4.005175706932421, pvalue=7.34918114232137e-05)\n"
     ]
    }
   ],
   "source": [
    "#from scipy.stats import ttest_ind\n",
    "#print(ttest_ind(df4[df4[\"Group\"]==\"X\"]['%'].dropna(),df4[df4[\"Group\"]==\"FY\"]['%'].dropna()))"
   ]
  },
  {
   "cell_type": "code",
   "execution_count": 14,
   "id": "7263c153",
   "metadata": {},
   "outputs": [],
   "source": [
    "#df2.to_excel(os.path.join(basedir,\"LC3_Manders.xlsx\"),index_label=\"CID\")"
   ]
  },
  {
   "cell_type": "code",
   "execution_count": 15,
   "id": "c79069e9",
   "metadata": {},
   "outputs": [
    {
     "ename": "ValueError",
     "evalue": "Could not interpret input 'Group1'",
     "output_type": "error",
     "traceback": [
      "\u001b[1;31m---------------------------------------------------------------------------\u001b[0m",
      "\u001b[1;31mValueError\u001b[0m                                Traceback (most recent call last)",
      "\u001b[1;32m~\\AppData\\Local\\Temp\\ipykernel_18336\\3051100789.py\u001b[0m in \u001b[0;36m<cell line: 2>\u001b[1;34m()\u001b[0m\n\u001b[0;32m      1\u001b[0m \u001b[1;32mimport\u001b[0m \u001b[0mseaborn\u001b[0m \u001b[1;32mas\u001b[0m \u001b[0msns\u001b[0m\u001b[1;33m\u001b[0m\u001b[1;33m\u001b[0m\u001b[0m\n\u001b[1;32m----> 2\u001b[1;33m \u001b[0msns\u001b[0m\u001b[1;33m.\u001b[0m\u001b[0mboxplot\u001b[0m\u001b[1;33m(\u001b[0m\u001b[0mdata\u001b[0m\u001b[1;33m=\u001b[0m\u001b[0mdf2\u001b[0m\u001b[1;33m,\u001b[0m\u001b[0mx\u001b[0m \u001b[1;33m=\u001b[0m \u001b[1;34m\"Group1\"\u001b[0m\u001b[1;33m,\u001b[0m\u001b[0my\u001b[0m\u001b[1;33m=\u001b[0m\u001b[1;34m\"Manders_GFP_M1\"\u001b[0m\u001b[1;33m)\u001b[0m\u001b[1;33m\u001b[0m\u001b[1;33m\u001b[0m\u001b[0m\n\u001b[0m",
      "\u001b[1;32m~\\anaconda3\\envs\\pathophysiology\\lib\\site-packages\\seaborn\\_decorators.py\u001b[0m in \u001b[0;36minner_f\u001b[1;34m(*args, **kwargs)\u001b[0m\n\u001b[0;32m     44\u001b[0m             )\n\u001b[0;32m     45\u001b[0m         \u001b[0mkwargs\u001b[0m\u001b[1;33m.\u001b[0m\u001b[0mupdate\u001b[0m\u001b[1;33m(\u001b[0m\u001b[1;33m{\u001b[0m\u001b[0mk\u001b[0m\u001b[1;33m:\u001b[0m \u001b[0marg\u001b[0m \u001b[1;32mfor\u001b[0m \u001b[0mk\u001b[0m\u001b[1;33m,\u001b[0m \u001b[0marg\u001b[0m \u001b[1;32min\u001b[0m \u001b[0mzip\u001b[0m\u001b[1;33m(\u001b[0m\u001b[0msig\u001b[0m\u001b[1;33m.\u001b[0m\u001b[0mparameters\u001b[0m\u001b[1;33m,\u001b[0m \u001b[0margs\u001b[0m\u001b[1;33m)\u001b[0m\u001b[1;33m}\u001b[0m\u001b[1;33m)\u001b[0m\u001b[1;33m\u001b[0m\u001b[1;33m\u001b[0m\u001b[0m\n\u001b[1;32m---> 46\u001b[1;33m         \u001b[1;32mreturn\u001b[0m \u001b[0mf\u001b[0m\u001b[1;33m(\u001b[0m\u001b[1;33m**\u001b[0m\u001b[0mkwargs\u001b[0m\u001b[1;33m)\u001b[0m\u001b[1;33m\u001b[0m\u001b[1;33m\u001b[0m\u001b[0m\n\u001b[0m\u001b[0;32m     47\u001b[0m     \u001b[1;32mreturn\u001b[0m \u001b[0minner_f\u001b[0m\u001b[1;33m\u001b[0m\u001b[1;33m\u001b[0m\u001b[0m\n\u001b[0;32m     48\u001b[0m \u001b[1;33m\u001b[0m\u001b[0m\n",
      "\u001b[1;32m~\\anaconda3\\envs\\pathophysiology\\lib\\site-packages\\seaborn\\categorical.py\u001b[0m in \u001b[0;36mboxplot\u001b[1;34m(x, y, hue, data, order, hue_order, orient, color, palette, saturation, width, dodge, fliersize, linewidth, whis, ax, **kwargs)\u001b[0m\n\u001b[0;32m   2241\u001b[0m ):\n\u001b[0;32m   2242\u001b[0m \u001b[1;33m\u001b[0m\u001b[0m\n\u001b[1;32m-> 2243\u001b[1;33m     plotter = _BoxPlotter(x, y, hue, data, order, hue_order,\n\u001b[0m\u001b[0;32m   2244\u001b[0m                           \u001b[0morient\u001b[0m\u001b[1;33m,\u001b[0m \u001b[0mcolor\u001b[0m\u001b[1;33m,\u001b[0m \u001b[0mpalette\u001b[0m\u001b[1;33m,\u001b[0m \u001b[0msaturation\u001b[0m\u001b[1;33m,\u001b[0m\u001b[1;33m\u001b[0m\u001b[1;33m\u001b[0m\u001b[0m\n\u001b[0;32m   2245\u001b[0m                           width, dodge, fliersize, linewidth)\n",
      "\u001b[1;32m~\\anaconda3\\envs\\pathophysiology\\lib\\site-packages\\seaborn\\categorical.py\u001b[0m in \u001b[0;36m__init__\u001b[1;34m(self, x, y, hue, data, order, hue_order, orient, color, palette, saturation, width, dodge, fliersize, linewidth)\u001b[0m\n\u001b[0;32m    404\u001b[0m                  width, dodge, fliersize, linewidth):\n\u001b[0;32m    405\u001b[0m \u001b[1;33m\u001b[0m\u001b[0m\n\u001b[1;32m--> 406\u001b[1;33m         \u001b[0mself\u001b[0m\u001b[1;33m.\u001b[0m\u001b[0mestablish_variables\u001b[0m\u001b[1;33m(\u001b[0m\u001b[0mx\u001b[0m\u001b[1;33m,\u001b[0m \u001b[0my\u001b[0m\u001b[1;33m,\u001b[0m \u001b[0mhue\u001b[0m\u001b[1;33m,\u001b[0m \u001b[0mdata\u001b[0m\u001b[1;33m,\u001b[0m \u001b[0morient\u001b[0m\u001b[1;33m,\u001b[0m \u001b[0morder\u001b[0m\u001b[1;33m,\u001b[0m \u001b[0mhue_order\u001b[0m\u001b[1;33m)\u001b[0m\u001b[1;33m\u001b[0m\u001b[1;33m\u001b[0m\u001b[0m\n\u001b[0m\u001b[0;32m    407\u001b[0m         \u001b[0mself\u001b[0m\u001b[1;33m.\u001b[0m\u001b[0mestablish_colors\u001b[0m\u001b[1;33m(\u001b[0m\u001b[0mcolor\u001b[0m\u001b[1;33m,\u001b[0m \u001b[0mpalette\u001b[0m\u001b[1;33m,\u001b[0m \u001b[0msaturation\u001b[0m\u001b[1;33m)\u001b[0m\u001b[1;33m\u001b[0m\u001b[1;33m\u001b[0m\u001b[0m\n\u001b[0;32m    408\u001b[0m \u001b[1;33m\u001b[0m\u001b[0m\n",
      "\u001b[1;32m~\\anaconda3\\envs\\pathophysiology\\lib\\site-packages\\seaborn\\categorical.py\u001b[0m in \u001b[0;36mestablish_variables\u001b[1;34m(self, x, y, hue, data, orient, order, hue_order, units)\u001b[0m\n\u001b[0;32m    151\u001b[0m                 \u001b[1;32mif\u001b[0m \u001b[0misinstance\u001b[0m\u001b[1;33m(\u001b[0m\u001b[0mvar\u001b[0m\u001b[1;33m,\u001b[0m \u001b[0mstr\u001b[0m\u001b[1;33m)\u001b[0m\u001b[1;33m:\u001b[0m\u001b[1;33m\u001b[0m\u001b[1;33m\u001b[0m\u001b[0m\n\u001b[0;32m    152\u001b[0m                     \u001b[0merr\u001b[0m \u001b[1;33m=\u001b[0m \u001b[1;34m\"Could not interpret input '{}'\"\u001b[0m\u001b[1;33m.\u001b[0m\u001b[0mformat\u001b[0m\u001b[1;33m(\u001b[0m\u001b[0mvar\u001b[0m\u001b[1;33m)\u001b[0m\u001b[1;33m\u001b[0m\u001b[1;33m\u001b[0m\u001b[0m\n\u001b[1;32m--> 153\u001b[1;33m                     \u001b[1;32mraise\u001b[0m \u001b[0mValueError\u001b[0m\u001b[1;33m(\u001b[0m\u001b[0merr\u001b[0m\u001b[1;33m)\u001b[0m\u001b[1;33m\u001b[0m\u001b[1;33m\u001b[0m\u001b[0m\n\u001b[0m\u001b[0;32m    154\u001b[0m \u001b[1;33m\u001b[0m\u001b[0m\n\u001b[0;32m    155\u001b[0m             \u001b[1;31m# Figure out the plotting orientation\u001b[0m\u001b[1;33m\u001b[0m\u001b[1;33m\u001b[0m\u001b[0m\n",
      "\u001b[1;31mValueError\u001b[0m: Could not interpret input 'Group1'"
     ]
    }
   ],
   "source": [
    "import seaborn as sns\n",
    "sns.boxplot(data=df2,x = \"Group1\",y=\"Manders_GFP_M1\")"
   ]
  },
  {
   "cell_type": "code",
   "execution_count": null,
   "id": "cea0b9c8",
   "metadata": {},
   "outputs": [],
   "source": [
    "sns.boxplot(data=df2,x = \"Group1\",y=\"Manders_GFP_M2\")"
   ]
  },
  {
   "cell_type": "code",
   "execution_count": null,
   "id": "87b2c7c9",
   "metadata": {},
   "outputs": [],
   "source": [
    "sns.boxplot(data=df2,x = \"Group1\",y=\"Manders_AB_M1\")"
   ]
  },
  {
   "cell_type": "code",
   "execution_count": null,
   "id": "9972661e",
   "metadata": {},
   "outputs": [],
   "source": [
    "sns.boxplot(data=df2,x = \"Group1\",y=\"Manders_AB_M2\")"
   ]
  },
  {
   "cell_type": "code",
   "execution_count": null,
   "id": "b8ac003b",
   "metadata": {},
   "outputs": [],
   "source": [
    "sns.barplot(data=df2,x = \"Group1\",y=\"Manders_AB_M1\")"
   ]
  },
  {
   "cell_type": "code",
   "execution_count": null,
   "id": "218a43fb",
   "metadata": {},
   "outputs": [],
   "source": [
    "sns.barplot(data=df2,x = \"Group1\",y=\"Manders_AB_M2\")"
   ]
  },
  {
   "cell_type": "code",
   "execution_count": null,
   "id": "95681523",
   "metadata": {},
   "outputs": [],
   "source": [
    "#sns.violinplot(data=df2,x = \"Group1\",y=\"Manders_adapted_AB\")"
   ]
  },
  {
   "cell_type": "code",
   "execution_count": null,
   "id": "b9dbe279",
   "metadata": {},
   "outputs": [],
   "source": [
    "sns.boxplot(data=df2,x = \"Group1\",y=\"Pearson_GFP\")"
   ]
  },
  {
   "cell_type": "code",
   "execution_count": null,
   "id": "578e1b19",
   "metadata": {},
   "outputs": [],
   "source": [
    "sns.boxplot(data=df2,x = \"Group1\",y=\"Pearson_AB\",hue=\"Replicate\")"
   ]
  },
  {
   "cell_type": "code",
   "execution_count": null,
   "id": "2fb4fdcb",
   "metadata": {},
   "outputs": [],
   "source": [
    "df2.groupby(\"Group1\")['Manders_AB_M1'].mean()"
   ]
  },
  {
   "cell_type": "code",
   "execution_count": null,
   "id": "06763d3c",
   "metadata": {},
   "outputs": [],
   "source": [
    "import scipy.stats as stats\n",
    "# stats f_oneway functions takes the groups as input and returns ANOVA F and p value\n",
    "fvalue, pvalue = stats.f_oneway(df2[df2[\"Group1\"]==\"X\"]['Manders_AB_M1'], df2[df2[\"Group1\"]==\"TP\"]['Manders_AB_M1'], df2[df2[\"Group1\"]==\"FY\"]['Manders_AB_M1'])\n",
    "print(fvalue, pvalue)"
   ]
  },
  {
   "cell_type": "code",
   "execution_count": null,
   "id": "0a78d097",
   "metadata": {},
   "outputs": [],
   "source": [
    "from statsmodels.stats.multicomp import pairwise_tukeyhsd\n",
    "\n",
    "m_comp = pairwise_tukeyhsd(endog=df2['Manders_AB_M1'].dropna(), groups=df2['Group1'], alpha=0.05)\n",
    "m_comp.summary()"
   ]
  },
  {
   "cell_type": "code",
   "execution_count": null,
   "id": "5cf1bf63",
   "metadata": {},
   "outputs": [],
   "source": [
    "sns.barplot(data=df2,x = \"Group1\",y=\"Manders_AB_M1\",hue=\"Replicate\")"
   ]
  },
  {
   "cell_type": "code",
   "execution_count": null,
   "id": "c69f6022",
   "metadata": {},
   "outputs": [],
   "source": [
    "df2.groupby(\"Group1\")['Manders_GFP_M2'].mean()"
   ]
  },
  {
   "cell_type": "code",
   "execution_count": null,
   "id": "df39f48d",
   "metadata": {},
   "outputs": [],
   "source": [
    "import scipy.stats as stats\n",
    "df2 = df2.dropna()\n",
    "# stats f_oneway functions takes the groups as input and returns ANOVA F and p value\n",
    "fvalue, pvalue = stats.f_oneway(df2[df2[\"Group1\"]==\"X\"]['Manders_AB_M2'], df2[df2[\"Group1\"]==\"TP\"]['Manders_AB_M2'], df2[df2[\"Group1\"]==\"FY\"]['Manders_AB_M2'])\n",
    "print(fvalue, pvalue)"
   ]
  },
  {
   "cell_type": "code",
   "execution_count": null,
   "id": "88870f81",
   "metadata": {},
   "outputs": [],
   "source": [
    "from statsmodels.stats.multicomp import pairwise_tukeyhsd\n",
    "\n",
    "m_comp = pairwise_tukeyhsd(endog=df2['Manders_AB_M2'].dropna(), groups=df2['Group1'], alpha=0.05)\n",
    "m_comp.summary()"
   ]
  },
  {
   "cell_type": "code",
   "execution_count": null,
   "id": "7497489e",
   "metadata": {},
   "outputs": [],
   "source": [
    "dic = {\"X\":0,\"TP\":1,\"FY\":2}\n",
    "df2[\"GN\"] = df2[\"Group1\"]\n",
    "df2[\"GN\"] = df2[\"GN\"].apply(lambda x: dic[x])\n",
    "df2.head()"
   ]
  },
  {
   "cell_type": "code",
   "execution_count": null,
   "id": "6da86e6e",
   "metadata": {},
   "outputs": [],
   "source": [
    "\n",
    "gfd = df2.groupby(\"CID\").mean(numeric_only=True)\n",
    "gfd.head()"
   ]
  },
  {
   "cell_type": "code",
   "execution_count": null,
   "id": "c50afa8e",
   "metadata": {},
   "outputs": [],
   "source": [
    "gfd.groupby(\"GN\")['Manders_GFP_M1'].mean()"
   ]
  },
  {
   "cell_type": "code",
   "execution_count": null,
   "id": "f28e49dc",
   "metadata": {},
   "outputs": [],
   "source": [
    "sns.swarmplot(data=gfd,x = \"GN\",y=\"Manders_GFP_M1\")\n",
    "sns.barplot(data=df2,x = \"Group1\",y=\"Manders_AB_M1\")"
   ]
  },
  {
   "cell_type": "code",
   "execution_count": null,
   "id": "ee2d9cd5",
   "metadata": {},
   "outputs": [],
   "source": [
    "fvalue, pvalue = stats.f_oneway(gfd[gfd[\"GN\"]==0]['Manders_GFP_M1'], gfd[gfd[\"GN\"]==1]['Manders_GFP_M1'], gfd[gfd[\"GN\"]==2]['Manders_GFP_M1'])\n",
    "print(fvalue, pvalue)\n",
    "m_comp = pairwise_tukeyhsd(endog=gfd['Manders_GFP_M1'].dropna(), groups=gfd['GN'], alpha=0.05)\n",
    "m_comp.summary()"
   ]
  },
  {
   "cell_type": "code",
   "execution_count": null,
   "id": "661aaeb2",
   "metadata": {},
   "outputs": [],
   "source": []
  },
  {
   "cell_type": "code",
   "execution_count": null,
   "id": "3a12bcfb",
   "metadata": {},
   "outputs": [],
   "source": [
    "fvalue, pvalue = stats.f_oneway(df[df[\"GN\"]==\"X\"]['M2'], df[df[\"Group1\"]==\"TP\"]['M2'], df[df[\"Group1\"]==\"FY\"]['M2'])\n",
    "print(fvalue, pvalue)\n"
   ]
  },
  {
   "cell_type": "code",
   "execution_count": null,
   "id": "5cb12ed6",
   "metadata": {},
   "outputs": [],
   "source": []
  }
 ],
 "metadata": {
  "kernelspec": {
   "display_name": "Python 3 (ipykernel)",
   "language": "python",
   "name": "python3"
  },
  "language_info": {
   "codemirror_mode": {
    "name": "ipython",
    "version": 3
   },
   "file_extension": ".py",
   "mimetype": "text/x-python",
   "name": "python",
   "nbconvert_exporter": "python",
   "pygments_lexer": "ipython3",
   "version": "3.9.13"
  }
 },
 "nbformat": 4,
 "nbformat_minor": 5
}
