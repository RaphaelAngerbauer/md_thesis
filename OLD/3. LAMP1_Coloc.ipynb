{
 "cells": [
  {
   "cell_type": "code",
   "execution_count": 1,
   "id": "60057bd9",
   "metadata": {},
   "outputs": [],
   "source": [
    "import pandas as pd\n",
    "import numpy as np\n",
    "import matplotlib.pyplot as plt\n",
    "import os"
   ]
  },
  {
   "cell_type": "code",
   "execution_count": 2,
   "id": "ca47e267",
   "metadata": {},
   "outputs": [
    {
     "data": {
      "text/html": [
       "<div>\n",
       "<style scoped>\n",
       "    .dataframe tbody tr th:only-of-type {\n",
       "        vertical-align: middle;\n",
       "    }\n",
       "\n",
       "    .dataframe tbody tr th {\n",
       "        vertical-align: top;\n",
       "    }\n",
       "\n",
       "    .dataframe thead th {\n",
       "        text-align: right;\n",
       "    }\n",
       "</style>\n",
       "<table border=\"1\" class=\"dataframe\">\n",
       "  <thead>\n",
       "    <tr style=\"text-align: right;\">\n",
       "      <th></th>\n",
       "      <th>Unnamed: 0</th>\n",
       "      <th>label</th>\n",
       "      <th>bbox-0</th>\n",
       "      <th>bbox-1</th>\n",
       "      <th>bbox-2</th>\n",
       "      <th>bbox-3</th>\n",
       "      <th>label_aSyn-GFP</th>\n",
       "      <th>bbox-0_aSyn-GFP</th>\n",
       "      <th>bbox-1_aSyn-GFP</th>\n",
       "      <th>bbox-2_aSyn-GFP</th>\n",
       "      <th>...</th>\n",
       "      <th>Channel_1</th>\n",
       "      <th>Channel_aSyn-AB</th>\n",
       "      <th>Channel_2</th>\n",
       "      <th>Channel_LAMP1/LC3</th>\n",
       "      <th>ROI_path</th>\n",
       "      <th>Replicate</th>\n",
       "      <th>Group1</th>\n",
       "      <th>Group2</th>\n",
       "      <th>path</th>\n",
       "      <th>denoised_path</th>\n",
       "    </tr>\n",
       "  </thead>\n",
       "  <tbody>\n",
       "    <tr>\n",
       "      <th>0</th>\n",
       "      <td>0</td>\n",
       "      <td>3</td>\n",
       "      <td>685</td>\n",
       "      <td>797</td>\n",
       "      <td>1413</td>\n",
       "      <td>1464</td>\n",
       "      <td>3</td>\n",
       "      <td>685</td>\n",
       "      <td>797</td>\n",
       "      <td>1413</td>\n",
       "      <td>...</td>\n",
       "      <td>aSyn-AB</td>\n",
       "      <td>1</td>\n",
       "      <td>LAMP1/LC3</td>\n",
       "      <td>2</td>\n",
       "      <td>D:/Raphael/Data/3. Plasmid moves cargo into Ly...</td>\n",
       "      <td>1</td>\n",
       "      <td>FY</td>\n",
       "      <td>LAMP1</td>\n",
       "      <td>D:/Raphael/Data/3. Plasmid moves cargo into Ly...</td>\n",
       "      <td>D:/Raphael/Data/3. Plasmid moves cargo into Ly...</td>\n",
       "    </tr>\n",
       "    <tr>\n",
       "      <th>1</th>\n",
       "      <td>1</td>\n",
       "      <td>1</td>\n",
       "      <td>504</td>\n",
       "      <td>721</td>\n",
       "      <td>1597</td>\n",
       "      <td>1402</td>\n",
       "      <td>1</td>\n",
       "      <td>504</td>\n",
       "      <td>721</td>\n",
       "      <td>1597</td>\n",
       "      <td>...</td>\n",
       "      <td>aSyn-AB</td>\n",
       "      <td>1</td>\n",
       "      <td>LAMP1/LC3</td>\n",
       "      <td>2</td>\n",
       "      <td>D:/Raphael/Data/3. Plasmid moves cargo into Ly...</td>\n",
       "      <td>1</td>\n",
       "      <td>FY</td>\n",
       "      <td>LAMP1</td>\n",
       "      <td>D:/Raphael/Data/3. Plasmid moves cargo into Ly...</td>\n",
       "      <td>D:/Raphael/Data/3. Plasmid moves cargo into Ly...</td>\n",
       "    </tr>\n",
       "    <tr>\n",
       "      <th>2</th>\n",
       "      <td>2</td>\n",
       "      <td>5</td>\n",
       "      <td>269</td>\n",
       "      <td>703</td>\n",
       "      <td>789</td>\n",
       "      <td>1193</td>\n",
       "      <td>5</td>\n",
       "      <td>269</td>\n",
       "      <td>703</td>\n",
       "      <td>789</td>\n",
       "      <td>...</td>\n",
       "      <td>aSyn-AB</td>\n",
       "      <td>1</td>\n",
       "      <td>LAMP1/LC3</td>\n",
       "      <td>2</td>\n",
       "      <td>D:/Raphael/Data/3. Plasmid moves cargo into Ly...</td>\n",
       "      <td>1</td>\n",
       "      <td>FY</td>\n",
       "      <td>LAMP1</td>\n",
       "      <td>D:/Raphael/Data/3. Plasmid moves cargo into Ly...</td>\n",
       "      <td>D:/Raphael/Data/3. Plasmid moves cargo into Ly...</td>\n",
       "    </tr>\n",
       "    <tr>\n",
       "      <th>3</th>\n",
       "      <td>3</td>\n",
       "      <td>6</td>\n",
       "      <td>589</td>\n",
       "      <td>716</td>\n",
       "      <td>1683</td>\n",
       "      <td>1388</td>\n",
       "      <td>6</td>\n",
       "      <td>589</td>\n",
       "      <td>716</td>\n",
       "      <td>1683</td>\n",
       "      <td>...</td>\n",
       "      <td>aSyn-AB</td>\n",
       "      <td>1</td>\n",
       "      <td>LAMP1/LC3</td>\n",
       "      <td>2</td>\n",
       "      <td>D:/Raphael/Data/3. Plasmid moves cargo into Ly...</td>\n",
       "      <td>1</td>\n",
       "      <td>FY</td>\n",
       "      <td>LAMP1</td>\n",
       "      <td>D:/Raphael/Data/3. Plasmid moves cargo into Ly...</td>\n",
       "      <td>D:/Raphael/Data/3. Plasmid moves cargo into Ly...</td>\n",
       "    </tr>\n",
       "    <tr>\n",
       "      <th>4</th>\n",
       "      <td>4</td>\n",
       "      <td>3</td>\n",
       "      <td>628</td>\n",
       "      <td>1073</td>\n",
       "      <td>1351</td>\n",
       "      <td>1678</td>\n",
       "      <td>3</td>\n",
       "      <td>628</td>\n",
       "      <td>1073</td>\n",
       "      <td>1351</td>\n",
       "      <td>...</td>\n",
       "      <td>aSyn-AB</td>\n",
       "      <td>1</td>\n",
       "      <td>LAMP1/LC3</td>\n",
       "      <td>2</td>\n",
       "      <td>D:/Raphael/Data/3. Plasmid moves cargo into Ly...</td>\n",
       "      <td>1</td>\n",
       "      <td>FY</td>\n",
       "      <td>LAMP1</td>\n",
       "      <td>D:/Raphael/Data/3. Plasmid moves cargo into Ly...</td>\n",
       "      <td>D:/Raphael/Data/3. Plasmid moves cargo into Ly...</td>\n",
       "    </tr>\n",
       "  </tbody>\n",
       "</table>\n",
       "<p>5 rows × 30 columns</p>\n",
       "</div>"
      ],
      "text/plain": [
       "   Unnamed: 0  label  bbox-0  bbox-1  bbox-2  bbox-3  label_aSyn-GFP  \\\n",
       "0           0      3     685     797    1413    1464               3   \n",
       "1           1      1     504     721    1597    1402               1   \n",
       "2           2      5     269     703     789    1193               5   \n",
       "3           3      6     589     716    1683    1388               6   \n",
       "4           4      3     628    1073    1351    1678               3   \n",
       "\n",
       "   bbox-0_aSyn-GFP  bbox-1_aSyn-GFP  bbox-2_aSyn-GFP  ...  Channel_1  \\\n",
       "0              685              797             1413  ...    aSyn-AB   \n",
       "1              504              721             1597  ...    aSyn-AB   \n",
       "2              269              703              789  ...    aSyn-AB   \n",
       "3              589              716             1683  ...    aSyn-AB   \n",
       "4              628             1073             1351  ...    aSyn-AB   \n",
       "\n",
       "   Channel_aSyn-AB  Channel_2  Channel_LAMP1/LC3  \\\n",
       "0                1  LAMP1/LC3                  2   \n",
       "1                1  LAMP1/LC3                  2   \n",
       "2                1  LAMP1/LC3                  2   \n",
       "3                1  LAMP1/LC3                  2   \n",
       "4                1  LAMP1/LC3                  2   \n",
       "\n",
       "                                            ROI_path  Replicate  Group1  \\\n",
       "0  D:/Raphael/Data/3. Plasmid moves cargo into Ly...          1      FY   \n",
       "1  D:/Raphael/Data/3. Plasmid moves cargo into Ly...          1      FY   \n",
       "2  D:/Raphael/Data/3. Plasmid moves cargo into Ly...          1      FY   \n",
       "3  D:/Raphael/Data/3. Plasmid moves cargo into Ly...          1      FY   \n",
       "4  D:/Raphael/Data/3. Plasmid moves cargo into Ly...          1      FY   \n",
       "\n",
       "   Group2                                               path  \\\n",
       "0   LAMP1  D:/Raphael/Data/3. Plasmid moves cargo into Ly...   \n",
       "1   LAMP1  D:/Raphael/Data/3. Plasmid moves cargo into Ly...   \n",
       "2   LAMP1  D:/Raphael/Data/3. Plasmid moves cargo into Ly...   \n",
       "3   LAMP1  D:/Raphael/Data/3. Plasmid moves cargo into Ly...   \n",
       "4   LAMP1  D:/Raphael/Data/3. Plasmid moves cargo into Ly...   \n",
       "\n",
       "                                       denoised_path  \n",
       "0  D:/Raphael/Data/3. Plasmid moves cargo into Ly...  \n",
       "1  D:/Raphael/Data/3. Plasmid moves cargo into Ly...  \n",
       "2  D:/Raphael/Data/3. Plasmid moves cargo into Ly...  \n",
       "3  D:/Raphael/Data/3. Plasmid moves cargo into Ly...  \n",
       "4  D:/Raphael/Data/3. Plasmid moves cargo into Ly...  \n",
       "\n",
       "[5 rows x 30 columns]"
      ]
     },
     "execution_count": 2,
     "metadata": {},
     "output_type": "execute_result"
    }
   ],
   "source": [
    "basedir = \"D:/Raphael/Data/3. Plasmid moves cargo into Lysosomes\"\n",
    "df = pd.read_excel(os.path.join(basedir,\"Results.xlsx\"))\n",
    "df = df[df[\"Group2\"]==\"LAMP1\"]\n",
    "df.head()"
   ]
  },
  {
   "cell_type": "code",
   "execution_count": 5,
   "id": "a690d6b3",
   "metadata": {},
   "outputs": [
    {
     "name": "stderr",
     "output_type": "stream",
     "text": [
      "100%|██████████████████████████████████████████████████████████████████████████████████| 95/95 [20:43<00:00, 13.09s/it]\n"
     ]
    },
    {
     "data": {
      "text/html": [
       "<div>\n",
       "<style scoped>\n",
       "    .dataframe tbody tr th:only-of-type {\n",
       "        vertical-align: middle;\n",
       "    }\n",
       "\n",
       "    .dataframe tbody tr th {\n",
       "        vertical-align: top;\n",
       "    }\n",
       "\n",
       "    .dataframe thead th {\n",
       "        text-align: right;\n",
       "    }\n",
       "</style>\n",
       "<table border=\"1\" class=\"dataframe\">\n",
       "  <thead>\n",
       "    <tr style=\"text-align: right;\">\n",
       "      <th></th>\n",
       "      <th>L</th>\n",
       "      <th>r</th>\n",
       "      <th>X</th>\n",
       "      <th>Y</th>\n",
       "      <th>Group</th>\n",
       "      <th>Stack</th>\n",
       "      <th>CID</th>\n",
       "      <th>Rep</th>\n",
       "      <th>LenX</th>\n",
       "      <th>LenY</th>\n",
       "    </tr>\n",
       "  </thead>\n",
       "  <tbody>\n",
       "    <tr>\n",
       "      <th>0</th>\n",
       "      <td>0.0</td>\n",
       "      <td>0.000000</td>\n",
       "      <td>GFP</td>\n",
       "      <td>LAMP1</td>\n",
       "      <td>FY</td>\n",
       "      <td>6</td>\n",
       "      <td>3</td>\n",
       "      <td>1</td>\n",
       "      <td>32</td>\n",
       "      <td>1</td>\n",
       "    </tr>\n",
       "    <tr>\n",
       "      <th>1</th>\n",
       "      <td>0.0</td>\n",
       "      <td>0.067064</td>\n",
       "      <td>GFP</td>\n",
       "      <td>LAMP1</td>\n",
       "      <td>FY</td>\n",
       "      <td>6</td>\n",
       "      <td>3</td>\n",
       "      <td>1</td>\n",
       "      <td>32</td>\n",
       "      <td>1</td>\n",
       "    </tr>\n",
       "    <tr>\n",
       "      <th>2</th>\n",
       "      <td>0.0</td>\n",
       "      <td>0.134129</td>\n",
       "      <td>GFP</td>\n",
       "      <td>LAMP1</td>\n",
       "      <td>FY</td>\n",
       "      <td>6</td>\n",
       "      <td>3</td>\n",
       "      <td>1</td>\n",
       "      <td>32</td>\n",
       "      <td>1</td>\n",
       "    </tr>\n",
       "    <tr>\n",
       "      <th>3</th>\n",
       "      <td>0.0</td>\n",
       "      <td>0.201193</td>\n",
       "      <td>GFP</td>\n",
       "      <td>LAMP1</td>\n",
       "      <td>FY</td>\n",
       "      <td>6</td>\n",
       "      <td>3</td>\n",
       "      <td>1</td>\n",
       "      <td>32</td>\n",
       "      <td>1</td>\n",
       "    </tr>\n",
       "    <tr>\n",
       "      <th>4</th>\n",
       "      <td>0.0</td>\n",
       "      <td>0.268257</td>\n",
       "      <td>GFP</td>\n",
       "      <td>LAMP1</td>\n",
       "      <td>FY</td>\n",
       "      <td>6</td>\n",
       "      <td>3</td>\n",
       "      <td>1</td>\n",
       "      <td>32</td>\n",
       "      <td>1</td>\n",
       "    </tr>\n",
       "  </tbody>\n",
       "</table>\n",
       "</div>"
      ],
      "text/plain": [
       "     L         r    X      Y Group  Stack  CID  Rep  LenX  LenY\n",
       "0  0.0  0.000000  GFP  LAMP1    FY      6    3    1    32     1\n",
       "1  0.0  0.067064  GFP  LAMP1    FY      6    3    1    32     1\n",
       "2  0.0  0.134129  GFP  LAMP1    FY      6    3    1    32     1\n",
       "3  0.0  0.201193  GFP  LAMP1    FY      6    3    1    32     1\n",
       "4  0.0  0.268257  GFP  LAMP1    FY      6    3    1    32     1"
      ]
     },
     "execution_count": 5,
     "metadata": {},
     "output_type": "execute_result"
    }
   ],
   "source": [
    "from ImageOperations import get_cropped, getImage, get_mask, get_ROI\n",
    "from NearestNeighbour import NearestNeighbour\n",
    "from DetectPoints import detect_points\n",
    "from tqdm import tqdm\n",
    "def get_R(lower,upper):\n",
    "    xlen = 0.0753084\n",
    "    r = np.linspace(lower/xlen,upper/xlen,100)\n",
    "    return r\n",
    "\n",
    "def calculate_NN(df,R):\n",
    "    data = {\n",
    "        \"L\":[],\n",
    "        \"r\":[],\n",
    "        \"X\":[],\n",
    "        \"Y\":[],\n",
    "        \"Group\":[],\n",
    "        \"Stack\":[],\n",
    "        \"CID\":[],\n",
    "        \"Rep\":[],\n",
    "        \"LenX\":[],\n",
    "        \"LenY\":[]\n",
    "    }\n",
    "    for CID in tqdm(df[\"CID\"].values):\n",
    "        rep = df[df[\"CID\"]==CID][\"Replicate\"].values[0]\n",
    "        g = df[df[\"CID\"]==CID][\"Group1\"].values[0]\n",
    "        ROI = get_ROI(df,CID)\n",
    "        GFPimage = get_cropped(df,CID,0).astype(\"uint8\")\n",
    "        ABimage = get_cropped(df,CID,1).astype(\"uint8\")\n",
    "        LC3image = get_cropped(df,CID,2).astype(\"uint8\")\n",
    "        boundary = ROI.coordinates()-[[ROI.left,ROI.top]]\n",
    "        for i in range(GFPimage.shape[0]):\n",
    "            GFP = detect_points(GFPimage[i,:,:],ROI,ntol=50)\n",
    "            AB = detect_points(ABimage[i,:,:],ROI,ntol=50)\n",
    "            LAMP1 = detect_points(LC3image[i,:,:],ROI,ntol=200)\n",
    "            #GFP - LC3\n",
    "            if len(GFP) != 0 and len(LAMP1) != 0:\n",
    "                data[\"L\"]=[*data[\"L\"],*NearestNeighbour(GFP,LAMP1,boundary,R,maxD=np.max(R))]\n",
    "                data[\"r\"]=[*data[\"r\"],*R]\n",
    "                data[\"X\"]=[*data[\"X\"],*([\"GFP\"]*len(R))]\n",
    "                data[\"Y\"]=[*data[\"Y\"],*([\"LAMP1\"]*len(R))]\n",
    "                data[\"CID\"]=[*data[\"CID\"],*([CID]*len(R))]\n",
    "                data[\"Rep\"]=[*data[\"Rep\"],*([rep]*len(R))]\n",
    "                data[\"Stack\"]=[*data[\"Stack\"],*([i]*len(R))]\n",
    "                data[\"Group\"]=[*data[\"Group\"],*([g]*len(R))]\n",
    "                data[\"LenX\"]=[*data[\"LenX\"],*([len(GFP)]*len(R))]\n",
    "                data[\"LenY\"]=[*data[\"LenY\"],*([len(LAMP1)]*len(R))]\n",
    "            #AB - LC3\n",
    "            if len(AB) != 0 and len(LAMP1) != 0:\n",
    "                data[\"L\"]=[*data[\"L\"],*NearestNeighbour(AB,LAMP1,boundary,R,maxD=np.max(R))]\n",
    "                data[\"r\"]=[*data[\"r\"],*R]\n",
    "                data[\"X\"]=[*data[\"X\"],*([\"AB\"]*len(R))]\n",
    "                data[\"Y\"]=[*data[\"Y\"],*([\"LAMP1\"]*len(R))]\n",
    "                data[\"CID\"]=[*data[\"CID\"],*([CID]*len(R))]\n",
    "                data[\"Rep\"]=[*data[\"Rep\"],*([rep]*len(R))]\n",
    "                data[\"Group\"]=[*data[\"Group\"],*([g]*len(R))]\n",
    "                data[\"Stack\"]=[*data[\"Stack\"],*([i]*len(R))]\n",
    "                data[\"LenX\"]=[*data[\"LenX\"],*([len(AB)]*len(R))]\n",
    "                data[\"LenY\"]=[*data[\"LenY\"],*([len(LAMP1)]*len(R))]\n",
    "            #LC3 - GFP\n",
    "            if len(GFP) != 0 and len(LAMP1) != 0:\n",
    "                data[\"L\"]=[*data[\"L\"],*NearestNeighbour(LAMP1,GFP,boundary,R,maxD=np.max(R))]\n",
    "                data[\"r\"]=[*data[\"r\"],*R]\n",
    "                data[\"X\"]=[*data[\"X\"],*([\"LAMP1\"]*len(R))]\n",
    "                data[\"Y\"]=[*data[\"Y\"],*([\"GFP\"]*len(R))]\n",
    "                data[\"CID\"]=[*data[\"CID\"],*([CID]*len(R))]\n",
    "                data[\"Rep\"]=[*data[\"Rep\"],*([rep]*len(R))]\n",
    "                data[\"Group\"]=[*data[\"Group\"],*([g]*len(R))]\n",
    "                data[\"Stack\"]=[*data[\"Stack\"],*([i]*len(R))]\n",
    "                data[\"LenX\"]=[*data[\"LenX\"],*([len(LAMP1)]*len(R))]\n",
    "                data[\"LenY\"]=[*data[\"LenY\"],*([len(GFP)]*len(R))]\n",
    "            #LC3 - AB\n",
    "            if len(AB) != 0 and len(LAMP1) != 0:\n",
    "                data[\"L\"]=[*data[\"L\"],*NearestNeighbour(LAMP1,AB,boundary,R,maxD=np.max(R))]\n",
    "                data[\"r\"]=[*data[\"r\"],*R]\n",
    "                data[\"X\"]=[*data[\"X\"],*([\"LAMP1\"]*len(R))]\n",
    "                data[\"Y\"]=[*data[\"Y\"],*([\"AB\"]*len(R))]\n",
    "                data[\"CID\"]=[*data[\"CID\"],*([CID]*len(R))]\n",
    "                data[\"Rep\"]=[*data[\"Rep\"],*([rep]*len(R))]\n",
    "                data[\"Group\"]=[*data[\"Group\"],*([g]*len(R))]\n",
    "                data[\"Stack\"]=[*data[\"Stack\"],*([i]*len(R))]\n",
    "                data[\"LenX\"]=[*data[\"LenX\"],*([len(LAMP1)]*len(R))]\n",
    "                data[\"LenY\"]=[*data[\"LenY\"],*([len(AB)]*len(R))]\n",
    "    return pd.DataFrame(data=data)\n",
    "\n",
    "R = get_R(0,0.5)\n",
    "df2 = calculate_NN(df,R)\n",
    "df2.to_csv(os.path.join(basedir,\"LAMP1_NN_coloc.csv\"),index=False)\n",
    "df2.head()"
   ]
  },
  {
   "cell_type": "code",
   "execution_count": 6,
   "id": "27e9b203",
   "metadata": {},
   "outputs": [],
   "source": [
    "#df2[\"r\"] = df2[\"r\"]*0.0753084\n"
   ]
  },
  {
   "cell_type": "code",
   "execution_count": 9,
   "id": "37e969ad",
   "metadata": {},
   "outputs": [
    {
     "data": {
      "text/html": [
       "<div>\n",
       "<style scoped>\n",
       "    .dataframe tbody tr th:only-of-type {\n",
       "        vertical-align: middle;\n",
       "    }\n",
       "\n",
       "    .dataframe tbody tr th {\n",
       "        vertical-align: top;\n",
       "    }\n",
       "\n",
       "    .dataframe thead th {\n",
       "        text-align: right;\n",
       "    }\n",
       "</style>\n",
       "<table border=\"1\" class=\"dataframe\">\n",
       "  <thead>\n",
       "    <tr style=\"text-align: right;\">\n",
       "      <th></th>\n",
       "      <th>L</th>\n",
       "      <th>r</th>\n",
       "      <th>X</th>\n",
       "      <th>Y</th>\n",
       "      <th>Group</th>\n",
       "      <th>Stack</th>\n",
       "      <th>CID</th>\n",
       "      <th>Rep</th>\n",
       "      <th>LenX</th>\n",
       "      <th>LenY</th>\n",
       "    </tr>\n",
       "  </thead>\n",
       "  <tbody>\n",
       "    <tr>\n",
       "      <th>0</th>\n",
       "      <td>0.0</td>\n",
       "      <td>0.000000</td>\n",
       "      <td>GFP</td>\n",
       "      <td>LAMP1</td>\n",
       "      <td>FY</td>\n",
       "      <td>6</td>\n",
       "      <td>3</td>\n",
       "      <td>1</td>\n",
       "      <td>32</td>\n",
       "      <td>1</td>\n",
       "    </tr>\n",
       "    <tr>\n",
       "      <th>1</th>\n",
       "      <td>0.0</td>\n",
       "      <td>0.005051</td>\n",
       "      <td>GFP</td>\n",
       "      <td>LAMP1</td>\n",
       "      <td>FY</td>\n",
       "      <td>6</td>\n",
       "      <td>3</td>\n",
       "      <td>1</td>\n",
       "      <td>32</td>\n",
       "      <td>1</td>\n",
       "    </tr>\n",
       "    <tr>\n",
       "      <th>2</th>\n",
       "      <td>0.0</td>\n",
       "      <td>0.010101</td>\n",
       "      <td>GFP</td>\n",
       "      <td>LAMP1</td>\n",
       "      <td>FY</td>\n",
       "      <td>6</td>\n",
       "      <td>3</td>\n",
       "      <td>1</td>\n",
       "      <td>32</td>\n",
       "      <td>1</td>\n",
       "    </tr>\n",
       "    <tr>\n",
       "      <th>3</th>\n",
       "      <td>0.0</td>\n",
       "      <td>0.015152</td>\n",
       "      <td>GFP</td>\n",
       "      <td>LAMP1</td>\n",
       "      <td>FY</td>\n",
       "      <td>6</td>\n",
       "      <td>3</td>\n",
       "      <td>1</td>\n",
       "      <td>32</td>\n",
       "      <td>1</td>\n",
       "    </tr>\n",
       "    <tr>\n",
       "      <th>4</th>\n",
       "      <td>0.0</td>\n",
       "      <td>0.020202</td>\n",
       "      <td>GFP</td>\n",
       "      <td>LAMP1</td>\n",
       "      <td>FY</td>\n",
       "      <td>6</td>\n",
       "      <td>3</td>\n",
       "      <td>1</td>\n",
       "      <td>32</td>\n",
       "      <td>1</td>\n",
       "    </tr>\n",
       "  </tbody>\n",
       "</table>\n",
       "</div>"
      ],
      "text/plain": [
       "     L         r    X      Y Group  Stack  CID  Rep  LenX  LenY\n",
       "0  0.0  0.000000  GFP  LAMP1    FY      6    3    1    32     1\n",
       "1  0.0  0.005051  GFP  LAMP1    FY      6    3    1    32     1\n",
       "2  0.0  0.010101  GFP  LAMP1    FY      6    3    1    32     1\n",
       "3  0.0  0.015152  GFP  LAMP1    FY      6    3    1    32     1\n",
       "4  0.0  0.020202  GFP  LAMP1    FY      6    3    1    32     1"
      ]
     },
     "execution_count": 9,
     "metadata": {},
     "output_type": "execute_result"
    }
   ],
   "source": [
    "df2.head()"
   ]
  },
  {
   "cell_type": "code",
   "execution_count": 7,
   "id": "23faf5f4",
   "metadata": {},
   "outputs": [
    {
     "name": "stderr",
     "output_type": "stream",
     "text": [
      "C:\\Users\\Raphael\\AppData\\Local\\Temp\\ipykernel_1392\\2965303231.py:1: UserWarning: Boolean Series key will be reindexed to match DataFrame index.\n",
      "  df3 = df2[df2[\"X\"]==\"AB\"][df2[\"Y\"]==\"LAMP1\"]\n"
     ]
    }
   ],
   "source": [
    "df3 = df2[df2[\"X\"]==\"AB\"][df2[\"Y\"]==\"LAMP1\"]\n",
    "import seaborn as sns\n",
    "#sns.boxplot(data=df3,x = \"Group\",y=\"LenY\",hue=\"Rep\")"
   ]
  },
  {
   "cell_type": "code",
   "execution_count": 8,
   "id": "1d8e3c76",
   "metadata": {},
   "outputs": [
    {
     "data": {
      "text/plain": [
       "<AxesSubplot:xlabel='r', ylabel='L'>"
      ]
     },
     "execution_count": 8,
     "metadata": {},
     "output_type": "execute_result"
    },
    {
     "data": {
      "image/png": "[encoded data removed]",
      "text/plain": [
       "<Figure size 640x480 with 1 Axes>"
      ]
     },
     "metadata": {},
     "output_type": "display_data"
    }
   ],
   "source": [
    "\n",
    "sns.lineplot(data=df3, x=\"r\",y=\"L\",hue=\"Group\")"
   ]
  },
  {
   "cell_type": "code",
   "execution_count": 32,
   "id": "3682521a",
   "metadata": {},
   "outputs": [
    {
     "name": "stderr",
     "output_type": "stream",
     "text": [
      "C:\\Users\\Raphael\\AppData\\Local\\Temp\\ipykernel_1392\\211226237.py:1: FutureWarning: Indexing with multiple keys (implicitly converted to a tuple of keys) will be deprecated, use a list instead.\n",
      "  df4 = pd.concat([df3.groupby([\"CID\",\"Stack\"])[\"L\",\"r\"].apply(lambda x: np.interp(0.25,x[\"r\"],x[\"L\"])),df3.groupby([\"CID\",\"Stack\"])[\"Group\"].first()],axis=1).rename(columns= {0:'%'}).dropna()\n"
     ]
    },
    {
     "data": {
      "text/html": [
       "<div>\n",
       "<style scoped>\n",
       "    .dataframe tbody tr th:only-of-type {\n",
       "        vertical-align: middle;\n",
       "    }\n",
       "\n",
       "    .dataframe tbody tr th {\n",
       "        vertical-align: top;\n",
       "    }\n",
       "\n",
       "    .dataframe thead th {\n",
       "        text-align: right;\n",
       "    }\n",
       "</style>\n",
       "<table border=\"1\" class=\"dataframe\">\n",
       "  <thead>\n",
       "    <tr style=\"text-align: right;\">\n",
       "      <th></th>\n",
       "      <th></th>\n",
       "      <th>%</th>\n",
       "      <th>Group</th>\n",
       "    </tr>\n",
       "    <tr>\n",
       "      <th>CID</th>\n",
       "      <th>Stack</th>\n",
       "      <th></th>\n",
       "      <th></th>\n",
       "    </tr>\n",
       "  </thead>\n",
       "  <tbody>\n",
       "    <tr>\n",
       "      <th rowspan=\"5\" valign=\"top\">3</th>\n",
       "      <th>6</th>\n",
       "      <td>-0.013521</td>\n",
       "      <td>FY</td>\n",
       "    </tr>\n",
       "    <tr>\n",
       "      <th>7</th>\n",
       "      <td>-0.012470</td>\n",
       "      <td>FY</td>\n",
       "    </tr>\n",
       "    <tr>\n",
       "      <th>8</th>\n",
       "      <td>-0.012887</td>\n",
       "      <td>FY</td>\n",
       "    </tr>\n",
       "    <tr>\n",
       "      <th>9</th>\n",
       "      <td>-0.008234</td>\n",
       "      <td>FY</td>\n",
       "    </tr>\n",
       "    <tr>\n",
       "      <th>10</th>\n",
       "      <td>-0.007483</td>\n",
       "      <td>FY</td>\n",
       "    </tr>\n",
       "  </tbody>\n",
       "</table>\n",
       "</div>"
      ],
      "text/plain": [
       "                  % Group\n",
       "CID Stack                \n",
       "3   6     -0.013521    FY\n",
       "    7     -0.012470    FY\n",
       "    8     -0.012887    FY\n",
       "    9     -0.008234    FY\n",
       "    10    -0.007483    FY"
      ]
     },
     "execution_count": 32,
     "metadata": {},
     "output_type": "execute_result"
    }
   ],
   "source": [
    "df4 = pd.concat([df3.groupby([\"CID\",\"Stack\"])[\"L\",\"r\"].apply(lambda x: np.interp(0.25,x[\"r\"],x[\"L\"])),df3.groupby([\"CID\",\"Stack\"])[\"Group\"].first()],axis=1).rename(columns= {0:'%'}).dropna()\n",
    "df4.head()"
   ]
  },
  {
   "cell_type": "code",
   "execution_count": 33,
   "id": "74f1660a",
   "metadata": {},
   "outputs": [
    {
     "data": {
      "text/plain": [
       "<AxesSubplot:xlabel='Group', ylabel='%'>"
      ]
     },
     "execution_count": 33,
     "metadata": {},
     "output_type": "execute_result"
    },
    {
     "data": {
      "image/png": "[encoded data removed]",
      "text/plain": [
       "<Figure size 640x480 with 1 Axes>"
      ]
     },
     "metadata": {},
     "output_type": "display_data"
    }
   ],
   "source": [
    "sns.barplot(data=df4,x = \"Group\",y=\"%\")"
   ]
  },
  {
   "cell_type": "code",
   "execution_count": 34,
   "id": "f025a3d6",
   "metadata": {},
   "outputs": [
    {
     "name": "stdout",
     "output_type": "stream",
     "text": [
      "1.9827831013667174 0.1384647212564565\n"
     ]
    }
   ],
   "source": [
    "import scipy.stats as stats\n",
    "\n",
    "# stats f_oneway functions takes the groups as input and returns ANOVA F and p value\n",
    "fvalue, pvalue = stats.f_oneway(df4[df4[\"Group\"]==\"X\"]['%'].dropna(), df4[df4[\"Group\"]==\"TP\"]['%'].dropna(), df4[df4[\"Group\"]==\"FY\"]['%'].dropna())\n",
    "print(fvalue, pvalue)"
   ]
  },
  {
   "cell_type": "code",
   "execution_count": 35,
   "id": "0f8608fa",
   "metadata": {},
   "outputs": [
    {
     "data": {
      "text/html": [
       "<table class=\"simpletable\">\n",
       "<caption>Multiple Comparison of Means - Tukey HSD, FWER=0.05</caption>\n",
       "<tr>\n",
       "  <th>group1</th> <th>group2</th> <th>meandiff</th>  <th>p-adj</th>  <th>lower</th>   <th>upper</th> <th>reject</th>\n",
       "</tr>\n",
       "<tr>\n",
       "    <td>FY</td>     <td>TP</td>    <td>0.0272</td>  <td>0.3895</td> <td>-0.0216</td>  <td>0.076</td>  <td>False</td>\n",
       "</tr>\n",
       "<tr>\n",
       "    <td>FY</td>      <td>X</td>    <td>-0.0145</td> <td>0.7424</td> <td>-0.0607</td> <td>0.0317</td>  <td>False</td>\n",
       "</tr>\n",
       "<tr>\n",
       "    <td>TP</td>      <td>X</td>    <td>-0.0417</td>  <td>0.119</td> <td>-0.0913</td> <td>0.0079</td>  <td>False</td>\n",
       "</tr>\n",
       "</table>"
      ],
      "text/plain": [
       "<class 'statsmodels.iolib.table.SimpleTable'>"
      ]
     },
     "execution_count": 35,
     "metadata": {},
     "output_type": "execute_result"
    }
   ],
   "source": [
    "from statsmodels.stats.multicomp import pairwise_tukeyhsd\n",
    "\n",
    "m_comp = pairwise_tukeyhsd(endog=df4['%'].dropna(), groups=df4['Group'].dropna(), alpha=0.05)\n",
    "m_comp.summary()"
   ]
  },
  {
   "cell_type": "code",
   "execution_count": 36,
   "id": "1a80a9c3",
   "metadata": {},
   "outputs": [
    {
     "name": "stderr",
     "output_type": "stream",
     "text": [
      "C:\\Users\\Raphael\\AppData\\Local\\Temp\\ipykernel_1392\\2860996729.py:1: UserWarning: Boolean Series key will be reindexed to match DataFrame index.\n",
      "  df5 = df2[df2[\"X\"]==\"LAMP1\"][df2[\"Y\"]==\"AB\"]\n"
     ]
    }
   ],
   "source": [
    "df5 = df2[df2[\"X\"]==\"LAMP1\"][df2[\"Y\"]==\"AB\"]"
   ]
  },
  {
   "cell_type": "code",
   "execution_count": 37,
   "id": "1842a1e7",
   "metadata": {},
   "outputs": [
    {
     "name": "stderr",
     "output_type": "stream",
     "text": [
      "C:\\Users\\Raphael\\AppData\\Local\\Temp\\ipykernel_1392\\1682409247.py:1: FutureWarning: Indexing with multiple keys (implicitly converted to a tuple of keys) will be deprecated, use a list instead.\n",
      "  df6 = pd.concat([df5.groupby([\"CID\",\"Stack\"])[\"L\",\"r\"].apply(lambda x: np.interp(0.25,x[\"r\"],x[\"L\"])),df5.groupby([\"CID\",\"Stack\"])[\"Group\"].first()],axis=1).rename(columns= {0:'%'}).dropna()\n"
     ]
    },
    {
     "data": {
      "text/html": [
       "<div>\n",
       "<style scoped>\n",
       "    .dataframe tbody tr th:only-of-type {\n",
       "        vertical-align: middle;\n",
       "    }\n",
       "\n",
       "    .dataframe tbody tr th {\n",
       "        vertical-align: top;\n",
       "    }\n",
       "\n",
       "    .dataframe thead th {\n",
       "        text-align: right;\n",
       "    }\n",
       "</style>\n",
       "<table border=\"1\" class=\"dataframe\">\n",
       "  <thead>\n",
       "    <tr style=\"text-align: right;\">\n",
       "      <th></th>\n",
       "      <th></th>\n",
       "      <th>%</th>\n",
       "      <th>Group</th>\n",
       "    </tr>\n",
       "    <tr>\n",
       "      <th>CID</th>\n",
       "      <th>Stack</th>\n",
       "      <th></th>\n",
       "      <th></th>\n",
       "    </tr>\n",
       "  </thead>\n",
       "  <tbody>\n",
       "    <tr>\n",
       "      <th rowspan=\"5\" valign=\"top\">3</th>\n",
       "      <th>6</th>\n",
       "      <td>-0.000267</td>\n",
       "      <td>FY</td>\n",
       "    </tr>\n",
       "    <tr>\n",
       "      <th>7</th>\n",
       "      <td>-0.000273</td>\n",
       "      <td>FY</td>\n",
       "    </tr>\n",
       "    <tr>\n",
       "      <th>8</th>\n",
       "      <td>0.000000</td>\n",
       "      <td>FY</td>\n",
       "    </tr>\n",
       "    <tr>\n",
       "      <th>9</th>\n",
       "      <td>0.000000</td>\n",
       "      <td>FY</td>\n",
       "    </tr>\n",
       "    <tr>\n",
       "      <th>10</th>\n",
       "      <td>-0.000271</td>\n",
       "      <td>FY</td>\n",
       "    </tr>\n",
       "  </tbody>\n",
       "</table>\n",
       "</div>"
      ],
      "text/plain": [
       "                  % Group\n",
       "CID Stack                \n",
       "3   6     -0.000267    FY\n",
       "    7     -0.000273    FY\n",
       "    8      0.000000    FY\n",
       "    9      0.000000    FY\n",
       "    10    -0.000271    FY"
      ]
     },
     "execution_count": 37,
     "metadata": {},
     "output_type": "execute_result"
    }
   ],
   "source": [
    "df6 = pd.concat([df5.groupby([\"CID\",\"Stack\"])[\"L\",\"r\"].apply(lambda x: np.interp(0.25,x[\"r\"],x[\"L\"])),df5.groupby([\"CID\",\"Stack\"])[\"Group\"].first()],axis=1).rename(columns= {0:'%'}).dropna()\n",
    "df6.head()"
   ]
  },
  {
   "cell_type": "code",
   "execution_count": 38,
   "id": "53d4d210",
   "metadata": {},
   "outputs": [
    {
     "data": {
      "text/plain": [
       "<AxesSubplot:xlabel='Group', ylabel='%'>"
      ]
     },
     "execution_count": 38,
     "metadata": {},
     "output_type": "execute_result"
    },
    {
     "data": {
      "image/png": "[encoded data removed]",
      "text/plain": [
       "<Figure size 640x480 with 1 Axes>"
      ]
     },
     "metadata": {},
     "output_type": "display_data"
    }
   ],
   "source": [
    "sns.barplot(data=df6,x = \"Group\",y=\"%\")"
   ]
  },
  {
   "cell_type": "code",
   "execution_count": 39,
   "id": "20529fa5",
   "metadata": {},
   "outputs": [
    {
     "name": "stdout",
     "output_type": "stream",
     "text": [
      "4.719851274159982 0.009204709776578774\n"
     ]
    }
   ],
   "source": [
    "# stats f_oneway functions takes the groups as input and returns ANOVA F and p value\n",
    "fvalue, pvalue = stats.f_oneway(df6[df6[\"Group\"]==\"X\"]['%'].dropna(), df6[df6[\"Group\"]==\"TP\"]['%'].dropna(), df6[df6[\"Group\"]==\"FY\"]['%'].dropna())\n",
    "print(fvalue, pvalue)"
   ]
  },
  {
   "cell_type": "code",
   "execution_count": 40,
   "id": "0202cd68",
   "metadata": {},
   "outputs": [
    {
     "data": {
      "text/html": [
       "<table class=\"simpletable\">\n",
       "<caption>Multiple Comparison of Means - Tukey HSD, FWER=0.05</caption>\n",
       "<tr>\n",
       "  <th>group1</th> <th>group2</th> <th>meandiff</th>  <th>p-adj</th>  <th>lower</th>   <th>upper</th> <th>reject</th>\n",
       "</tr>\n",
       "<tr>\n",
       "    <td>FY</td>     <td>TP</td>    <td>0.0226</td>  <td>0.0089</td> <td>0.0047</td>  <td>0.0405</td>  <td>True</td> \n",
       "</tr>\n",
       "<tr>\n",
       "    <td>FY</td>      <td>X</td>    <td>0.0045</td>  <td>0.8056</td> <td>-0.0124</td> <td>0.0215</td>  <td>False</td>\n",
       "</tr>\n",
       "<tr>\n",
       "    <td>TP</td>      <td>X</td>    <td>-0.0181</td> <td>0.0522</td> <td>-0.0362</td> <td>0.0001</td>  <td>False</td>\n",
       "</tr>\n",
       "</table>"
      ],
      "text/plain": [
       "<class 'statsmodels.iolib.table.SimpleTable'>"
      ]
     },
     "execution_count": 40,
     "metadata": {},
     "output_type": "execute_result"
    }
   ],
   "source": [
    "m_comp = pairwise_tukeyhsd(endog=df6['%'].dropna(), groups=df6['Group'].dropna(), alpha=0.05)\n",
    "m_comp.summary()"
   ]
  },
  {
   "cell_type": "code",
   "execution_count": 49,
   "id": "6621de2e",
   "metadata": {},
   "outputs": [
    {
     "name": "stderr",
     "output_type": "stream",
     "text": [
      "C:\\Users\\Raphael\\anaconda3\\envs\\pathophysiology\\lib\\site-packages\\seaborn\\categorical.py:1296: UserWarning: 21.9% of the points cannot be placed; you may want to decrease the size of the markers or use stripplot.\n",
      "  warnings.warn(msg, UserWarning)\n",
      "C:\\Users\\Raphael\\anaconda3\\envs\\pathophysiology\\lib\\site-packages\\seaborn\\categorical.py:1296: UserWarning: 7.4% of the points cannot be placed; you may want to decrease the size of the markers or use stripplot.\n",
      "  warnings.warn(msg, UserWarning)\n",
      "C:\\Users\\Raphael\\anaconda3\\envs\\pathophysiology\\lib\\site-packages\\seaborn\\categorical.py:1296: UserWarning: 11.5% of the points cannot be placed; you may want to decrease the size of the markers or use stripplot.\n",
      "  warnings.warn(msg, UserWarning)\n"
     ]
    },
    {
     "data": {
      "text/plain": [
       "<AxesSubplot:xlabel='Group', ylabel='%'>"
      ]
     },
     "execution_count": 49,
     "metadata": {},
     "output_type": "execute_result"
    },
    {
     "data": {
      "image/png": "[encoded data removed]",
      "text/plain": [
       "<Figure size 640x480 with 1 Axes>"
      ]
     },
     "metadata": {},
     "output_type": "display_data"
    }
   ],
   "source": [
    "#df7 = pd.concat([df4.groupby([\"CID\"])[\"%\"].mean(numeric_only=True),df4.groupby([\"CID\"])[\"Group\"].first()],axis=1)\n",
    "#df7.head()\n",
    "#sns.swarmplot(data=df7,x = \"Group\",y=\"%\")"
   ]
  },
  {
   "cell_type": "code",
   "execution_count": null,
   "id": "15e86ca0",
   "metadata": {},
   "outputs": [],
   "source": [
    "#df2.to_excel(os.path.join(basedir,\"LAMP1_Manders.xlsx\"),index_label=\"CID\")"
   ]
  },
  {
   "cell_type": "code",
   "execution_count": null,
   "id": "dac4bd09",
   "metadata": {},
   "outputs": [],
   "source": [
    "import seaborn as sns\n",
    "sns.boxplot(data=df2,x = \"Group1\",y=\"Manders_GFP_M1\")"
   ]
  },
  {
   "cell_type": "code",
   "execution_count": null,
   "id": "2515f74e",
   "metadata": {},
   "outputs": [],
   "source": [
    "sns.boxplot(data=df2,x = \"Group1\",y=\"Manders_GFP_M2\")"
   ]
  },
  {
   "cell_type": "code",
   "execution_count": null,
   "id": "73e54173",
   "metadata": {},
   "outputs": [],
   "source": [
    "sns.boxplot(data=df2,x = \"Group1\",y=\"Manders_AB_M1\",hue=\"Replicate\")"
   ]
  },
  {
   "cell_type": "code",
   "execution_count": null,
   "id": "66529f43",
   "metadata": {},
   "outputs": [],
   "source": [
    "sns.boxplot(data=df2,x = \"Group1\",y=\"Manders_AB_M2\")"
   ]
  },
  {
   "cell_type": "code",
   "execution_count": null,
   "id": "0ba10aa1",
   "metadata": {},
   "outputs": [],
   "source": [
    "sns.barplot(data=df2,x = \"Group1\",y=\"Manders_AB_M1\",hue=\"Replicate\")"
   ]
  },
  {
   "cell_type": "code",
   "execution_count": null,
   "id": "f533dd9b",
   "metadata": {},
   "outputs": [],
   "source": [
    "sns.boxplot(data=df2,x = \"Group1\",y=\"Pearson_GFP\")"
   ]
  },
  {
   "cell_type": "code",
   "execution_count": null,
   "id": "0eaccbe7",
   "metadata": {},
   "outputs": [],
   "source": [
    "sns.boxplot(data=df2,x = \"Group1\",y=\"Pearson_AB\")"
   ]
  },
  {
   "cell_type": "code",
   "execution_count": null,
   "id": "f22daac2",
   "metadata": {},
   "outputs": [],
   "source": [
    "df2.groupby([\"Group1\"])['Manders_AB_M1'].mean()"
   ]
  },
  {
   "cell_type": "code",
   "execution_count": null,
   "id": "2dbed9ec",
   "metadata": {},
   "outputs": [],
   "source": [
    "import scipy.stats as stats\n",
    "df2 =df2.dropna()\n",
    "df3 = df2[df2[\"Replicate\"]==2]\n",
    "# stats f_oneway functions takes the groups as input and returns ANOVA F and p value\n",
    "fvalue, pvalue = stats.f_oneway(df3[df3[\"Group1\"]==\"X\"]['Manders_AB_M1'].dropna(), df3[df3[\"Group1\"]==\"TP\"]['Manders_AB_M1'].dropna(), df3[df3[\"Group1\"]==\"FY\"]['Manders_AB_M1'].dropna())\n",
    "print(fvalue, pvalue)"
   ]
  },
  {
   "cell_type": "code",
   "execution_count": null,
   "id": "9ddf5c4d",
   "metadata": {},
   "outputs": [],
   "source": []
  },
  {
   "cell_type": "code",
   "execution_count": null,
   "id": "355fcf91",
   "metadata": {},
   "outputs": [],
   "source": [
    "from statsmodels.stats.multicomp import pairwise_tukeyhsd\n",
    "\n",
    "m_comp = pairwise_tukeyhsd(endog=df3['Manders_AB_M1'].dropna(), groups=df3['Group1'].dropna(), alpha=0.05)\n",
    "m_comp.summary()"
   ]
  },
  {
   "cell_type": "code",
   "execution_count": null,
   "id": "bb77becc",
   "metadata": {},
   "outputs": [],
   "source": [
    "fvalue, pvalue = stats.f_oneway(df3[df3[\"Group1\"]==\"X\"]['Manders_AB_M2'].dropna(), df3[df3[\"Group1\"]==\"TP\"]['Manders_AB_M2'].dropna(), df3[df3[\"Group1\"]==\"FY\"]['Manders_AB_M2'].dropna())\n",
    "print(fvalue, pvalue)\n",
    "m_comp = pairwise_tukeyhsd(endog=df3['Manders_AB_M2'].dropna(), groups=df3['Group1'].dropna(), alpha=0.05)\n",
    "m_comp.summary()"
   ]
  },
  {
   "cell_type": "code",
   "execution_count": null,
   "id": "952387d8",
   "metadata": {},
   "outputs": [],
   "source": []
  },
  {
   "cell_type": "code",
   "execution_count": 43,
   "id": "2450438a",
   "metadata": {},
   "outputs": [
    {
     "name": "stderr",
     "output_type": "stream",
     "text": [
      "C:\\Users\\Raphael\\AppData\\Local\\Temp\\ipykernel_1392\\2248934083.py:65: SettingWithCopyWarning: \n",
      "A value is trying to be set on a copy of a slice from a DataFrame.\n",
      "Try using .loc[row_indexer,col_indexer] = value instead\n",
      "\n",
      "See the caveats in the documentation: https://pandas.pydata.org/pandas-docs/stable/user_guide/indexing.html#returning-a-view-versus-a-copy\n",
      "  gdf['%'] = gdf['%']*100\n",
      "C:\\Users\\Raphael\\AppData\\Local\\Temp\\ipykernel_1392\\2248934083.py:65: SettingWithCopyWarning: \n",
      "A value is trying to be set on a copy of a slice from a DataFrame.\n",
      "Try using .loc[row_indexer,col_indexer] = value instead\n",
      "\n",
      "See the caveats in the documentation: https://pandas.pydata.org/pandas-docs/stable/user_guide/indexing.html#returning-a-view-versus-a-copy\n",
      "  gdf['%'] = gdf['%']*100\n",
      "C:\\Users\\Raphael\\AppData\\Local\\Temp\\ipykernel_1392\\2248934083.py:65: SettingWithCopyWarning: \n",
      "A value is trying to be set on a copy of a slice from a DataFrame.\n",
      "Try using .loc[row_indexer,col_indexer] = value instead\n",
      "\n",
      "See the caveats in the documentation: https://pandas.pydata.org/pandas-docs/stable/user_guide/indexing.html#returning-a-view-versus-a-copy\n",
      "  gdf['%'] = gdf['%']*100\n",
      "C:\\Users\\Raphael\\AppData\\Local\\Temp\\ipykernel_1392\\2248934083.py:117: SettingWithCopyWarning: \n",
      "A value is trying to be set on a copy of a slice from a DataFrame.\n",
      "Try using .loc[row_indexer,col_indexer] = value instead\n",
      "\n",
      "See the caveats in the documentation: https://pandas.pydata.org/pandas-docs/stable/user_guide/indexing.html#returning-a-view-versus-a-copy\n",
      "  gdf['%'] = gdf['%']*100\n",
      "C:\\Users\\Raphael\\AppData\\Local\\Temp\\ipykernel_1392\\2248934083.py:117: SettingWithCopyWarning: \n",
      "A value is trying to be set on a copy of a slice from a DataFrame.\n",
      "Try using .loc[row_indexer,col_indexer] = value instead\n",
      "\n",
      "See the caveats in the documentation: https://pandas.pydata.org/pandas-docs/stable/user_guide/indexing.html#returning-a-view-versus-a-copy\n",
      "  gdf['%'] = gdf['%']*100\n",
      "C:\\Users\\Raphael\\AppData\\Local\\Temp\\ipykernel_1392\\2248934083.py:117: SettingWithCopyWarning: \n",
      "A value is trying to be set on a copy of a slice from a DataFrame.\n",
      "Try using .loc[row_indexer,col_indexer] = value instead\n",
      "\n",
      "See the caveats in the documentation: https://pandas.pydata.org/pandas-docs/stable/user_guide/indexing.html#returning-a-view-versus-a-copy\n",
      "  gdf['%'] = gdf['%']*100\n"
     ]
    },
    {
     "name": "stdout",
     "output_type": "stream",
     "text": [
      "0.5\n",
      "1.0\n",
      "0.5\n",
      "1.0\n"
     ]
    },
    {
     "data": {
      "image/png": "[encoded data removed]",
      "text/plain": [
       "<Figure size 787.402x393.701 with 2 Axes>"
      ]
     },
     "metadata": {},
     "output_type": "display_data"
    }
   ],
   "source": [
    "import pathophys as pp\n",
    "\n",
    "def convert_pvalue_to_asterisks(pvalue):\n",
    "    if pvalue <= 0.0001:\n",
    "        return \"****\"\n",
    "    elif pvalue <= 0.001:\n",
    "        return \"***\"\n",
    "    elif pvalue <= 0.01:\n",
    "        return \"**\"\n",
    "    elif pvalue <= 0.05:\n",
    "        return \"*\"\n",
    "    return \"ns\"\n",
    "\n",
    "def drawsigbars(ax, ctrl, treatment, maxv, y_range, diff,pv):\n",
    "    import matplotlib.pyplot as plt\n",
    "    import pathophys as pp\n",
    "    ctrls = ctrl\n",
    "    treatments = treatment\n",
    "    if (type(ctrl) is dict) == True:\n",
    "        ctrls = list(ctrl.keys())[0]\n",
    "        ctrl = ctrl[ctrls]\n",
    "        treatments = list(treatment.keys())[0]\n",
    "        treatment = treatment[treatments]\n",
    "        print(ctrl)\n",
    "    ax.plot(\n",
    "        [ctrl, ctrl, treatment, treatment],\n",
    "        [maxv, maxv, maxv, maxv], lw=2, c='k'\n",
    "    )\n",
    "    p = pp.convert_pvalue_to_asterisks(pv)\n",
    "    ax.text((ctrl+diff), maxv, p, ha='center', va='bottom', fontsize=11)\n",
    "\n",
    "    \n",
    "pv1 = {\n",
    "    \"Ctrl\":{\n",
    "        \"TP\":0.0522,\n",
    "        \"FY\":0.8056 \t\n",
    "    }\n",
    "}\n",
    "pv2 = {\n",
    "    \"Ctrl\":{\n",
    "        \"TP\":0.119 \t,\n",
    "        \"FY\":0.7424\n",
    "    }\n",
    "}\n",
    "sigp = [[\"Ctrl\",\"TP\"],[\"Ctrl\",\"FY\"]]\n",
    "params = pp.loadparams()\n",
    "#sns.set_palette(sns.color_palette(params[\"Colors\"]))\n",
    "bs = params[\"BarSize\"]\n",
    "ls = params[\"LS\"]\n",
    "fig = plt.figure(constrained_layout=True, figsize=(20*pp.cm,10*pp.cm))\n",
    "subfigs = fig.subfigures(1,2)\n",
    "\n",
    "axUp = subfigs[0].subplots(1, 1, sharey=True)\n",
    "X2 = []\n",
    "X3 = []\n",
    "Y2 = []\n",
    "maxvs = []\n",
    "i = 0\n",
    "for g in ['X','TP', 'FY']:\n",
    "    gdf = df6[df6[\"Group\"]==g]\n",
    "    x = g\n",
    "    if g == \"X\":\n",
    "        x = \"Ctrl\"\n",
    "    X2.append(x)\n",
    "    gdf['%'] = gdf['%']*100\n",
    "    y = gdf['%'].mean()\n",
    "    std = gdf['%'].std()\n",
    "    err = 1.96*(std)/np.sqrt(gdf.size)\n",
    "    maxvs.append(y+err)\n",
    "    axUp.bar(x, y, 0.8, yerr=err, capsize=4, linewidth=ls, edgecolor=\"black\",color=params[\"Colors\"][i])\n",
    "    i=i+1\n",
    "    #CI1.append(1.96*(df[\"Mean\"][df[\"Group\"]==g].std())/math.sqrt(len(df[df[\"Group\"]==g])))\n",
    "for axis in ['top','bottom','left','right']:\n",
    "    axUp.spines[axis].set_linewidth(ls)\n",
    "    if axis in ['top','right']:\n",
    "        axUp.spines[axis].set_visible(False)\n",
    "axUp.tick_params(width=ls)\n",
    "maxv2 = np.max(np.array(maxvs))\n",
    "\n",
    "bottom2, top2 = axUp.get_ylim()\n",
    "y_range = top2 - bottom2\n",
    "hightind =  y_range*0.1\n",
    "treatmenti = 0\n",
    "#args = [df[\"Mean\"][df[\"Group\"]==g].values for g in df[\"Group\"].unique()]\n",
    "#m_comp = tukey_hsd(*args)\n",
    "for pairs in sigp:\n",
    "    c1 = pairs[0]\n",
    "    ctrli = X2.index(c1)\n",
    "    c2 = pairs[1]\n",
    "    treatmenti = X2.index(c2)\n",
    "    c1dic = {c1:ctrli+1}\n",
    "    c2dic = {c2:treatmenti+1}\n",
    "    diff = ((treatmenti-ctrli)/2)\n",
    "    print(diff)\n",
    "    p = pv1[c1][c2]\n",
    "    drawsigbars(axUp, ctrli, treatmenti, maxv2+hightind, y_range, diff,p)\n",
    "    hightind = hightind + y_range*0.2\n",
    "#expected = ((1.2)**2)/2-((0.2)**2)/2\n",
    "#axLo.axhline(y=expected, color='r', linestyle='--')\n",
    "axUp.set_title(\"Colocalization (aSyn - LAMP1)\", fontsize=11)\n",
    "axUp.set_title(\"c\", loc=\"left\", fontsize=20, fontweight=\"bold\", pad=15)\n",
    "axUp.set_xlabel(\"Treatment\", fontsize=11)\n",
    "axUp.set_ylabel(\"% aSyn colocalizing with LAMP1 (<0.25µm)\", fontsize=11)\n",
    "\n",
    "axLo = subfigs[1].subplots(1, 1, sharey=True)\n",
    "X2 = []\n",
    "X3 = []\n",
    "Y2 = []\n",
    "maxvs = []\n",
    "i = 0\n",
    "for g in ['X','TP', 'FY']:\n",
    "    gdf = df4[df4[\"Group\"]==g]\n",
    "    x = g\n",
    "    if g == \"X\":\n",
    "        x = \"Ctrl\"\n",
    "    X2.append(x)\n",
    "    gdf['%'] = gdf['%']*100\n",
    "    y = gdf['%'].mean()\n",
    "    std = gdf['%'].std()\n",
    "    err = 1.96*(std)/np.sqrt(gdf.size)\n",
    "    maxvs.append(y+err)\n",
    "    axLo.bar(x, y, 0.8, yerr=err, capsize=4, linewidth=ls, edgecolor=\"black\",color=params[\"Colors\"][i])\n",
    "    i=i+1\n",
    "    #CI1.append(1.96*(df[\"Mean\"][df[\"Group\"]==g].std())/math.sqrt(len(df[df[\"Group\"]==g])))\n",
    "for axis in ['top','bottom','left','right']:\n",
    "    axLo.spines[axis].set_linewidth(ls)\n",
    "    if axis in ['top','right']:\n",
    "        axLo.spines[axis].set_visible(False)\n",
    "axLo.tick_params(width=ls)\n",
    "maxv2 = np.max(np.array(maxvs))\n",
    "\n",
    "bottom2, top2 = axLo.get_ylim()\n",
    "y_range = top2 - bottom2\n",
    "hightind =  y_range*0.1\n",
    "treatmenti = 0\n",
    "#args = [df[\"Mean\"][df[\"Group\"]==g].values for g in df[\"Group\"].unique()]\n",
    "#m_comp = tukey_hsd(*args)\n",
    "for pairs in sigp:\n",
    "    c1 = pairs[0]\n",
    "    ctrli = X2.index(c1)\n",
    "    c2 = pairs[1]\n",
    "    treatmenti = X2.index(c2)\n",
    "    c1dic = {c1:ctrli+1}\n",
    "    c2dic = {c2:treatmenti+1}\n",
    "    diff = ((treatmenti-ctrli)/2)\n",
    "    print(diff)\n",
    "    p = pv2[c1][c2]\n",
    "    drawsigbars(axLo, ctrli, treatmenti, maxv2+hightind, y_range, diff,p)\n",
    "    hightind = hightind + y_range*0.2\n",
    "#expected = ((1.2)**2)/2-((0.2)**2)/2\n",
    "#axLo.axhline(y=expected, color='r', linestyle='--')\n",
    "axLo.set_title(\"Colocalization (LAMP1 - aSyn)\", fontsize=11)\n",
    "axLo.set_title(\"d\", loc=\"left\", fontsize=20, fontweight=\"bold\", pad=15)\n",
    "axLo.set_xlabel(\"Treatment\", fontsize=11)\n",
    "axLo.set_ylabel(\"% LAMP1 colocalizing with aSyn (<0.25µm)\", fontsize=11)\n",
    "\n",
    "\n",
    "plt.show()"
   ]
  },
  {
   "cell_type": "code",
   "execution_count": null,
   "id": "b9acca2b",
   "metadata": {},
   "outputs": [],
   "source": []
  },
  {
   "cell_type": "code",
   "execution_count": null,
   "id": "9cb421ee",
   "metadata": {},
   "outputs": [],
   "source": []
  },
  {
   "cell_type": "code",
   "execution_count": null,
   "id": "ca33a04d",
   "metadata": {},
   "outputs": [],
   "source": [
    "gfd = df3.groupby(\"CID\").max()"
   ]
  },
  {
   "cell_type": "code",
   "execution_count": null,
   "id": "eb84fc2d",
   "metadata": {},
   "outputs": [],
   "source": [
    "sns.violinplot(data=gfd,x = \"Group1\",y=\"Manders_adapted_AB\")"
   ]
  },
  {
   "cell_type": "code",
   "execution_count": null,
   "id": "c999add0",
   "metadata": {},
   "outputs": [],
   "source": [
    "fvalue, pvalue = stats.f_oneway(gfd[gfd[\"Group1\"]==\"X\"]['Manders_adapted_AB'], gfd[gfd[\"Group1\"]==\"TP\"]['Manders_adapted_AB'], gfd[gfd[\"Group1\"]==\"FY\"]['Manders_adapted_AB'])\n",
    "print(fvalue, pvalue)"
   ]
  },
  {
   "cell_type": "code",
   "execution_count": null,
   "id": "3b8c4c6d",
   "metadata": {},
   "outputs": [],
   "source": [
    "m_comp = pairwise_tukeyhsd(endog=gfd['Manders_adapted_AB'].dropna(), groups=gfd['Group1'], alpha=0.05)\n",
    "m_comp.summary()"
   ]
  },
  {
   "cell_type": "code",
   "execution_count": null,
   "id": "c53ccefb",
   "metadata": {},
   "outputs": [],
   "source": []
  },
  {
   "cell_type": "code",
   "execution_count": null,
   "id": "83130e98",
   "metadata": {},
   "outputs": [],
   "source": [
    "df[\"D05\"] = df[\"Ct\"]-df[\"p05\"]\n",
    "df[\"D01\"] = df[\"Ct\"]-df[\"p01\"]\n",
    "df[\"D001\"] = df[\"Ct\"]-df[\"p001\"]"
   ]
  },
  {
   "cell_type": "code",
   "execution_count": null,
   "id": "abeb7c1f",
   "metadata": {},
   "outputs": [],
   "source": [
    "df[\"g05\"] = 0\n",
    "df.loc[df[\"D05\"]>0,\"g05\"] = 1\n",
    "df[\"g01\"] = 0\n",
    "df.loc[df[\"D01\"]>0,\"g01\"] = 1\n",
    "df[\"g001\"] = 0\n",
    "df.loc[df[\"D001\"]>0,\"g001\"] = 1"
   ]
  },
  {
   "cell_type": "code",
   "execution_count": null,
   "id": "09e44875",
   "metadata": {},
   "outputs": [],
   "source": [
    "bdf = df[df[\"X\"]==\"LAMP1\"]\n",
    "bdf = bdf[bdf[\"Y\"]==\"aSyn_GFP\"]\n",
    "bdf.head()"
   ]
  },
  {
   "cell_type": "code",
   "execution_count": null,
   "id": "709cae45",
   "metadata": {},
   "outputs": [],
   "source": []
  },
  {
   "cell_type": "code",
   "execution_count": null,
   "id": "9fa00435",
   "metadata": {},
   "outputs": [],
   "source": [
    "bdf[bdf[\"D001\"]>0][bdf[\"t\"]==2].groupby(\"Group\")[\"D05\"].count()/bdf[bdf[\"t\"]==0.5].groupby(\"Group\")[\"D05\"].count()"
   ]
  },
  {
   "cell_type": "code",
   "execution_count": null,
   "id": "3b15be6b",
   "metadata": {},
   "outputs": [],
   "source": []
  },
  {
   "cell_type": "code",
   "execution_count": null,
   "id": "e7085fda",
   "metadata": {},
   "outputs": [],
   "source": [
    "from scipy.stats import chi2_contingency\n",
    "XGFP = bdf[bdf[\"Group\"]==\"X\"][bdf[\"t\"]==0.5].groupby(\"g001\")[\"D001\"].count().values\n",
    "TPGFP = bdf[bdf[\"Group\"]==\"TP\"][bdf[\"t\"]==0.5].groupby(\"g001\")[\"D001\"].count().values\n",
    "FYGFP = bdf[bdf[\"Group\"]==\"FY\"][bdf[\"t\"]==0.5].groupby(\"g001\")[\"D001\"].count().values\n",
    "print(XGFP)\n",
    "print(TPGFP)\n",
    "print(FYGFP)\n",
    "res = chi2_contingency([XGFP,TPGFP])\n",
    "print(res)\n",
    "res = chi2_contingency([XGFP,FYGFP])\n",
    "print(res)"
   ]
  },
  {
   "cell_type": "code",
   "execution_count": null,
   "id": "095270b9",
   "metadata": {},
   "outputs": [],
   "source": []
  },
  {
   "cell_type": "code",
   "execution_count": null,
   "id": "f2f298d2",
   "metadata": {},
   "outputs": [],
   "source": []
  },
  {
   "cell_type": "code",
   "execution_count": null,
   "id": "c1f91767",
   "metadata": {},
   "outputs": [],
   "source": [
    "import seaborn as sns\n",
    "sns.relplot(data=bdf[bdf[\"g001\"]==1], x=\"t\", y=\"D001\", kind=\"line\", hue=\"Group\")\n",
    "plt.show()"
   ]
  },
  {
   "cell_type": "code",
   "execution_count": null,
   "id": "37e99482",
   "metadata": {},
   "outputs": [],
   "source": [
    "sns.boxplot(data=bdf[bdf[\"g001\"]==1][bdf[\"t\"]==1], x=\"Group\", y=\"D001\")\n",
    "plt.show()"
   ]
  },
  {
   "cell_type": "code",
   "execution_count": null,
   "id": "2260f552",
   "metadata": {},
   "outputs": [],
   "source": [
    "sns.boxplot(data=bdf, x=\"Group\", y=\"Xc\")\n",
    "plt.show()"
   ]
  },
  {
   "cell_type": "code",
   "execution_count": null,
   "id": "1bdb34de",
   "metadata": {},
   "outputs": [],
   "source": [
    "sns.boxplot(data=bdf[bdf[\"t\"]==0.3], x=\"Group\", y=\"Yc\")\n",
    "plt.show()"
   ]
  },
  {
   "cell_type": "code",
   "execution_count": null,
   "id": "56d12fd4",
   "metadata": {},
   "outputs": [],
   "source": [
    "bdf.groupby(\"Group\")[\"Xc\"].median()"
   ]
  },
  {
   "cell_type": "code",
   "execution_count": null,
   "id": "ff72690c",
   "metadata": {},
   "outputs": [],
   "source": [
    "bdf.groupby(\"Group\")[\"Yc\"].median()"
   ]
  },
  {
   "cell_type": "code",
   "execution_count": null,
   "id": "9935c956",
   "metadata": {},
   "outputs": [],
   "source": [
    "bdf001 = bdf[bdf[\"D001\"]>0][bdf[\"Group\"]==\"TP\"] \n",
    "sns.histplot(data=bdf001, x=\"t\",binwidth=0.2)\n",
    "plt.show()"
   ]
  },
  {
   "cell_type": "code",
   "execution_count": null,
   "id": "6583688b",
   "metadata": {},
   "outputs": [],
   "source": [
    "abdf = df[df[\"X\"]==\"LAMP1\"]\n",
    "abdf = abdf[abdf[\"Y\"]==\"aSyn_AB\"]\n",
    "abdf.head()"
   ]
  },
  {
   "cell_type": "code",
   "execution_count": null,
   "id": "c03c9a4a",
   "metadata": {},
   "outputs": [],
   "source": [
    "abdf[abdf[\"D001\"]>0][abdf[\"t\"]==1].groupby(\"Group\")[\"D05\"].count()/abdf[abdf[\"t\"]==0.5].groupby(\"Group\")[\"D05\"].count()"
   ]
  },
  {
   "cell_type": "code",
   "execution_count": null,
   "id": "384ee279",
   "metadata": {},
   "outputs": [],
   "source": [
    "sns.relplot(data=abdf, x=\"t\", y=\"D001\", kind=\"line\", hue=\"Group\")\n",
    "plt.show()"
   ]
  }
 ],
 "metadata": {
  "kernelspec": {
   "display_name": "Python 3 (ipykernel)",
   "language": "python",
   "name": "python3"
  },
  "language_info": {
   "codemirror_mode": {
    "name": "ipython",
    "version": 3
   },
   "file_extension": ".py",
   "mimetype": "text/x-python",
   "name": "python",
   "nbconvert_exporter": "python",
   "pygments_lexer": "ipython3",
   "version": "3.9.13"
  }
 },
 "nbformat": 4,
 "nbformat_minor": 5
}
