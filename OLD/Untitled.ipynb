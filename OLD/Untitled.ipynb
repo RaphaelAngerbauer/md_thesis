{
 "cells": [
  {
   "cell_type": "code",
   "execution_count": 7,
   "id": "1ced2db3",
   "metadata": {},
   "outputs": [],
   "source": [
    "import numpy as np\n",
    "from scipy.ndimage import gaussian_filter\n",
    "import pickle\n",
    "import Opening\n",
    "import os\n",
    "import time\n",
    "\n"
   ]
  },
  {
   "cell_type": "code",
   "execution_count": 2,
   "id": "e1be2815",
   "metadata": {},
   "outputs": [
    {
     "name": "stdout",
     "output_type": "stream",
     "text": [
      "E:\\Raphael\\Data\\3. Plasmid moves cargo into Lysosomes\n"
     ]
    }
   ],
   "source": [
    "experiment = 3\n",
    "basedir = Opening.getimfolder(experiment)\n",
    "print(basedir)"
   ]
  },
  {
   "cell_type": "code",
   "execution_count": 12,
   "id": "34290c9a",
   "metadata": {},
   "outputs": [
    {
     "name": "stdout",
     "output_type": "stream",
     "text": [
      "--- 12.065038442611694 seconds ---\n",
      "--- 23.528213024139404 seconds ---\n",
      "--- 36.993151903152466 seconds ---\n",
      "--- 49.130051136016846 seconds ---\n",
      "--- 62.07243514060974 seconds ---\n",
      "--- 75.12778043746948 seconds ---\n",
      "--- 87.97949862480164 seconds ---\n",
      "--- 100.37740516662598 seconds ---\n",
      "--- 113.23447585105896 seconds ---\n",
      "--- 125.35693764686584 seconds ---\n",
      "--- 137.6435842514038 seconds ---\n",
      "--- 149.89029955863953 seconds ---\n",
      "--- 163.12618851661682 seconds ---\n",
      "--- 177.05266046524048 seconds ---\n",
      "--- 189.4680106639862 seconds ---\n",
      "--- 202.576678276062 seconds ---\n",
      "--- 214.42262172698975 seconds ---\n",
      "--- 226.93871402740479 seconds ---\n",
      "--- 238.57532167434692 seconds ---\n",
      "--- 250.25753092765808 seconds ---\n",
      "--- 262.9312934875488 seconds ---\n"
     ]
    },
    {
     "ename": "KeyboardInterrupt",
     "evalue": "",
     "output_type": "error",
     "traceback": [
      "\u001b[1;31m---------------------------------------------------------------------------\u001b[0m",
      "\u001b[1;31mKeyboardInterrupt\u001b[0m                         Traceback (most recent call last)",
      "\u001b[1;32m~\\AppData\\Local\\Temp\\ipykernel_8444\\4183772746.py\u001b[0m in \u001b[0;36m<cell line: 41>\u001b[1;34m()\u001b[0m\n\u001b[0;32m     39\u001b[0m     \u001b[1;32mreturn\u001b[0m \u001b[1;34m\"Done\"\u001b[0m\u001b[1;33m\u001b[0m\u001b[1;33m\u001b[0m\u001b[0m\n\u001b[0;32m     40\u001b[0m \u001b[1;33m\u001b[0m\u001b[0m\n\u001b[1;32m---> 41\u001b[1;33m \u001b[0mprint\u001b[0m\u001b[1;33m(\u001b[0m\u001b[0mget_points\u001b[0m\u001b[1;33m(\u001b[0m\u001b[1;33m)\u001b[0m\u001b[1;33m)\u001b[0m\u001b[1;33m\u001b[0m\u001b[1;33m\u001b[0m\u001b[0m\n\u001b[0m",
      "\u001b[1;32m~\\AppData\\Local\\Temp\\ipykernel_8444\\4183772746.py\u001b[0m in \u001b[0;36mget_points\u001b[1;34m()\u001b[0m\n\u001b[0;32m     28\u001b[0m             \u001b[0mZ\u001b[0m \u001b[1;33m=\u001b[0m \u001b[0mnp\u001b[0m\u001b[1;33m.\u001b[0m\u001b[0msum\u001b[0m\u001b[1;33m(\u001b[0m\u001b[0mP\u001b[0m\u001b[1;33m)\u001b[0m\u001b[1;33m\u001b[0m\u001b[1;33m\u001b[0m\u001b[0m\n\u001b[0;32m     29\u001b[0m             \u001b[0mpmap\u001b[0m \u001b[1;33m=\u001b[0m \u001b[0mpmap\u001b[0m\u001b[1;33m/\u001b[0m\u001b[0mZ\u001b[0m\u001b[1;33m\u001b[0m\u001b[1;33m\u001b[0m\u001b[0m\n\u001b[1;32m---> 30\u001b[1;33m             \u001b[0mind\u001b[0m \u001b[1;33m=\u001b[0m \u001b[0mnp\u001b[0m\u001b[1;33m.\u001b[0m\u001b[0mreshape\u001b[0m\u001b[1;33m(\u001b[0m\u001b[0mnp\u001b[0m\u001b[1;33m.\u001b[0m\u001b[0mindices\u001b[0m\u001b[1;33m(\u001b[0m\u001b[0mP\u001b[0m\u001b[1;33m.\u001b[0m\u001b[0mshape\u001b[0m\u001b[1;33m)\u001b[0m\u001b[1;33m.\u001b[0m\u001b[0mT\u001b[0m\u001b[1;33m,\u001b[0m\u001b[1;33m(\u001b[0m\u001b[1;36m1\u001b[0m\u001b[1;33m,\u001b[0m\u001b[1;36m1\u001b[0m\u001b[1;33m,\u001b[0m\u001b[1;33m-\u001b[0m\u001b[1;36m1\u001b[0m\u001b[1;33m,\u001b[0m\u001b[1;36m3\u001b[0m\u001b[1;33m)\u001b[0m\u001b[1;33m)\u001b[0m\u001b[1;33m[\u001b[0m\u001b[1;36m0\u001b[0m\u001b[1;33m]\u001b[0m\u001b[1;33m[\u001b[0m\u001b[1;36m0\u001b[0m\u001b[1;33m]\u001b[0m\u001b[1;33m\u001b[0m\u001b[1;33m\u001b[0m\u001b[0m\n\u001b[0m\u001b[0;32m     31\u001b[0m             \u001b[0maSynI\u001b[0m \u001b[1;33m=\u001b[0m \u001b[0mnp\u001b[0m\u001b[1;33m.\u001b[0m\u001b[0mrandom\u001b[0m\u001b[1;33m.\u001b[0m\u001b[0mchoice\u001b[0m\u001b[1;33m(\u001b[0m\u001b[0mnp\u001b[0m\u001b[1;33m.\u001b[0m\u001b[0marange\u001b[0m\u001b[1;33m(\u001b[0m\u001b[1;36m0\u001b[0m\u001b[1;33m,\u001b[0m\u001b[0mind\u001b[0m\u001b[1;33m.\u001b[0m\u001b[0mshape\u001b[0m\u001b[1;33m[\u001b[0m\u001b[1;36m0\u001b[0m\u001b[1;33m]\u001b[0m\u001b[1;33m)\u001b[0m\u001b[1;33m,\u001b[0m\u001b[0mNy\u001b[0m\u001b[1;33m,\u001b[0m\u001b[0mp\u001b[0m\u001b[1;33m=\u001b[0m\u001b[0mpmap\u001b[0m\u001b[1;33m)\u001b[0m\u001b[1;33m\u001b[0m\u001b[1;33m\u001b[0m\u001b[0m\n\u001b[0;32m     32\u001b[0m             \u001b[0maSyn\u001b[0m \u001b[1;33m=\u001b[0m \u001b[0mind\u001b[0m\u001b[1;33m[\u001b[0m\u001b[0maSynI\u001b[0m\u001b[1;33m]\u001b[0m\u001b[1;33m\u001b[0m\u001b[1;33m\u001b[0m\u001b[0m\n",
      "\u001b[1;32m~\\anaconda3\\envs\\pathophysiology\\lib\\site-packages\\numpy\\core\\overrides.py\u001b[0m in \u001b[0;36mreshape\u001b[1;34m(*args, **kwargs)\u001b[0m\n",
      "\u001b[1;32m~\\anaconda3\\envs\\pathophysiology\\lib\\site-packages\\numpy\\core\\fromnumeric.py\u001b[0m in \u001b[0;36mreshape\u001b[1;34m(a, newshape, order)\u001b[0m\n\u001b[0;32m    296\u001b[0m            [5, 6]])\n\u001b[0;32m    297\u001b[0m     \"\"\"\n\u001b[1;32m--> 298\u001b[1;33m     \u001b[1;32mreturn\u001b[0m \u001b[0m_wrapfunc\u001b[0m\u001b[1;33m(\u001b[0m\u001b[0ma\u001b[0m\u001b[1;33m,\u001b[0m \u001b[1;34m'reshape'\u001b[0m\u001b[1;33m,\u001b[0m \u001b[0mnewshape\u001b[0m\u001b[1;33m,\u001b[0m \u001b[0morder\u001b[0m\u001b[1;33m=\u001b[0m\u001b[0morder\u001b[0m\u001b[1;33m)\u001b[0m\u001b[1;33m\u001b[0m\u001b[1;33m\u001b[0m\u001b[0m\n\u001b[0m\u001b[0;32m    299\u001b[0m \u001b[1;33m\u001b[0m\u001b[0m\n\u001b[0;32m    300\u001b[0m \u001b[1;33m\u001b[0m\u001b[0m\n",
      "\u001b[1;32m~\\anaconda3\\envs\\pathophysiology\\lib\\site-packages\\numpy\\core\\fromnumeric.py\u001b[0m in \u001b[0;36m_wrapfunc\u001b[1;34m(obj, method, *args, **kwds)\u001b[0m\n\u001b[0;32m     55\u001b[0m \u001b[1;33m\u001b[0m\u001b[0m\n\u001b[0;32m     56\u001b[0m     \u001b[1;32mtry\u001b[0m\u001b[1;33m:\u001b[0m\u001b[1;33m\u001b[0m\u001b[1;33m\u001b[0m\u001b[0m\n\u001b[1;32m---> 57\u001b[1;33m         \u001b[1;32mreturn\u001b[0m \u001b[0mbound\u001b[0m\u001b[1;33m(\u001b[0m\u001b[1;33m*\u001b[0m\u001b[0margs\u001b[0m\u001b[1;33m,\u001b[0m \u001b[1;33m**\u001b[0m\u001b[0mkwds\u001b[0m\u001b[1;33m)\u001b[0m\u001b[1;33m\u001b[0m\u001b[1;33m\u001b[0m\u001b[0m\n\u001b[0m\u001b[0;32m     58\u001b[0m     \u001b[1;32mexcept\u001b[0m \u001b[0mTypeError\u001b[0m\u001b[1;33m:\u001b[0m\u001b[1;33m\u001b[0m\u001b[1;33m\u001b[0m\u001b[0m\n\u001b[0;32m     59\u001b[0m         \u001b[1;31m# A TypeError occurs if the object does have such a method in its\u001b[0m\u001b[1;33m\u001b[0m\u001b[1;33m\u001b[0m\u001b[0m\n",
      "\u001b[1;31mKeyboardInterrupt\u001b[0m: "
     ]
    }
   ],
   "source": [
    "def get_points():\n",
    "    dic = {}\n",
    "\n",
    "    Nx = 1000\n",
    "    start_time = time.time()\n",
    "    for cID in range(100):\n",
    "        dic[cID] = {}\n",
    "        P = np.zeros((250,250,250))\n",
    "        indL = np.reshape(np.indices(P.shape).T,(1,1,-1,3))[0][0]\n",
    "        LAMPI = np.random.choice(np.arange(0,indL.shape[0]),Nx)\n",
    "        LAMP = indL[LAMPI]\n",
    "        indQ = np.reshape(np.indices(P.shape).T,(1,1,-1,3))[0][0]\n",
    "        Ny = 1000\n",
    "        Qdic = {}\n",
    "        for q in range(100):\n",
    "            QI = np.random.choice(np.arange(0,indQ.shape[0]),Ny)\n",
    "            Q = indQ[QI]\n",
    "            Qdic[q]=Q\n",
    "        Ptemp = P.flatten()\n",
    "        Ptemp[LAMPI] = 1\n",
    "        P = Ptemp.reshape(P.shape)\n",
    "        dic[cID][\"LAMP\"] = LAMP\n",
    "        dic[cID][\"aSyn\"] = {}\n",
    "        dic[cID][\"Q\"] = Qdic\n",
    "        S = [0,0.1,0.5,1,2,10]\n",
    "        for sigma in S:\n",
    "            pmap = gaussian_filter(P,sigma,mode=\"wrap\").reshape(1,1,-1)[0][0]\n",
    "            Z = np.sum(P)\n",
    "            pmap = pmap/Z\n",
    "            ind = np.reshape(np.indices(P.shape).T,(1,1,-1,3))[0][0]\n",
    "            aSynI = np.random.choice(np.arange(0,ind.shape[0]),Ny,p=pmap)\n",
    "            aSyn = ind[aSynI]\n",
    "            dic[cID][\"aSyn\"][sigma] = aSyn\n",
    "        print(\"--- %s seconds ---\" % (time.time() - start_time))\n",
    "\n",
    "    with open(os.path.join(basedir,'coords.pickle'), 'wb') as handle:\n",
    "        pickle.dump(dic, handle, protocol=pickle.HIGHEST_PROTOCOL)\n",
    "    \n",
    "    return \"Done\"\n",
    "\n",
    "print(get_points())"
   ]
  },
  {
   "cell_type": "code",
   "execution_count": null,
   "id": "f366d009",
   "metadata": {},
   "outputs": [],
   "source": []
  }
 ],
 "metadata": {
  "kernelspec": {
   "display_name": "Python 3 (ipykernel)",
   "language": "python",
   "name": "python3"
  },
  "language_info": {
   "codemirror_mode": {
    "name": "ipython",
    "version": 3
   },
   "file_extension": ".py",
   "mimetype": "text/x-python",
   "name": "python",
   "nbconvert_exporter": "python",
   "pygments_lexer": "ipython3",
   "version": "3.9.13"
  }
 },
 "nbformat": 4,
 "nbformat_minor": 5
}
