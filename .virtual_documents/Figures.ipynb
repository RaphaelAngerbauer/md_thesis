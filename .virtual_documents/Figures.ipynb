import pandas as pd
import numpy as np
import matplotlib.pyplot as plt
%matplotlib inline

from functools import partial, reduce
from itertools import product

import seaborn as sns


from analyze_data import result

np.random.seed(888)





gfp_f = result().read(r'E:\diploma_thesis\Data\1. Plasmid can degrade GFP\Flourometry\Results.csv')


gfp_f.summarize(values = "Mean_norm").head()


gfp_f.create_p_table().head()


def indentify_control(ctrl, index, table):
    if type(ctrl)!= str:
        return ctrl
    cindex = None
    if type(index) is not tuple:
         cindex = ctrl
    else:
        cindex = list(tuple(index))
        cindex[-1] = ctrl
        cindex = tuple(cindex)
    return int(table.loc[cindex, ["id"]].values[0])

def get_ctrl_hi(y1, c, tab):
    if np.isnan(c):
        return c
    return tab.reset_index().set_index("id").loc[c, ["ci_hi"]].values[0]]

def lies_between(v1,v2,x1,x2):
    a = (np.abs(v1-x1) + np.abs(v1-x2)) == np.abs(x1-x2)
    b = (np.abs(v2-x1) + np.abs(v2-x2)) == np.abs(x1-x2)
    return np.logical_or(a,b)

def add_p_bars(ax, table, ld, scaling):
    table["control_id"] = table.apply(lambda d: indentify_control(d["control"], d.name, table), axis=1)
    table["ctrl_hi"] = table.apply(lambda d: get_ctrl_hi(d["control_id"], table), axis=1)
    ptable = table.loc[table.p >= 0, ["control_id","p_stars", "id", "ctrl_hi"]]
    ptable["switch"] = False
    space = ptable.loc[:,["max_y","ctrl_hi"]].max() * scaling
    print(space)
    while not np.prod(ptable["switch"].values):
        row = ptable.loc[ptable["switch"] == False,:].sort_values(["max_y","id"]).iloc[0]
        x1 = row["id"]
        x2 = row["control_id"]
        y1 = row["max_y"] + space
        y2 = y1+space*scaling
        ax.plot([x1,x1,x2,x2],[y1,y2,y2,y1],
               color = "black")
        print(np.mean([x1,x2]))
        ax.text(np.mean([x1,x2]), y2, row["p_stars"], ha = "center")
        ptable.loc[row.name,["switch"]] = True
        ptable.loc[lies_between(ptable["id"],
                               ptable["control_id"],
                               x1,x2),["max_y"]] += space
    return ax


from analyze_data import convert_pvalue_to_asterisks

def adjust_level(pcoords):
    
    return pcoords

def get_max(ind, max_v):
    if ind[0] < ind[1]:
        return np.max(max_v[ind[0]:ind[1]+1])
    elif ind[0] > ind[1]:
        return np.max(max_v[ind[1]:ind[0]+1])
    else:
        return np.max(max_v[ind[0]])

def create_2d_matrix(vector, 
                     merge_func = partial(np.max, axis =2)):
    matrix = np.vstack([vector for i in range(len(vector))])
    array = merge_func(np.stack([matrix, matrix.T], axis = 2))
    return array

def get_p_coords(ftable, p_table, scaling):
    index_lab = ftable.index.map(lambda x: x if type(x) is not tuple else "_".join(list(x)))
    p_coords = pd.DataFrame(index = pd.MultiIndex.from_product([index_lab,
                                                               index_lab], names = ["control", "treatment"]),
                           columns = ["x1", "x2", "y_lo", "y_hi", "p", "star", "text", "level"])
    index_mat = create_2d_matrix(index_lab.values, merge_func = lambda x: x)
    p_array = (p_table
          .reindex(ftable.index, axis = 0)
         .reindex(ftable.index, axis = 1)
         .to_numpy())
    max_v = ftable.to_numpy()
    level_v = np.zeros_like(max_v)
    step = np.max(max_v) * scaling
    tracking = p_array >= 0
    coords = np.indices(tracking.shape).T
    diff = np.abs(np.diff(coords,axis=2).T)[0]
    while np.sum(tracking) > 0:
        max_array = np.ma.masked_array(np.apply_along_axis(partial(get_max, max_v = max_v), 2, coords), mask=~tracking) 
        diff_array = np.ma.masked_array(diff, mask=~(max_array == np.min(max_array)))
        i,j = np.unravel_index(np.argmin(diff_array), diff_array.shape)
        i_s, j_s = tuple(sorted((i,j)))
        max_value = max_array[i,j]
        df_index = tuple(index_mat[i,j])
        p_coords.loc[df_index, "x1"] = i
        p_coords.loc[df_index, "x2"] = j
        p_coords.loc[df_index, "y_lo"] = max_value + step
        p_coords.loc[df_index, "y_hi"] = max_value+step*(1+scaling)
        p_coords.loc[df_index, "p"] = p_array[i,j]
        p_coords.loc[df_index, "text"] = (i+j)/2
        p_coords.loc[df_index, "level"] = np.max(level_v[i_s:j_s+1])
        level_v[i_s:j_s+1] += 1
        max_v[i_s:j_s+1] += step*(1+scaling)
        tracking[i,j] = False
    p_coords["star"] = convert_pvalue_to_asterisks(p_coords["p"])
    return p_coords.dropna()

def add_p_bars(ax, ftable, p_table, scaling, p_coords,
              level_adj):
    if p_coords.empty == True:
        p_coords = get_p_coords(ftable, p_table, scaling)
    if level_adj:
        p_coords = adjust_level(p_coords)
    ax.plot(np.vstack([p_coords.x1,
                      p_coords.x1,
                      p_coords.x2,
                      p_coords.x2]),
           np.vstack([p_coords.y_lo,
                      p_coords.y_hi,
                      p_coords.y_hi,
                      p_coords.y_lo]),
           color = "black")
    for _,row in p_coords.loc[:,["y_hi", "text", "star"]].iterrows():
        ax.text(row.text, row.y_hi, row.star,
               horizontalalignment = "center")
    return ax

def barplot(ax,
            table,
            p_table,
              palette = ["#003f5c",
                     "#ffa600",
                     "#bc5090"],
            x_units = ("",1),
            y_units = ("",1),
            no_bars = False,
            scaling = 0.1,
            max_v = "ci_hi",
            p_coords = pd.DataFrame(),
            level_adj = False
              ):
    ftable = table.copy()
    ftable["id"] = np.arange(0,len(table))
    ftable.loc[:,["mean", "ci_lo", "ci_hi"]] = ftable.loc[:,["mean", "ci_lo", "ci_hi"]] * y_units[1]
    ld = {i: x for i,x in enumerate(reversed(ftable.index.names))}
    nitable = ftable.reset_index()
    ax.bar(nitable["id"], nitable["mean"],
          color = palette,
          tick_label = nitable[ld[0]]*x_units[1],
          yerr = np.abs(nitable.loc[:,["ci_lo", "ci_hi"]].values.T - nitable["mean"].values),
           capsize = 5,
           alpha = 0.9,
           
           width = 0.7
          )
    ax = add_p_bars(ax, ftable[max_v], p_table, scaling, p_coords, level_adj)
    return ax

fig,ax = plt.subplots()
ax = barplot(ax, gfp_f.summary, gfp_f.p_table, y_units = ("%",100))


table_gfp_f.head()


test_file = r"E:\diploma_thesis\Data\5. Plasmid-mediated degradation does not get affected by Inhibition of Autophagy\Flourometry\Results.csv"
test = result().read(test_file)
test.df.head()
test.summarize(values = "Mean_norm_X", groups = ["Group2","Group1"]).head()
test.create_p_table()


fig,ax = plt.subplots()
ax = barplot(ax, test.summary, test.p_table)



