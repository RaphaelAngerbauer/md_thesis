{
 "cells": [
  {
   "cell_type": "code",
   "execution_count": 3,
   "id": "a9b0f6c7",
   "metadata": {},
   "outputs": [
    {
     "name": "stdout",
     "output_type": "stream",
     "text": [
      "E:\\diploma_thesis\\Data\\Y. Quenching\n"
     ]
    }
   ],
   "source": [
    "import pandas as pd\n",
    "import os\n",
    "import tifffile as tiff\n",
    "import matplotlib.pyplot as plt\n",
    "import pathophys as pp\n",
    "import numpy as np\n",
    "import math\n",
    "import seaborn as sns\n",
    "from scipy.stats import norm,tukey_hsd\n",
    "from sklearn.linear_model import LinearRegression\n",
    "\n",
    "\n",
    "def getimfolder(experiment):\n",
    "    import os\n",
    "    basedir = \"\"\n",
    "    data = \"E:\\diploma_thesis\\Data\"\n",
    "    for folder in os.listdir(data):\n",
    "        if str(experiment) in folder:\n",
    "            basedir = os.path.join(data, folder)\n",
    "    return basedir\n",
    "\n",
    "experiment = \"Y\"\n",
    "basedir = getimfolder(experiment)\n",
    "print(basedir)"
   ]
  },
  {
   "cell_type": "code",
   "execution_count": 4,
   "id": "21627c83",
   "metadata": {},
   "outputs": [
    {
     "name": "stdout",
     "output_type": "stream",
     "text": [
      "0                       Application: SparkControl\n",
      "1                                   Device: Spark\n",
      "2                                       Firmware:\n",
      "3                                             NaN\n",
      "4                                           Date:\n",
      "5                                           Time:\n",
      "6                                          System\n",
      "7                                            User\n",
      "8                                           Plate\n",
      "9                                      Lid lifter\n",
      "10                              Humidity Cassette\n",
      "11                                    Smooth mode\n",
      "12                                            NaN\n",
      "13    List of actions in this measurement script:\n",
      "14                                          Plate\n",
      "15                                            NaN\n",
      "16                                            NaN\n",
      "17                                           Name\n",
      "18                                   Plate layout\n",
      "19                                     Plate area\n",
      "20                                            NaN\n",
      "21                                           Mode\n",
      "22                                           Name\n",
      "23                                     Excitation\n",
      "24                     Excitation wavelength [nm]\n",
      "25                      Excitation bandwidth [nm]\n",
      "26                                       Emission\n",
      "27                       Emission wavelength [nm]\n",
      "28                        Emission bandwidth [nm]\n",
      "29                                   Gain Optimal\n",
      "30                                         Mirror\n",
      "31                              Number of flashes\n",
      "32                          Integration time [µs]\n",
      "33                                  Lag time [µs]\n",
      "34                               Settle time [ms]\n",
      "35                                Z-Position [μm]\n",
      "36                            Z-Position mode A11\n",
      "37      Multiple Reads per Well (Circle (filled))\n",
      "38          Multiple Reads per Well (Border) [μm]\n",
      "39                                  Part of Plate\n",
      "40                                            NaN\n",
      "41                                     Start Time\n",
      "42                               Temperature [°C]\n",
      "43                                            NaN\n",
      "44                                           Well\n",
      "45                                           Mean\n",
      "46                                          StDev\n",
      "47                                            1;2\n",
      "48                                            2;1\n",
      "49                                            2;2\n",
      "50                                            2;3\n",
      "51                                            3;2\n",
      "52                                            NaN\n",
      "53                                       End Time\n",
      "Name: Method name: Raphael, dtype: object\n"
     ]
    }
   ],
   "source": [
    "folder = os.path.join(basedir, \"Experiment\")\n",
    "spark = pd.read_excel(os.path.join(folder,\"Spark.xlsx\"))\n",
    "topc = list(spark.columns)[0]\n",
    "print(spark[topc])"
   ]
  },
  {
   "cell_type": "code",
   "execution_count": 5,
   "id": "040981ba",
   "metadata": {},
   "outputs": [
    {
     "name": "stdout",
     "output_type": "stream",
     "text": [
      "Well\n",
      "A1      A1\n",
      "A2      A2\n",
      "A3      A3\n",
      "A4      A4\n",
      "A5      A5\n",
      "      ... \n",
      "H8      H8\n",
      "H9      H9\n",
      "H10    H10\n",
      "H11    H11\n",
      "H12    H12\n",
      "Name: Well, Length: 96, dtype: object\n"
     ]
    },
    {
     "data": {
      "text/html": [
       "<div>\n",
       "<style scoped>\n",
       "    .dataframe tbody tr th:only-of-type {\n",
       "        vertical-align: middle;\n",
       "    }\n",
       "\n",
       "    .dataframe tbody tr th {\n",
       "        vertical-align: top;\n",
       "    }\n",
       "\n",
       "    .dataframe thead th {\n",
       "        text-align: right;\n",
       "    }\n",
       "</style>\n",
       "<table border=\"1\" class=\"dataframe\">\n",
       "  <thead>\n",
       "    <tr style=\"text-align: right;\">\n",
       "      <th></th>\n",
       "      <th>Well</th>\n",
       "      <th>Mean</th>\n",
       "      <th>StDev</th>\n",
       "      <th>1;2</th>\n",
       "      <th>2;1</th>\n",
       "      <th>2;2</th>\n",
       "      <th>2;3</th>\n",
       "      <th>3;2</th>\n",
       "    </tr>\n",
       "    <tr>\n",
       "      <th>Well</th>\n",
       "      <th></th>\n",
       "      <th></th>\n",
       "      <th></th>\n",
       "      <th></th>\n",
       "      <th></th>\n",
       "      <th></th>\n",
       "      <th></th>\n",
       "      <th></th>\n",
       "    </tr>\n",
       "  </thead>\n",
       "  <tbody>\n",
       "    <tr>\n",
       "      <th>A1</th>\n",
       "      <td>A1</td>\n",
       "      <td>17589.4</td>\n",
       "      <td>2094.893267</td>\n",
       "      <td>19839</td>\n",
       "      <td>17020</td>\n",
       "      <td>19618</td>\n",
       "      <td>16502</td>\n",
       "      <td>14968</td>\n",
       "    </tr>\n",
       "    <tr>\n",
       "      <th>A2</th>\n",
       "      <td>A2</td>\n",
       "      <td>31710.8</td>\n",
       "      <td>3869.634246</td>\n",
       "      <td>34620</td>\n",
       "      <td>30105</td>\n",
       "      <td>36815</td>\n",
       "      <td>29573</td>\n",
       "      <td>27441</td>\n",
       "    </tr>\n",
       "    <tr>\n",
       "      <th>A3</th>\n",
       "      <td>A3</td>\n",
       "      <td>33108.2</td>\n",
       "      <td>3848.512141</td>\n",
       "      <td>36069</td>\n",
       "      <td>31267</td>\n",
       "      <td>38182</td>\n",
       "      <td>31052</td>\n",
       "      <td>28971</td>\n",
       "    </tr>\n",
       "    <tr>\n",
       "      <th>A4</th>\n",
       "      <td>A4</td>\n",
       "      <td>37955.4</td>\n",
       "      <td>4530.249198</td>\n",
       "      <td>41932</td>\n",
       "      <td>36562</td>\n",
       "      <td>43285</td>\n",
       "      <td>35520</td>\n",
       "      <td>32478</td>\n",
       "    </tr>\n",
       "    <tr>\n",
       "      <th>A5</th>\n",
       "      <td>A5</td>\n",
       "      <td>27431.6</td>\n",
       "      <td>3181.497965</td>\n",
       "      <td>30028</td>\n",
       "      <td>26392</td>\n",
       "      <td>31298</td>\n",
       "      <td>25947</td>\n",
       "      <td>23493</td>\n",
       "    </tr>\n",
       "  </tbody>\n",
       "</table>\n",
       "</div>"
      ],
      "text/plain": [
       "     Well     Mean        StDev    1;2    2;1    2;2    2;3    3;2\n",
       "Well                                                              \n",
       "A1     A1  17589.4  2094.893267  19839  17020  19618  16502  14968\n",
       "A2     A2  31710.8  3869.634246  34620  30105  36815  29573  27441\n",
       "A3     A3  33108.2  3848.512141  36069  31267  38182  31052  28971\n",
       "A4     A4  37955.4  4530.249198  41932  36562  43285  35520  32478\n",
       "A5     A5  27431.6  3181.497965  30028  26392  31298  25947  23493"
      ]
     },
     "execution_count": 5,
     "metadata": {},
     "output_type": "execute_result"
    }
   ],
   "source": [
    "data = {}\n",
    "for heading in [\"Well\",\"Mean\",\"StDev\",\"1;2\",\"2;1\",\"2;2\",\"2;3\",\"3;2\"]:\n",
    "    data[heading] = spark[spark[topc]==heading].values[0][1:]\n",
    "rawdf = pd.DataFrame(data=data)\n",
    "rawdf[\"Mean\"] = pd.to_numeric(rawdf[\"Mean\"])\n",
    "rawdf[\"Well\"] = rawdf[\"Well\"].astype(str)\n",
    "rawdf = rawdf.set_index(rawdf[\"Well\"])\n",
    "print(rawdf[\"Well\"] )\n",
    "rawdf.head()"
   ]
  },
  {
   "cell_type": "code",
   "execution_count": 6,
   "id": "a43e7bcf",
   "metadata": {},
   "outputs": [
    {
     "data": {
      "text/html": [
       "<div>\n",
       "<style scoped>\n",
       "    .dataframe tbody tr th:only-of-type {\n",
       "        vertical-align: middle;\n",
       "    }\n",
       "\n",
       "    .dataframe tbody tr th {\n",
       "        vertical-align: top;\n",
       "    }\n",
       "\n",
       "    .dataframe thead th {\n",
       "        text-align: right;\n",
       "    }\n",
       "</style>\n",
       "<table border=\"1\" class=\"dataframe\">\n",
       "  <thead>\n",
       "    <tr style=\"text-align: right;\">\n",
       "      <th></th>\n",
       "      <th>Group</th>\n",
       "      <th>Well</th>\n",
       "    </tr>\n",
       "    <tr>\n",
       "      <th>Well</th>\n",
       "      <th></th>\n",
       "      <th></th>\n",
       "    </tr>\n",
       "  </thead>\n",
       "  <tbody>\n",
       "    <tr>\n",
       "      <th>A1</th>\n",
       "      <td>X</td>\n",
       "      <td>A1</td>\n",
       "    </tr>\n",
       "    <tr>\n",
       "      <th>A2</th>\n",
       "      <td>X</td>\n",
       "      <td>A2</td>\n",
       "    </tr>\n",
       "    <tr>\n",
       "      <th>A3</th>\n",
       "      <td>X</td>\n",
       "      <td>A3</td>\n",
       "    </tr>\n",
       "    <tr>\n",
       "      <th>A4</th>\n",
       "      <td>X</td>\n",
       "      <td>A4</td>\n",
       "    </tr>\n",
       "    <tr>\n",
       "      <th>A5</th>\n",
       "      <td>X</td>\n",
       "      <td>A5</td>\n",
       "    </tr>\n",
       "  </tbody>\n",
       "</table>\n",
       "</div>"
      ],
      "text/plain": [
       "     Group Well\n",
       "Well           \n",
       "A1       X   A1\n",
       "A2       X   A2\n",
       "A3       X   A3\n",
       "A4       X   A4\n",
       "A5       X   A5"
      ]
     },
     "execution_count": 6,
     "metadata": {},
     "output_type": "execute_result"
    }
   ],
   "source": [
    "import string\n",
    "datag = {}\n",
    "g1df = pd.read_excel(os.path.join(folder,\"Group1.xlsx\"),header=None)\n",
    "g1array = g1df.to_numpy()\n",
    "datag[\"Group\"] = g1array.flatten()\n",
    "datag[\"n\"] = np.array([np.array(range(1,len(g1array[i])+1)) for i in range(g1array.shape[0])]).flatten()\n",
    "alphabet = list(string.ascii_uppercase)\n",
    "datag[\"l\"] = np.array([np.array([alphabet[i] for j in range(g1array.shape[1])]) for i in range(g1array.shape[0])]).flatten()\n",
    "gdf = pd.DataFrame(data=datag)\n",
    "gdf[\"Well\"] = gdf[\"l\"]+gdf[\"n\"].astype(str)\n",
    "gdf = gdf.drop(\"n\",axis = 1)\n",
    "gdf = gdf.drop(\"l\",axis = 1)\n",
    "gdf[\"Well\"] = gdf[\"Well\"].astype(str)\n",
    "gdf = gdf.set_index(gdf[\"Well\"])\n",
    "gdf.head()"
   ]
  },
  {
   "cell_type": "code",
   "execution_count": 11,
   "id": "a9ad94d2",
   "metadata": {},
   "outputs": [],
   "source": [
    "df = pd.concat([rawdf,gdf], join=\"inner\", axis=1)\n",
    "df[\"Mean\"] = df[\"Mean\"]/1000\n",
    "df.head()\n",
    "df.to_csv(os.path.join(r\"E:\\diploma_thesis\\Data\\Y. Quenching\", \"Results.csv\"))"
   ]
  },
  {
   "cell_type": "code",
   "execution_count": 8,
   "id": "53b675d2",
   "metadata": {},
   "outputs": [
    {
     "name": "stdout",
     "output_type": "stream",
     "text": [
      "      Group\n",
      "Well       \n",
      "A1      NaN\n",
      "A2      NaN\n",
      "A3      NaN\n",
      "A4      NaN\n",
      "A5      NaN\n"
     ]
    }
   ],
   "source": [
    "datag2 = {}\n",
    "g2df = pd.read_excel(os.path.join(folder,\"Lin.xlsx\"),header=None)\n",
    "g2array = g2df.to_numpy()\n",
    "datag2[\"Group\"] = g2array.flatten()\n",
    "datag2[\"n\"] = np.array([np.array(range(1,len(g2array[i])+1)) for i in range(g2array.shape[0])]).flatten()\n",
    "alphabet = list(string.ascii_uppercase)\n",
    "datag2[\"l\"] = np.array([np.array([alphabet[i] for j in range(g2array.shape[1])]) for i in range(g2array.shape[0])]).flatten()\n",
    "gdf2 = pd.DataFrame(data=datag2)\n",
    "\n",
    "gdf2[\"Well\"] = gdf2[\"l\"]+gdf2[\"n\"].astype(str)\n",
    "gdf2 = gdf2.drop(\"n\",axis = 1)\n",
    "\n",
    "gdf2 = gdf2.drop(\"l\",axis = 1)\n",
    "gdf2[\"Well\"] = gdf2[\"Well\"].astype(str)\n",
    "\n",
    "#print(gdf2.shape)\n",
    "gdf2 = gdf2.set_index(\"Well\")\n",
    "\n",
    "print(gdf2.head())"
   ]
  },
  {
   "cell_type": "code",
   "execution_count": 9,
   "id": "754cbbab",
   "metadata": {},
   "outputs": [
    {
     "data": {
      "text/html": [
       "<div>\n",
       "<style scoped>\n",
       "    .dataframe tbody tr th:only-of-type {\n",
       "        vertical-align: middle;\n",
       "    }\n",
       "\n",
       "    .dataframe tbody tr th {\n",
       "        vertical-align: top;\n",
       "    }\n",
       "\n",
       "    .dataframe thead th {\n",
       "        text-align: right;\n",
       "    }\n",
       "</style>\n",
       "<table border=\"1\" class=\"dataframe\">\n",
       "  <thead>\n",
       "    <tr style=\"text-align: right;\">\n",
       "      <th></th>\n",
       "      <th>Well</th>\n",
       "      <th>Mean</th>\n",
       "      <th>StDev</th>\n",
       "      <th>1;2</th>\n",
       "      <th>2;1</th>\n",
       "      <th>2;2</th>\n",
       "      <th>2;3</th>\n",
       "      <th>3;2</th>\n",
       "      <th>Group</th>\n",
       "    </tr>\n",
       "    <tr>\n",
       "      <th>Well</th>\n",
       "      <th></th>\n",
       "      <th></th>\n",
       "      <th></th>\n",
       "      <th></th>\n",
       "      <th></th>\n",
       "      <th></th>\n",
       "      <th></th>\n",
       "      <th></th>\n",
       "      <th></th>\n",
       "    </tr>\n",
       "  </thead>\n",
       "  <tbody>\n",
       "    <tr>\n",
       "      <th>D1</th>\n",
       "      <td>D1</td>\n",
       "      <td>25.6194</td>\n",
       "      <td>2864.930069</td>\n",
       "      <td>27517</td>\n",
       "      <td>25758</td>\n",
       "      <td>29081</td>\n",
       "      <td>23899</td>\n",
       "      <td>21842</td>\n",
       "      <td>11.0</td>\n",
       "    </tr>\n",
       "    <tr>\n",
       "      <th>D2</th>\n",
       "      <td>D2</td>\n",
       "      <td>25.5546</td>\n",
       "      <td>2776.748692</td>\n",
       "      <td>27627</td>\n",
       "      <td>25002</td>\n",
       "      <td>29012</td>\n",
       "      <td>24041</td>\n",
       "      <td>22091</td>\n",
       "      <td>11.0</td>\n",
       "    </tr>\n",
       "    <tr>\n",
       "      <th>D3</th>\n",
       "      <td>D3</td>\n",
       "      <td>26.0840</td>\n",
       "      <td>2724.008535</td>\n",
       "      <td>27945</td>\n",
       "      <td>25959</td>\n",
       "      <td>29478</td>\n",
       "      <td>24392</td>\n",
       "      <td>22646</td>\n",
       "      <td>11.0</td>\n",
       "    </tr>\n",
       "    <tr>\n",
       "      <th>D4</th>\n",
       "      <td>D4</td>\n",
       "      <td>34.0052</td>\n",
       "      <td>3802.181177</td>\n",
       "      <td>36605</td>\n",
       "      <td>33708</td>\n",
       "      <td>38791</td>\n",
       "      <td>31676</td>\n",
       "      <td>29246</td>\n",
       "      <td>15.0</td>\n",
       "    </tr>\n",
       "    <tr>\n",
       "      <th>D5</th>\n",
       "      <td>D5</td>\n",
       "      <td>32.8174</td>\n",
       "      <td>3409.56072</td>\n",
       "      <td>35104</td>\n",
       "      <td>32212</td>\n",
       "      <td>37259</td>\n",
       "      <td>30859</td>\n",
       "      <td>28653</td>\n",
       "      <td>15.0</td>\n",
       "    </tr>\n",
       "  </tbody>\n",
       "</table>\n",
       "</div>"
      ],
      "text/plain": [
       "     Well     Mean        StDev    1;2    2;1    2;2    2;3    3;2  Group\n",
       "Well                                                                     \n",
       "D1     D1  25.6194  2864.930069  27517  25758  29081  23899  21842   11.0\n",
       "D2     D2  25.5546  2776.748692  27627  25002  29012  24041  22091   11.0\n",
       "D3     D3  26.0840  2724.008535  27945  25959  29478  24392  22646   11.0\n",
       "D4     D4  34.0052  3802.181177  36605  33708  38791  31676  29246   15.0\n",
       "D5     D5  32.8174   3409.56072  35104  32212  37259  30859  28653   15.0"
      ]
     },
     "execution_count": 9,
     "metadata": {},
     "output_type": "execute_result"
    }
   ],
   "source": [
    "df2 = pd.concat([rawdf,gdf2], join=\"inner\", axis=1)\n",
    "df2[\"Mean\"] = df2[\"Mean\"]/1000\n",
    "df2 = df2.dropna()\n",
    "df2.head()"
   ]
  },
  {
   "cell_type": "code",
   "execution_count": 12,
   "id": "3ab971f8",
   "metadata": {},
   "outputs": [],
   "source": [
    "df2.to_csv(os.path.join(r\"E:\\diploma_thesis\\Data\\Y. Quenching\", \"Curve.csv\"))"
   ]
  },
  {
   "cell_type": "code",
   "execution_count": 8,
   "id": "f1851ab0",
   "metadata": {},
   "outputs": [
    {
     "data": {
      "text/plain": [
       "[<matplotlib.lines.Line2D at 0x24124aa9670>]"
      ]
     },
     "execution_count": 8,
     "metadata": {},
     "output_type": "execute_result"
    },
    {
     "data": {
      "image/png": "[encoded data removed]",
      "text/plain": [
       "<Figure size 640x480 with 1 Axes>"
      ]
     },
     "metadata": {},
     "output_type": "display_data"
    }
   ],
   "source": [
    "plt.scatter(df2[\"Group\"],df2[\"Mean\"])\n",
    "\n",
    "reg = LinearRegression().fit(df2[\"Group\"].values.reshape(-1, 1), df2[\"Mean\"].values.reshape(-1, 1))\n",
    "xval = np.arange(df2[\"Group\"].min(),df2[\"Group\"].max(),0.1)\n",
    "plt.plot(xval, xval*float(reg.coef_)+reg.intercept_)"
   ]
  },
  {
   "cell_type": "code",
   "execution_count": 14,
   "id": "8248e643",
   "metadata": {},
   "outputs": [
    {
     "name": "stdout",
     "output_type": "stream",
     "text": [
      "R2: 0.9855767577428638\n",
      "[] []\n",
      "PathPatch6((0.6, 22.3736) ...)\n",
      "PathPatch6((1.6, 23.6632) ...)\n",
      "PathPatch6((2.6, 23.3332) ...)\n",
      "1\n",
      "X vs. TP: 0.6439368061613943\n",
      "1\n",
      "X vs. FY: 0.8925619398440121\n"
     ]
    },
    {
     "data": {
      "image/png": "[encoded data removed]",
      "text/plain": [
       "<Figure size 787.402x393.701 with 2 Axes>"
      ]
     },
     "metadata": {},
     "output_type": "display_data"
    }
   ],
   "source": [
    "def bootstrap_mean(data,nit=10000):\n",
    "    means = []\n",
    "    for i in range(nit):\n",
    "        rng = np.random.default_rng()\n",
    "        XR = rng.choice(data,replace=True,size=data.shape[0],axis=0)\n",
    "        means.append(np.mean(XR))\n",
    "    return np.percentile(means,2.5),np.percentile(means,97.5)\n",
    "\n",
    "\n",
    "\n",
    "sigp = [[\"X\",\"TP\"],[\"X\",\"FY\"]]\n",
    "params = pp.loadparams()\n",
    "#sns.set_palette(sns.color_palette(params[\"Colors\"]))\n",
    "bs = params[\"BarSize\"]\n",
    "ls = params[\"LS\"]\n",
    "fig = plt.figure(constrained_layout=True, figsize=(20*pp.cm,10*pp.cm))\n",
    "subfigs = fig.subfigures(1,2)\n",
    "\n",
    "axUp = subfigs[0].subplots(1, 1, sharey=True)\n",
    "\n",
    "reg = LinearRegression().fit(df2[\"Group\"].values.reshape(-1, 1), df2[\"Mean\"].values.reshape(-1, 1))\n",
    "xval = np.arange(df2[\"Group\"].min(),df2[\"Group\"].max(),0.1)\n",
    "axUp.plot(xval, xval*float(reg.coef_)+reg.intercept_,c=\"red\")\n",
    "axUp.scatter(df2[\"Group\"],df2[\"Mean\"],c=\"black\",marker=\"x\",s=20)\n",
    "print(\"R2: \"+str(reg.score(df2[\"Group\"].values.reshape(-1, 1), df2[\"Mean\"].values.reshape(-1, 1))))\n",
    "i = 0\n",
    "leg = []\n",
    "for g in ['X','TP', 'FY']:\n",
    "    x = (df[\"Mean\"][df[\"Group\"]==g].median()-reg.intercept_)/float(reg.coef_)\n",
    "    y = df[\"Mean\"][df[\"Group\"]==g].median()\n",
    "    errlo = np.percentile(df[\"Mean\"][df[\"Group\"]==g].values,2.5)\n",
    "    errup = np.percentile(df[\"Mean\"][df[\"Group\"]==g].values,97.5)\n",
    "    leg.append(axUp.scatter(x,y,c=params[\"Colors\"][i],marker=\"^\",s=100))\n",
    "    #leg.append(axUp.errorbar(x, y, xerr=[x-(errlo-reg.intercept_)/float(reg.coef_),(errup-reg.intercept_)/float(reg.coef_)-x], fmt=\"^\",ecolor=params[\"Colors\"][i],ms=10,mec=params[\"Colors\"][i]))\n",
    "    i = i+1\n",
    "for axis in ['top','bottom','left','right']:\n",
    "    axUp.spines[axis].set_linewidth(ls)\n",
    "    if axis in ['top','right']:\n",
    "        axUp.spines[axis].set_visible(False)\n",
    "axUp.tick_params(width=ls)\n",
    "handles, labels = axUp.get_legend_handles_labels()\n",
    "print(handles, labels)\n",
    "axUp.legend(leg,['X','TP', 'FY'])\n",
    "axUp.set_title(\"Dilution\", fontsize=11)\n",
    "axUp.set_title(\"a\", loc=\"left\", fontsize=20, fontweight=\"bold\", pad=15)\n",
    "axUp.set_xlabel(\"GFP-Concentration (ng/µl)\", fontsize=11)\n",
    "axUp.set_ylabel(\"Mean Fluorescence (\"+'$10^3$'+\")\", fontsize=11)\n",
    "\n",
    "axLo = subfigs[1].subplots(1, 1, sharey=True)\n",
    "X2 = []\n",
    "X3 = []\n",
    "Y2 = []\n",
    "maxvs = []\n",
    "for g in ['X','TP', 'FY']:\n",
    "    if g == \"X\":\n",
    "        X3.append(\"Ctrl\")\n",
    "    else:\n",
    "        X3.append(g)\n",
    "    X2.append(g)\n",
    "    Y2.append(df[\"Mean\"][df[\"Group\"]==g])\n",
    "    maxvs.append(df[\"Mean\"][df[\"Group\"]==g].quantile(0.75)+(1.5*(df[\"Mean\"][df[\"Group\"]==g].quantile(0.75)-df[\"Mean\"][df[\"Group\"]==g].quantile(0.25))))\n",
    "    #CI1.append(1.96*(df[\"Mean\"][df[\"Group\"]==g].std())/math.sqrt(len(df[df[\"Group\"]==g])))\n",
    "bplot = axLo.boxplot(Y2,widths=0.8,labels=X3, showfliers=False,patch_artist=True)\n",
    "colors = params[\"Colors\"]\n",
    "for median in bplot['medians']:\n",
    "    median.set_color('black')\n",
    "for patch, color in zip(bplot['boxes'], colors):\n",
    "    print(patch)\n",
    "    patch.set_facecolor(color)\n",
    "for axis in ['top','bottom','left','right']:\n",
    "    axLo.spines[axis].set_linewidth(ls)\n",
    "    if axis in ['top','right']:\n",
    "        axLo.spines[axis].set_visible(False)\n",
    "axLo.tick_params(width=ls)\n",
    "maxv2 = np.max(np.array(maxvs))\n",
    "hightind = 0\n",
    "bottom2, top2 = axLo.get_ylim()\n",
    "y_range = top2 - bottom2\n",
    "treatmenti = 0\n",
    "args = [df[\"Mean\"][df[\"Group\"]==g].values for g in df[\"Group\"].unique()]\n",
    "m_comp = tukey_hsd(*args)\n",
    "for pairs in sigp:\n",
    "    c1 = pairs[0]\n",
    "    ctrli = X2.index(c1)\n",
    "    c2 = pairs[1]\n",
    "    treatmenti = X2.index(c2)\n",
    "    c1dic = {c1:ctrli+1}\n",
    "    c2dic = {c2:treatmenti+1}\n",
    "    diff = ((treatmenti-ctrli)/2)+1\n",
    "    pp.drawsigbars(df, axLo, \"Group\", \"Mean\", c1dic, c2dic, maxv2+hightind, y_range, diff)\n",
    "    hightind = hightind + y_range*0.2\n",
    "axLo.set_title(\"Quenching (10 ng/µl)\", fontsize=11)\n",
    "axLo.set_title(\"b\", loc=\"left\", fontsize=20, fontweight=\"bold\", pad=15)\n",
    "axLo.set_xlabel(\"Treatment\", fontsize=11)\n",
    "axLo.set_ylabel(\"Mean Fluorescence (\"+'$10^3$'+\")\", fontsize=11)\n",
    "\n",
    "\n",
    "plt.show()"
   ]
  },
  {
   "cell_type": "code",
   "execution_count": 15,
   "id": "9125c94d",
   "metadata": {},
   "outputs": [
    {
     "data": {
      "text/plain": [
       "Group\n",
       "FY    29.304756\n",
       "TP    30.841867\n",
       "X     27.740533\n",
       "Name: Mean, dtype: float64"
      ]
     },
     "execution_count": 15,
     "metadata": {},
     "output_type": "execute_result"
    }
   ],
   "source": [
    "df.groupby([\"Group\"])[\"Mean\"].mean()"
   ]
  },
  {
   "cell_type": "code",
   "execution_count": 11,
   "id": "4e5208ef",
   "metadata": {},
   "outputs": [
    {
     "data": {
      "text/plain": [
       "Group\n",
       "FY    22.13528\n",
       "TP    23.52340\n",
       "X     17.97960\n",
       "Name: Mean, dtype: float64"
      ]
     },
     "execution_count": 11,
     "metadata": {},
     "output_type": "execute_result"
    }
   ],
   "source": [
    "df.groupby([\"Group\"])[\"Mean\"].quantile(0.025)"
   ]
  },
  {
   "cell_type": "code",
   "execution_count": 12,
   "id": "2bbade9e",
   "metadata": {},
   "outputs": [
    {
     "data": {
      "text/plain": [
       "Group\n",
       "FY    40.33788\n",
       "TP    44.61248\n",
       "X     37.18828\n",
       "Name: Mean, dtype: float64"
      ]
     },
     "execution_count": 12,
     "metadata": {},
     "output_type": "execute_result"
    }
   ],
   "source": [
    "df.groupby([\"Group\"])[\"Mean\"].quantile(0.975)"
   ]
  },
  {
   "cell_type": "code",
   "execution_count": null,
   "id": "7c933678",
   "metadata": {},
   "outputs": [],
   "source": []
  }
 ],
 "metadata": {
  "kernelspec": {
   "display_name": "Python 3 (ipykernel)",
   "language": "python",
   "name": "python3"
  },
  "language_info": {
   "codemirror_mode": {
    "name": "ipython",
    "version": 3
   },
   "file_extension": ".py",
   "mimetype": "text/x-python",
   "name": "python",
   "nbconvert_exporter": "python",
   "pygments_lexer": "ipython3",
   "version": "3.9.18"
  }
 },
 "nbformat": 4,
 "nbformat_minor": 5
}
