{
 "cells": [
  {
   "cell_type": "code",
   "execution_count": 1,
   "id": "aac3f2d4",
   "metadata": {},
   "outputs": [],
   "source": [
    "#import image_analysis as ia\n",
    "import NearestNeighbor as NN\n",
    "import pandas as pd\n",
    "import numpy as np\n",
    "import matplotlib.pyplot as plt\n",
    "import os"
   ]
  },
  {
   "cell_type": "markdown",
   "id": "d2e5faff",
   "metadata": {},
   "source": [
    "# 1. Image Analysis\n",
    "Image analysis involves 2 main steps: Segmentation and Object detection\n",
    "## 1.1 Segmentation\n",
    "First the images are segemented into individual cells and their boundaries are stored as ImageJ ROIs in zip files. These can be opened later in FIJI/ImageJ vor viewing and analysis.\n",
    "Segmentation involves the following steps:\n",
    "1. Thresholding: Images are thresholded by the multiotsu thresholding technique, which produces 2 numbers. The lower number is chosen as a threshold.\n",
    "2. Cell separation: During thresholding cells may be too close together which would merge them together. To solve this problem Cell centers are identified and starting from the cell centers watershed segmentation is performed. This seperates the thrsholded area into individual labeled regions that represent the cells. Cell centers are identified via either of the following methods:\n",
    "    - By nuclei: If nuclei were imaged by a DAPI stain, they are identified as cell centers.\n",
    "    - By distance transform: If no nuclei were captured a distance transform is performed. Resulting peaks are taken as cell centers.\n",
    "3. Cell identification and measurement: From each cell measurements are taken involving the area, mean and median intensities. Furthermore the boundaries are converted to ROIs and stored in a corresponding zip file."
   ]
  },
  {
   "cell_type": "code",
   "execution_count": 2,
   "id": "fa4d04d8",
   "metadata": {},
   "outputs": [],
   "source": [
    "data = \"E:\\Raphael\\Data\"\n",
    "exID = 3\n",
    "CD={0:\"aSyn-GFP\",1:\"aSyn-AB\",2:\"LAMP1/LC3\"}\n",
    "#seg = ia.segmentation(data=data,exID=exID,p_max=500,t_mod=1,ch_dic=CD)\n",
    "#seg.plot_segmentation(IDs=[7,32,77])\n",
    "    "
   ]
  },
  {
   "cell_type": "code",
   "execution_count": 3,
   "id": "c794bf03",
   "metadata": {},
   "outputs": [],
   "source": [
    "#seg.segment_all()"
   ]
  },
  {
   "cell_type": "code",
   "execution_count": 4,
   "id": "e0f05477",
   "metadata": {},
   "outputs": [],
   "source": [
    "#detect=ia.detection(data=data,exID=exID,ch_dic=CD)\n",
    "#detect.plot_detection(channel=\"aSyn-GFP\")"
   ]
  },
  {
   "cell_type": "code",
   "execution_count": 5,
   "id": "6ec91230",
   "metadata": {},
   "outputs": [],
   "source": [
    "#detect.detect_all()"
   ]
  },
  {
   "cell_type": "code",
   "execution_count": 6,
   "id": "7e046db9",
   "metadata": {},
   "outputs": [],
   "source": [
    "nn = NN.NN(data=data,YChannel=\"aSyn-AB\")"
   ]
  },
  {
   "cell_type": "code",
   "execution_count": 7,
   "id": "26c1f485",
   "metadata": {},
   "outputs": [],
   "source": [
    "#dic = nn.calculate()"
   ]
  },
  {
   "cell_type": "code",
   "execution_count": 8,
   "id": "a14e2c7a",
   "metadata": {},
   "outputs": [],
   "source": [
    "#nn.load()"
   ]
  },
  {
   "cell_type": "code",
   "execution_count": 9,
   "id": "ab610d4c",
   "metadata": {},
   "outputs": [
    {
     "name": "stdout",
     "output_type": "stream",
     "text": [
      "Opened from: E:\\Raphael\\Data\\3. Plasmid moves cargo into Lysosomes\\NN.p\n"
     ]
    }
   ],
   "source": [
    "#nn.save()\n",
    "nn.load()"
   ]
  },
  {
   "cell_type": "code",
   "execution_count": 10,
   "id": "d8720ab9",
   "metadata": {},
   "outputs": [
    {
     "name": "stderr",
     "output_type": "stream",
     "text": [
      "E:\\Raphael\\LabBook\\NearestNeighbor.py:180: FutureWarning: Indexing with multiple keys (implicitly converted to a tuple of keys) will be deprecated, use a list instead.\n",
      "  df2 = self.df.groupby([\"Group2\",\"Group1\"])[\"N_D\",\"N_X\",\"N_Q\",\"D\",\"Q\"].sum().reset_index()\n"
     ]
    },
    {
     "data": {
      "text/html": [
       "<div>\n",
       "<style scoped>\n",
       "    .dataframe tbody tr th:only-of-type {\n",
       "        vertical-align: middle;\n",
       "    }\n",
       "\n",
       "    .dataframe tbody tr th {\n",
       "        vertical-align: top;\n",
       "    }\n",
       "\n",
       "    .dataframe thead th {\n",
       "        text-align: right;\n",
       "    }\n",
       "</style>\n",
       "<table border=\"1\" class=\"dataframe\">\n",
       "  <thead>\n",
       "    <tr style=\"text-align: right;\">\n",
       "      <th></th>\n",
       "      <th>Group2</th>\n",
       "      <th>Group1</th>\n",
       "      <th>N_D</th>\n",
       "      <th>N_X</th>\n",
       "      <th>N_Q</th>\n",
       "      <th>D</th>\n",
       "      <th>Q</th>\n",
       "      <th>Ct</th>\n",
       "      <th>Co</th>\n",
       "      <th>e</th>\n",
       "      <th>crit_e</th>\n",
       "      <th>CtX</th>\n",
       "      <th>CoX</th>\n",
       "      <th>p</th>\n",
       "      <th>ci_lo</th>\n",
       "      <th>ci_hi</th>\n",
       "    </tr>\n",
       "  </thead>\n",
       "  <tbody>\n",
       "    <tr>\n",
       "      <th>0</th>\n",
       "      <td>LAMP1</td>\n",
       "      <td>FY</td>\n",
       "      <td>404291</td>\n",
       "      <td>103183</td>\n",
       "      <td>12872680</td>\n",
       "      <td>108940</td>\n",
       "      <td>1660156</td>\n",
       "      <td>0.269459</td>\n",
       "      <td>0.128967</td>\n",
       "      <td>0.912753</td>\n",
       "      <td>0.918575</td>\n",
       "      <td>0.442796</td>\n",
       "      <td>0.317412</td>\n",
       "      <td>0.000000</td>\n",
       "      <td>0.905793</td>\n",
       "      <td>0.919690</td>\n",
       "    </tr>\n",
       "    <tr>\n",
       "      <th>1</th>\n",
       "      <td>LAMP1</td>\n",
       "      <td>TP</td>\n",
       "      <td>324743</td>\n",
       "      <td>90135</td>\n",
       "      <td>12867950</td>\n",
       "      <td>97535</td>\n",
       "      <td>1789754</td>\n",
       "      <td>0.300345</td>\n",
       "      <td>0.139086</td>\n",
       "      <td>0.977246</td>\n",
       "      <td>0.983539</td>\n",
       "      <td>0.442796</td>\n",
       "      <td>0.317412</td>\n",
       "      <td>0.000000</td>\n",
       "      <td>0.969732</td>\n",
       "      <td>0.984738</td>\n",
       "    </tr>\n",
       "    <tr>\n",
       "      <th>2</th>\n",
       "      <td>LAMP1</td>\n",
       "      <td>X</td>\n",
       "      <td>226034</td>\n",
       "      <td>201474</td>\n",
       "      <td>8769250</td>\n",
       "      <td>100087</td>\n",
       "      <td>2783467</td>\n",
       "      <td>0.442796</td>\n",
       "      <td>0.317412</td>\n",
       "      <td>0.535869</td>\n",
       "      <td>0.542823</td>\n",
       "      <td>0.442796</td>\n",
       "      <td>0.317412</td>\n",
       "      <td>0.499123</td>\n",
       "      <td>0.527562</td>\n",
       "      <td>0.544167</td>\n",
       "    </tr>\n",
       "  </tbody>\n",
       "</table>\n",
       "</div>"
      ],
      "text/plain": [
       "  Group2 Group1     N_D     N_X       N_Q       D        Q        Ct  \\\n",
       "0  LAMP1     FY  404291  103183  12872680  108940  1660156  0.269459   \n",
       "1  LAMP1     TP  324743   90135  12867950   97535  1789754  0.300345   \n",
       "2  LAMP1      X  226034  201474   8769250  100087  2783467  0.442796   \n",
       "\n",
       "         Co         e    crit_e       CtX       CoX         p     ci_lo  \\\n",
       "0  0.128967  0.912753  0.918575  0.442796  0.317412  0.000000  0.905793   \n",
       "1  0.139086  0.977246  0.983539  0.442796  0.317412  0.000000  0.969732   \n",
       "2  0.317412  0.535869  0.542823  0.442796  0.317412  0.499123  0.527562   \n",
       "\n",
       "      ci_hi  \n",
       "0  0.919690  \n",
       "1  0.984738  \n",
       "2  0.544167  "
      ]
     },
     "execution_count": 10,
     "metadata": {},
     "output_type": "execute_result"
    }
   ],
   "source": [
    "df2 = nn.get_pval(t=0.5)\n",
    "df2[df2[\"Group2\"]==\"LAMP1\"].head()"
   ]
  },
  {
   "cell_type": "code",
   "execution_count": 92,
   "id": "1a76cc3b",
   "metadata": {},
   "outputs": [],
   "source": [
    "df = nn.get_pval_indiv(t=0.3)"
   ]
  },
  {
   "cell_type": "code",
   "execution_count": 93,
   "id": "9578c49e",
   "metadata": {},
   "outputs": [
    {
     "data": {
      "text/plain": [
       "Group1\n",
       "FY    1.044000\n",
       "TP    0.291845\n",
       "X     0.572727\n",
       "Name: e, dtype: float64"
      ]
     },
     "execution_count": 93,
     "metadata": {},
     "output_type": "execute_result"
    }
   ],
   "source": [
    "df = df[df[\"Group2\"]==\"LAMP1\"]\n",
    "df.groupby([\"Group1\"])[\"e\"].mean()"
   ]
  },
  {
   "cell_type": "code",
   "execution_count": 94,
   "id": "58e01993",
   "metadata": {},
   "outputs": [
    {
     "data": {
      "text/plain": [
       "Group1\n",
       "FY    1.367440\n",
       "TP    1.256305\n",
       "X     0.797611\n",
       "Name: e, dtype: float64"
      ]
     },
     "execution_count": 94,
     "metadata": {},
     "output_type": "execute_result"
    }
   ],
   "source": [
    "group = df.groupby([\"Group1\"])[\"e\"]\n",
    "group.mean()+1.96*group.std()/np.sqrt(group.count())"
   ]
  },
  {
   "cell_type": "code",
   "execution_count": 95,
   "id": "0f5b9d07",
   "metadata": {},
   "outputs": [
    {
     "data": {
      "text/plain": [
       "Group1\n",
       "FY    0.720560\n",
       "TP   -0.672616\n",
       "X     0.347844\n",
       "Name: e, dtype: float64"
      ]
     },
     "execution_count": 95,
     "metadata": {},
     "output_type": "execute_result"
    }
   ],
   "source": [
    "group.mean()-1.96*group.std()/np.sqrt(group.count())"
   ]
  },
  {
   "cell_type": "code",
   "execution_count": 96,
   "id": "16ab386a",
   "metadata": {},
   "outputs": [
    {
     "data": {
      "text/plain": [
       "Group1\n",
       "FY    0.931034\n",
       "TP    0.655172\n",
       "X     0.777778\n",
       "Name: p, dtype: float64"
      ]
     },
     "execution_count": 96,
     "metadata": {},
     "output_type": "execute_result"
    }
   ],
   "source": [
    "df[df[\"p\"]<0.05].groupby([\"Group1\"])[\"p\"].count()/df.groupby([\"Group1\"])[\"p\"].count()"
   ]
  },
  {
   "cell_type": "code",
   "execution_count": 97,
   "id": "a88906e4",
   "metadata": {},
   "outputs": [
    {
     "name": "stdout",
     "output_type": "stream",
     "text": [
      "1.3645575118378852 0.26193239501062154\n"
     ]
    }
   ],
   "source": [
    "import scipy.stats as stats\n",
    "# stats f_oneway functions takes the groups as input and returns ANOVA F and p value\n",
    "fvalue, pvalue = stats.f_oneway(df[df[\"Group1\"]==\"X\"]['e'], df[df[\"Group1\"]==\"TP\"]['e'], df[df[\"Group1\"]==\"FY\"]['e'])\n",
    "print(fvalue, pvalue)"
   ]
  },
  {
   "cell_type": "code",
   "execution_count": 98,
   "id": "617dcc36",
   "metadata": {},
   "outputs": [
    {
     "data": {
      "text/html": [
       "<table class=\"simpletable\">\n",
       "<caption>Multiple Comparison of Means - Tukey HSD, FWER=0.05</caption>\n",
       "<tr>\n",
       "  <th>group1</th> <th>group2</th> <th>meandiff</th>  <th>p-adj</th>  <th>lower</th>   <th>upper</th> <th>reject</th>\n",
       "</tr>\n",
       "<tr>\n",
       "    <td>FY</td>     <td>TP</td>    <td>-0.7522</td> <td>0.2357</td> <td>-1.8497</td> <td>0.3454</td>  <td>False</td>\n",
       "</tr>\n",
       "<tr>\n",
       "    <td>FY</td>      <td>X</td>    <td>-0.4713</td> <td>0.6426</td> <td>-1.7253</td> <td>0.7827</td>  <td>False</td>\n",
       "</tr>\n",
       "<tr>\n",
       "    <td>TP</td>      <td>X</td>    <td>0.2809</td>   <td>0.854</td> <td>-0.9731</td> <td>1.5349</td>  <td>False</td>\n",
       "</tr>\n",
       "</table>"
      ],
      "text/plain": [
       "<class 'statsmodels.iolib.table.SimpleTable'>"
      ]
     },
     "execution_count": 98,
     "metadata": {},
     "output_type": "execute_result"
    }
   ],
   "source": [
    "from statsmodels.stats.multicomp import pairwise_tukeyhsd\n",
    "\n",
    "m_comp = pairwise_tukeyhsd(endog=df['e'], groups=df['Group1'], alpha=0.05)\n",
    "m_comp.summary()"
   ]
  },
  {
   "cell_type": "code",
   "execution_count": 56,
   "id": "6d4d093d",
   "metadata": {},
   "outputs": [
    {
     "ename": "NameError",
     "evalue": "name 'dic' is not defined",
     "output_type": "error",
     "traceback": [
      "\u001b[1;31m---------------------------------------------------------------------------\u001b[0m",
      "\u001b[1;31mNameError\u001b[0m                                 Traceback (most recent call last)",
      "\u001b[1;32m~\\AppData\\Local\\Temp\\ipykernel_42568\\3290349240.py\u001b[0m in \u001b[0;36m<cell line: 1>\u001b[1;34m()\u001b[0m\n\u001b[1;32m----> 1\u001b[1;33m \u001b[0mbins\u001b[0m \u001b[1;33m=\u001b[0m \u001b[0mnp\u001b[0m\u001b[1;33m.\u001b[0m\u001b[0marange\u001b[0m\u001b[1;33m(\u001b[0m\u001b[1;36m0\u001b[0m\u001b[1;33m,\u001b[0m \u001b[0mnp\u001b[0m\u001b[1;33m.\u001b[0m\u001b[0mmax\u001b[0m\u001b[1;33m(\u001b[0m\u001b[0mdic\u001b[0m\u001b[1;33m[\u001b[0m\u001b[1;36m2\u001b[0m\u001b[1;33m]\u001b[0m\u001b[1;33m[\u001b[0m\u001b[1;34m\"Q\"\u001b[0m\u001b[1;33m]\u001b[0m\u001b[1;33m)\u001b[0m\u001b[1;33m,\u001b[0m\u001b[1;36m0.1\u001b[0m\u001b[1;33m)\u001b[0m\u001b[1;33m\u001b[0m\u001b[1;33m\u001b[0m\u001b[0m\n\u001b[0m\u001b[0;32m      2\u001b[0m \u001b[0mDhist\u001b[0m \u001b[1;33m=\u001b[0m \u001b[0mnp\u001b[0m\u001b[1;33m.\u001b[0m\u001b[0mhistogram\u001b[0m\u001b[1;33m(\u001b[0m\u001b[0mdic\u001b[0m\u001b[1;33m[\u001b[0m\u001b[1;36m2\u001b[0m\u001b[1;33m]\u001b[0m\u001b[1;33m[\u001b[0m\u001b[1;34m\"D\"\u001b[0m\u001b[1;33m]\u001b[0m\u001b[1;33m,\u001b[0m\u001b[0mbins\u001b[0m\u001b[1;33m=\u001b[0m\u001b[0mbins\u001b[0m\u001b[1;33m,\u001b[0m\u001b[0mdensity\u001b[0m\u001b[1;33m=\u001b[0m\u001b[1;32mTrue\u001b[0m\u001b[1;33m)\u001b[0m\u001b[1;33m[\u001b[0m\u001b[1;36m0\u001b[0m\u001b[1;33m]\u001b[0m\u001b[1;33m\u001b[0m\u001b[1;33m\u001b[0m\u001b[0m\n\u001b[0;32m      3\u001b[0m \u001b[0mQhist\u001b[0m \u001b[1;33m=\u001b[0m \u001b[0mnp\u001b[0m\u001b[1;33m.\u001b[0m\u001b[0mhistogram\u001b[0m\u001b[1;33m(\u001b[0m\u001b[0mdic\u001b[0m\u001b[1;33m[\u001b[0m\u001b[1;36m2\u001b[0m\u001b[1;33m]\u001b[0m\u001b[1;33m[\u001b[0m\u001b[1;34m\"Q\"\u001b[0m\u001b[1;33m]\u001b[0m\u001b[1;33m,\u001b[0m\u001b[0mbins\u001b[0m\u001b[1;33m=\u001b[0m\u001b[0mbins\u001b[0m\u001b[1;33m,\u001b[0m\u001b[0mdensity\u001b[0m\u001b[1;33m=\u001b[0m\u001b[1;32mTrue\u001b[0m\u001b[1;33m)\u001b[0m\u001b[1;33m[\u001b[0m\u001b[1;36m0\u001b[0m\u001b[1;33m]\u001b[0m\u001b[1;33m\u001b[0m\u001b[1;33m\u001b[0m\u001b[0m\n\u001b[0;32m      4\u001b[0m \u001b[0mPQhist\u001b[0m \u001b[1;33m=\u001b[0m \u001b[0mQhist\u001b[0m\u001b[1;33m*\u001b[0m\u001b[0mnp\u001b[0m\u001b[1;33m.\u001b[0m\u001b[0mexp\u001b[0m\u001b[1;33m(\u001b[0m\u001b[1;33m-\u001b[0m\u001b[0mDhist\u001b[0m\u001b[1;33m)\u001b[0m\u001b[1;33m\u001b[0m\u001b[1;33m\u001b[0m\u001b[0m\n\u001b[0;32m      5\u001b[0m \u001b[0mPQhist\u001b[0m \u001b[1;33m=\u001b[0m \u001b[0mPQhist\u001b[0m\u001b[1;33m/\u001b[0m\u001b[0mnp\u001b[0m\u001b[1;33m.\u001b[0m\u001b[0msum\u001b[0m\u001b[1;33m(\u001b[0m\u001b[0mPQhist\u001b[0m\u001b[1;33m)\u001b[0m\u001b[1;33m\u001b[0m\u001b[1;33m\u001b[0m\u001b[0m\n",
      "\u001b[1;31mNameError\u001b[0m: name 'dic' is not defined"
     ]
    }
   ],
   "source": [
    "bins = np.arange(0, np.max(dic[2][\"Q\"]),0.1)\n",
    "Dhist = np.histogram(dic[2][\"D\"],bins=bins,density=True)[0]\n",
    "Qhist = np.histogram(dic[2][\"Q\"],bins=bins,density=True)[0]\n",
    "PQhist = Qhist*np.exp(-Dhist)\n",
    "PQhist = PQhist/np.sum(PQhist)\n"
   ]
  },
  {
   "cell_type": "code",
   "execution_count": null,
   "id": "27b8dff9",
   "metadata": {},
   "outputs": [],
   "source": []
  },
  {
   "cell_type": "code",
   "execution_count": null,
   "id": "9ab15d93",
   "metadata": {},
   "outputs": [],
   "source": []
  },
  {
   "cell_type": "code",
   "execution_count": null,
   "id": "0db62c15",
   "metadata": {},
   "outputs": [],
   "source": [
    "import seaborn as sns"
   ]
  },
  {
   "cell_type": "code",
   "execution_count": null,
   "id": "def31e4e",
   "metadata": {},
   "outputs": [],
   "source": [
    "sns.boxplot(data=df[df[\"Group2\"]==\"LC3\"],x=\"Group1\",y=\"N_X\")"
   ]
  },
  {
   "cell_type": "code",
   "execution_count": null,
   "id": "00145aa6",
   "metadata": {},
   "outputs": [],
   "source": [
    "sns.boxplot(data=df[df[\"Group2\"]==\"LAMP1\"],x=\"Group1\",y=\"intensity_mean_GFP\")"
   ]
  },
  {
   "cell_type": "code",
   "execution_count": null,
   "id": "27c8e83c",
   "metadata": {},
   "outputs": [],
   "source": [
    "from math import log\n",
    "def C(D,N):\n",
    "    return D/N\n",
    "\n",
    "def e(Ct,Co):\n",
    "    #print(Ct)\n",
    "    Ct = Ct.replace(to_replace = 0, value = 0.00000001)\n",
    "    Co = Co.replace(to_replace = 0, value = 0.00000001)\n",
    "    return np.log(Ct/(1-Ct))-np.log(Co/(1-Co))   "
   ]
  },
  {
   "cell_type": "code",
   "execution_count": null,
   "id": "8339fdcc",
   "metadata": {},
   "outputs": [],
   "source": [
    "df2 = df.groupby([\"Group2\",\"Group1\"]).sum()\n",
    "df2 = df2.reset_index()\n",
    "df2.head()"
   ]
  },
  {
   "cell_type": "code",
   "execution_count": null,
   "id": "af7bf15d",
   "metadata": {},
   "outputs": [],
   "source": [
    "df2[\"Ct\"] = C(df2[\"D\"],df2[\"N_D\"])\n",
    "df2[\"Co\"] = C(df2[\"Q\"],df2[\"N_Q\"])\n",
    "df2[\"e\"] = e(df2[\"Ct\"],df2[\"Co\"])\n",
    "df2.head()"
   ]
  },
  {
   "cell_type": "code",
   "execution_count": null,
   "id": "6d4d94d8",
   "metadata": {},
   "outputs": [],
   "source": [
    "from scipy.stats import binom\n",
    "\n",
    "def crit_e(N,Ct,Co):\n",
    "    CC = binom.ppf(0.95, N, Ct)\n",
    "    print(C(CC,N))\n",
    "    return e(C(CC,N),Co)\n",
    "\n",
    "df2[\"crit_e\"] = crit_e(df2[\"N_D\"],df2[\"Ct\"],df2[\"Co\"])\n",
    "df2.head()\n",
    "    "
   ]
  },
  {
   "cell_type": "code",
   "execution_count": null,
   "id": "e871731b",
   "metadata": {},
   "outputs": [],
   "source": [
    "def p_val_step(e,N,CtX,CoX):\n",
    "    E = np.exp(e+np.log(CoX/(1-CoX)))\n",
    "    Ct = E/(1+E)\n",
    "    p = 1-binom.cdf(Ct*N, N, CtX)\n",
    "    return p\n",
    "\n",
    "def confidence(N,Ct,Co):\n",
    "    CI_Ct = binom.interval(0.95,N,Ct)\n",
    "    CI = [e(ci/N,Co) for ci in CI_Ct]\n",
    "    return CI[0],CI[1]\n",
    "\n",
    "Control = \"X\"\n",
    "df2[\"CtX\"] = df2.apply(lambda row: pd.Series([df2[\"Ct\"][df2[\"Group2\"]==row[\"Group2\"]][df2[\"Group1\"]==Control].values[0]]), axis=1)\n",
    "df2[\"CoX\"] = df2.apply(lambda row: pd.Series([df2[\"Co\"][df2[\"Group2\"]==row[\"Group2\"]][df2[\"Group1\"]==Control].values[0]]), axis=1)\n",
    "df2[\"p\"] = p_val_step(df2[\"e\"],df2[\"N_D\"],df2[\"CtX\"],df2[\"CoX\"])\n",
    "df2[\"ci_lo\"],df2[\"ci_hi\"] = confidence(df2[\"N_D\"],df2[\"Ct\"],df2[\"Co\"])\n",
    "df2.head()"
   ]
  },
  {
   "cell_type": "code",
   "execution_count": null,
   "id": "4c3ba4ab",
   "metadata": {},
   "outputs": [],
   "source": [
    "df[\"Ct\"] = C(df[\"D\"],df[\"N_D\"])\n",
    "df[\"Co\"] = C(df[\"Q\"],df[\"N_Q\"])\n",
    "df[\"e\"] = e(df[\"Ct\"],df[\"Co\"])\n",
    "df[\"p\"] = p_val_step(df[\"e\"],df[\"N_D\"],df[\"Co\"],df[\"Co\"])\n",
    "df[\"ci_lo\"],df[\"ci_hi\"] = confidence(df[\"N_D\"],df[\"Ct\"],df[\"Co\"])\n",
    "df.head()"
   ]
  },
  {
   "cell_type": "code",
   "execution_count": null,
   "id": "f559d4c9",
   "metadata": {},
   "outputs": [],
   "source": [
    "df[df[\"p\"]<0.000001].groupby([\"Group2\",\"Group1\"])[\"e\"].count()/df.groupby([\"Group2\",\"Group1\"])[\"e\"].count()"
   ]
  },
  {
   "cell_type": "code",
   "execution_count": null,
   "id": "f4690936",
   "metadata": {},
   "outputs": [],
   "source": [
    "sns.swarmplot(data=df[df[\"Group2\"]==\"LC3\"], x=\"Group1\",y=\"e\")"
   ]
  },
  {
   "cell_type": "code",
   "execution_count": null,
   "id": "234b21e4",
   "metadata": {},
   "outputs": [],
   "source": [
    "df[df[\"e\"]<10].groupby([\"Group2\",\"Group1\"])[\"e\"].count()/df.groupby([\"Group2\",\"Group1\"])[\"e\"].count()"
   ]
  },
  {
   "cell_type": "code",
   "execution_count": null,
   "id": "6d2d3c09",
   "metadata": {},
   "outputs": [],
   "source": [
    "df[df[\"e\"]>10].groupby([\"Group2\",\"Group1\"])[\"e\"].count()/df.groupby([\"Group2\",\"Group1\"])[\"e\"].count()"
   ]
  },
  {
   "cell_type": "code",
   "execution_count": null,
   "id": "fddbb6eb",
   "metadata": {},
   "outputs": [],
   "source": [
    "df[df[\"e\"]>10].groupby([\"Group2\",\"Group1\"])[\"e\"].median()"
   ]
  },
  {
   "cell_type": "code",
   "execution_count": null,
   "id": "7684dcfe",
   "metadata": {},
   "outputs": [],
   "source": [
    "from sklearn.mixture import GaussianMixture\n",
    "GM = GaussianMixture(n_components=2).fit(df[\"e\"].values.reshape(-1,1))\n",
    "df[\"e_g\"] = GM.predict(df[\"e\"].values.reshape(-1,1))\n",
    "df.groupby([\"Group2\",\"Group1\",\"e_g\"])[\"e\"].mean()"
   ]
  },
  {
   "cell_type": "code",
   "execution_count": null,
   "id": "7b76e2c7",
   "metadata": {},
   "outputs": [],
   "source": [
    "df.groupby([\"Group2\",\"Group1\",\"e_g\"])[\"e\"].count()/df.groupby([\"Group2\",\"Group1\"])[\"e\"].count()"
   ]
  },
  {
   "cell_type": "code",
   "execution_count": null,
   "id": "2cc847ba",
   "metadata": {},
   "outputs": [],
   "source": [
    "sns.boxplot(data=df[df[\"Group2\"]==\"LAMP1\"], x=\"Group1\",y=\"e\")"
   ]
  },
  {
   "cell_type": "code",
   "execution_count": null,
   "id": "34aa1750",
   "metadata": {},
   "outputs": [],
   "source": []
  },
  {
   "cell_type": "code",
   "execution_count": null,
   "id": "dd8ca507",
   "metadata": {},
   "outputs": [],
   "source": []
  }
 ],
 "metadata": {
  "kernelspec": {
   "display_name": "Python 3 (ipykernel)",
   "language": "python",
   "name": "python3"
  },
  "language_info": {
   "codemirror_mode": {
    "name": "ipython",
    "version": 3
   },
   "file_extension": ".py",
   "mimetype": "text/x-python",
   "name": "python",
   "nbconvert_exporter": "python",
   "pygments_lexer": "ipython3",
   "version": "3.9.13"
  }
 },
 "nbformat": 4,
 "nbformat_minor": 5
}
