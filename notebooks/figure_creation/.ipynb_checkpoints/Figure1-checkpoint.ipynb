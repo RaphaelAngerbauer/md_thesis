{
 "cells": [
  {
   "cell_type": "code",
   "execution_count": 1,
   "metadata": {},
   "outputs": [],
   "source": [
    "import numpy as np\n",
    "import matplotlib.pyplot as plt\n",
    "import matplotlib as mpl\n",
    "import pandas as pd\n",
    "%matplotlib inline\n",
    "\n",
    "mpl.rcParams[\"pdf.fonttype\"] = 42\n",
    "mpl.rcParams[\"font.size\"] = 11\n",
    "\n",
    "from functools import partial, reduce\n",
    "from itertools import product\n",
    "\n",
    "import seaborn as sns\n",
    "\n",
    "\n",
    "from analyze_data import result, get_summary\n",
    "\n",
    "from create_figures import add_p_bars, boxplot, add_multilevel_xticks, lineplot\n"
   ]
  },
  {
   "cell_type": "markdown",
   "metadata": {},
   "source": [
    "# Figure 1\n",
    "## Plan\n",
    "1. Schematic\n",
    "2. GFP Fluorometry + Densitometry\n",
    "3. GFP WB\n",
    "\n",
    "## GFP Fluorormetry\n"
   ]
  },
  {
   "cell_type": "code",
   "execution_count": 2,
   "metadata": {},
   "outputs": [],
   "source": [
    "gfp_f = result().read(r'E:\\diploma_thesis\\Data\\1. Plasmid can degrade GFP\\Flourometry\\Results.csv')"
   ]
  },
  {
   "cell_type": "code",
   "execution_count": 3,
   "metadata": {},
   "outputs": [
    {
     "data": {
      "text/html": [
       "<div>\n",
       "<style scoped>\n",
       "    .dataframe tbody tr th:only-of-type {\n",
       "        vertical-align: middle;\n",
       "    }\n",
       "\n",
       "    .dataframe tbody tr th {\n",
       "        vertical-align: top;\n",
       "    }\n",
       "\n",
       "    .dataframe thead th {\n",
       "        text-align: right;\n",
       "    }\n",
       "</style>\n",
       "<table border=\"1\" class=\"dataframe\">\n",
       "  <thead>\n",
       "    <tr style=\"text-align: right;\">\n",
       "      <th></th>\n",
       "      <th>mean</th>\n",
       "      <th>sd</th>\n",
       "      <th>ci_lo</th>\n",
       "      <th>ci_hi</th>\n",
       "      <th>box_max</th>\n",
       "    </tr>\n",
       "    <tr>\n",
       "      <th>Group1</th>\n",
       "      <th></th>\n",
       "      <th></th>\n",
       "      <th></th>\n",
       "      <th></th>\n",
       "      <th></th>\n",
       "    </tr>\n",
       "  </thead>\n",
       "  <tbody>\n",
       "    <tr>\n",
       "      <th>X</th>\n",
       "      <td>1.000000</td>\n",
       "      <td>0.266069</td>\n",
       "      <td>0.877256</td>\n",
       "      <td>1.117915</td>\n",
       "      <td>1.444029</td>\n",
       "    </tr>\n",
       "    <tr>\n",
       "      <th>TP</th>\n",
       "      <td>0.543881</td>\n",
       "      <td>0.160083</td>\n",
       "      <td>0.471228</td>\n",
       "      <td>0.613265</td>\n",
       "      <td>0.785708</td>\n",
       "    </tr>\n",
       "    <tr>\n",
       "      <th>FY</th>\n",
       "      <td>0.751310</td>\n",
       "      <td>0.297984</td>\n",
       "      <td>0.636192</td>\n",
       "      <td>0.870026</td>\n",
       "      <td>1.371475</td>\n",
       "    </tr>\n",
       "  </tbody>\n",
       "</table>\n",
       "</div>"
      ],
      "text/plain": [
       "            mean        sd     ci_lo     ci_hi   box_max\n",
       "Group1                                                  \n",
       "X       1.000000  0.266069  0.877256  1.117915  1.444029\n",
       "TP      0.543881  0.160083  0.471228  0.613265  0.785708\n",
       "FY      0.751310  0.297984  0.636192  0.870026  1.371475"
      ]
     },
     "execution_count": 3,
     "metadata": {},
     "output_type": "execute_result"
    }
   ],
   "source": [
    "gfp_f.summarize(values = \"Mean_norm\").head()"
   ]
  },
  {
   "cell_type": "code",
   "execution_count": 4,
   "metadata": {},
   "outputs": [
    {
     "data": {
      "text/html": [
       "<div>\n",
       "<style scoped>\n",
       "    .dataframe tbody tr th:only-of-type {\n",
       "        vertical-align: middle;\n",
       "    }\n",
       "\n",
       "    .dataframe tbody tr th {\n",
       "        vertical-align: top;\n",
       "    }\n",
       "\n",
       "    .dataframe thead th {\n",
       "        text-align: right;\n",
       "    }\n",
       "</style>\n",
       "<table border=\"1\" class=\"dataframe\">\n",
       "  <thead>\n",
       "    <tr style=\"text-align: right;\">\n",
       "      <th></th>\n",
       "      <th>Group1</th>\n",
       "      <th>value</th>\n",
       "      <th>star</th>\n",
       "    </tr>\n",
       "    <tr>\n",
       "      <th>Group1</th>\n",
       "      <th></th>\n",
       "      <th></th>\n",
       "      <th></th>\n",
       "    </tr>\n",
       "  </thead>\n",
       "  <tbody>\n",
       "    <tr>\n",
       "      <th>X</th>\n",
       "      <td>TP</td>\n",
       "      <td>0.000</td>\n",
       "      <td>****</td>\n",
       "    </tr>\n",
       "    <tr>\n",
       "      <th>X</th>\n",
       "      <td>FY</td>\n",
       "      <td>0.006</td>\n",
       "      <td>**</td>\n",
       "    </tr>\n",
       "  </tbody>\n",
       "</table>\n",
       "</div>"
      ],
      "text/plain": [
       "       Group1  value  star\n",
       "Group1                    \n",
       "X          TP  0.000  ****\n",
       "X          FY  0.006    **"
      ]
     },
     "execution_count": 4,
     "metadata": {},
     "output_type": "execute_result"
    }
   ],
   "source": [
    "gfp_f.create_p_table().round(decimals=3).head()"
   ]
  },
  {
   "cell_type": "code",
   "execution_count": 5,
   "metadata": {},
   "outputs": [
    {
     "data": {
      "text/plain": [
       "(0.0, 180.0)"
      ]
     },
     "execution_count": 5,
     "metadata": {},
     "output_type": "execute_result"
    },
    {
     "data": {
      "image/png": "[encoded data removed]",
      "text/plain": [
       "<Figure size 354x354 with 1 Axes>"
      ]
     },
     "metadata": {},
     "output_type": "display_data"
    }
   ],
   "source": [
    "from matplotlib.ticker import AutoMinorLocator\n",
    "\n",
    "def prettify_boxplot(ax, box, palette = [\"#003f5c\",\n",
    "                     \"#ffa600\",\n",
    "                     \"#bc5090\"]):\n",
    "\n",
    "    for i, b in enumerate(box['boxes']):\n",
    "        b.set_facecolor(palette[i%len(palette)])\n",
    "        b.set_alpha(0.8)\n",
    "        b.set_linewidth(1.5)\n",
    "    for m in box['medians']:\n",
    "      m.set(\n",
    "        color = \"black\",\n",
    "        linewidth = 1.5\n",
    "      )\n",
    "    ax.tick_params(bottom = False)\n",
    "    ax.tick_params(which = \"minor\", left = False)\n",
    "    return ax\n",
    "\n",
    "def prettify(ax, *args,\n",
    "             title = None,\n",
    "             x = (\"x-axis\", \"\"),\n",
    "             y = (\"y-axis\", \"\"),\n",
    "             **kwargs):\n",
    "    ax.set_title(title)\n",
    "    ax.spines[['right', 'top']].set_visible(False)\n",
    "    ax.set_xlabel(x[0] if len(x[1])==0 else f\"{x[0]} [{x[1]}]\")\n",
    "    ax.set_ylabel(y[0] if len(y[1])==0 else f\"{y[0]} [{y[1]}]\")\n",
    "    ax.yaxis.set_minor_locator(AutoMinorLocator())\n",
    "    ax.tick_params(which = \"both\", \n",
    "                   direction = \"in\")\n",
    "    return ax\n",
    "\n",
    "def boxplot(data, \n",
    "            x=None, \n",
    "            y=None ,\n",
    "            ax=None, \n",
    "            y_scale = 1,\n",
    "            **kwargs):\n",
    "    datalist = [data.loc[data[x]==xs, y].values * y_scale for xs in data.loc[:,x].unique()]\n",
    "    box = ax.boxplot(datalist,\n",
    "                    positions = range(len(datalist)),\n",
    "                    patch_artist=True,\n",
    "                    showfliers=False,\n",
    "                    **kwargs\n",
    "                )\n",
    "    return ax, box\n",
    "\n",
    "fig1,ax = plt.subplots(figsize = (3.54,3.54))\n",
    "ax, box = boxplot(data = gfp_f.df,\n",
    "                 x = \"Group1\",\n",
    "                 y = \"Mean_norm\",\n",
    "                 widths = 0.8,\n",
    "                 y_scale = 100,\n",
    "                 ax=ax)\n",
    "ax = prettify(ax,\n",
    "              title = \"Fluorometry\",\n",
    "              x = (\"Linker-Protein\",\"\"),\n",
    "              y = (\"Rel.Fluorescence\",\"%\"))\n",
    "ax = prettify_boxplot(ax, box)\n",
    "ax.set_xticklabels([\"X\",\"TP\",\"FY\"])\n",
    "ax.set_ylim(0, 180)"
   ]
  },
  {
   "cell_type": "code",
   "execution_count": 6,
   "metadata": {},
   "outputs": [
    {
     "data": {
      "image/png": "[encoded data removed]",
      "text/plain": [
       "<Figure size 354x354 with 1 Axes>"
      ]
     },
     "metadata": {},
     "output_type": "display_data"
    }
   ],
   "source": [
    "from matplotlib.ticker import AutoMinorLocator\n",
    "\n",
    "def prettify(ax, *args,\n",
    "             title = None,\n",
    "             x = (\"x-axis\", \"\"),\n",
    "             y = (\"y-axis\", \"\"),\n",
    "             **kwargs):\n",
    "    ax.set_title(title)\n",
    "    ax.spines[['right', 'top']].set_visible(False)\n",
    "    ax.set_xlabel(x[0] if len(x[1])==0 else f\"{x[0]} [{x[1]}]\")\n",
    "    ax.set_ylabel(y[0] if len(y[1])==0 else f\"{y[0]} [{y[1]}]\")\n",
    "    ax.yaxis.set_minor_locator(AutoMinorLocator())\n",
    "    ax.tick_params(which = \"both\", \n",
    "                   direction = \"in\")\n",
    "    return ax\n",
    "\n",
    "def prettify_pointplot(ax):\n",
    "    ax.tick_params(bottom = True)\n",
    "    return ax\n",
    "\n",
    "def pointplot(data, \n",
    "                x=None, \n",
    "                y=None ,\n",
    "                hue = None,\n",
    "                ax=None, \n",
    "                y_scale = 1,\n",
    "                rm_outliers = False,\n",
    "                thin = 1,\n",
    "                jitter = 0.2,\n",
    "                d_bool = False,\n",
    "                palette = [\"#003f5c\",\n",
    "                     \"#ffa600\",\n",
    "                     \"#bc5090\"],\n",
    "                **kwargs):\n",
    "    if x == hue:\n",
    "        d_bool = False\n",
    "        dodge = False\n",
    "    sns.stripplot(\n",
    "    data=data, x=x, y=y, hue=hue,\n",
    "    dodge=d_bool, alpha=.2, legend=False,\n",
    "    palette=palette,\n",
    "    ax=ax\n",
    "    )\n",
    "    sns.pointplot(\n",
    "        data=data, x=x, y=y, hue=hue,\n",
    "        dodge=dodge, errorbar=\"ci\",\n",
    "        marker=\"o\", markersize=5, markeredgewidth=3,\n",
    "        capsize = 0.1,\n",
    "        ax=ax,\n",
    "        palette=palette\n",
    "    )\n",
    "    return ax\n",
    "\n",
    "fig1,ax = plt.subplots(figsize = (3.54,3.54))\n",
    "ax = pointplot(data = gfp_f.df,\n",
    "                 x = \"Group1\",\n",
    "                 y = \"Mean_norm\",\n",
    "                 hue = \"Group1\",\n",
    "                 y_scale = 1,\n",
    "                 jitter = 0.4,\n",
    "                 ax=ax)\n",
    "ax = prettify(ax,\n",
    "              title = \"Fluorometry\",\n",
    "              x = (\"Linker-Protein\",\"\"),\n",
    "              y = (\"Rel.Fluorescence\",\"%\"))\n",
    "ax = prettify_pointplot(ax)\n",
    "ax.tick_params(axis = \"x\",which = \"both\", \n",
    "                   direction = \"out\")\n",
    "fig1.tight_layout\n",
    "fig1.savefig(\"Fig1_Fluorometry.svg\", format = \"svg\")"
   ]
  },
  {
   "cell_type": "markdown",
   "metadata": {},
   "source": [
    "# Densitometry"
   ]
  },
  {
   "cell_type": "code",
   "execution_count": null,
   "metadata": {},
   "outputs": [],
   "source": []
  },
  {
   "cell_type": "code",
   "execution_count": 7,
   "metadata": {},
   "outputs": [
    {
     "data": {
      "text/html": [
       "<div>\n",
       "<style scoped>\n",
       "    .dataframe tbody tr th:only-of-type {\n",
       "        vertical-align: middle;\n",
       "    }\n",
       "\n",
       "    .dataframe tbody tr th {\n",
       "        vertical-align: top;\n",
       "    }\n",
       "\n",
       "    .dataframe thead th {\n",
       "        text-align: right;\n",
       "    }\n",
       "</style>\n",
       "<table border=\"1\" class=\"dataframe\">\n",
       "  <thead>\n",
       "    <tr style=\"text-align: right;\">\n",
       "      <th></th>\n",
       "      <th>Unnamed: 0</th>\n",
       "      <th>Lane</th>\n",
       "      <th>b-Actin</th>\n",
       "      <th>GFP</th>\n",
       "      <th>Group1</th>\n",
       "      <th>b-Actin_rel</th>\n",
       "      <th>GFP_rel</th>\n",
       "      <th>b-Actin_norm</th>\n",
       "      <th>GFP_norm</th>\n",
       "      <th>Try</th>\n",
       "    </tr>\n",
       "  </thead>\n",
       "  <tbody>\n",
       "    <tr>\n",
       "      <th>0</th>\n",
       "      <td>0</td>\n",
       "      <td>1</td>\n",
       "      <td>17225.338</td>\n",
       "      <td>48210.451</td>\n",
       "      <td>X</td>\n",
       "      <td>17225.338</td>\n",
       "      <td>2.798810</td>\n",
       "      <td>1.000000</td>\n",
       "      <td>1.000000</td>\n",
       "      <td>1</td>\n",
       "    </tr>\n",
       "    <tr>\n",
       "      <th>1</th>\n",
       "      <td>1</td>\n",
       "      <td>2</td>\n",
       "      <td>13609.539</td>\n",
       "      <td>27924.037</td>\n",
       "      <td>TP</td>\n",
       "      <td>13609.539</td>\n",
       "      <td>2.051799</td>\n",
       "      <td>0.790088</td>\n",
       "      <td>0.733097</td>\n",
       "      <td>1</td>\n",
       "    </tr>\n",
       "    <tr>\n",
       "      <th>2</th>\n",
       "      <td>2</td>\n",
       "      <td>3</td>\n",
       "      <td>8424.388</td>\n",
       "      <td>19877.238</td>\n",
       "      <td>FY</td>\n",
       "      <td>8424.388</td>\n",
       "      <td>2.359487</td>\n",
       "      <td>0.489070</td>\n",
       "      <td>0.843032</td>\n",
       "      <td>1</td>\n",
       "    </tr>\n",
       "    <tr>\n",
       "      <th>3</th>\n",
       "      <td>3</td>\n",
       "      <td>1</td>\n",
       "      <td>46751.392</td>\n",
       "      <td>51865.321</td>\n",
       "      <td>X</td>\n",
       "      <td>46751.392</td>\n",
       "      <td>1.109386</td>\n",
       "      <td>1.000000</td>\n",
       "      <td>1.000000</td>\n",
       "      <td>2</td>\n",
       "    </tr>\n",
       "    <tr>\n",
       "      <th>4</th>\n",
       "      <td>4</td>\n",
       "      <td>2</td>\n",
       "      <td>35862.966</td>\n",
       "      <td>32052.359</td>\n",
       "      <td>TP</td>\n",
       "      <td>35862.966</td>\n",
       "      <td>0.893745</td>\n",
       "      <td>0.767099</td>\n",
       "      <td>0.805622</td>\n",
       "      <td>2</td>\n",
       "    </tr>\n",
       "  </tbody>\n",
       "</table>\n",
       "</div>"
      ],
      "text/plain": [
       "   Unnamed: 0  Lane    b-Actin        GFP Group1  b-Actin_rel   GFP_rel  \\\n",
       "0           0     1  17225.338  48210.451      X    17225.338  2.798810   \n",
       "1           1     2  13609.539  27924.037     TP    13609.539  2.051799   \n",
       "2           2     3   8424.388  19877.238     FY     8424.388  2.359487   \n",
       "3           3     1  46751.392  51865.321      X    46751.392  1.109386   \n",
       "4           4     2  35862.966  32052.359     TP    35862.966  0.893745   \n",
       "\n",
       "   b-Actin_norm  GFP_norm  Try  \n",
       "0      1.000000  1.000000    1  \n",
       "1      0.790088  0.733097    1  \n",
       "2      0.489070  0.843032    1  \n",
       "3      1.000000  1.000000    2  \n",
       "4      0.767099  0.805622    2  "
      ]
     },
     "execution_count": 7,
     "metadata": {},
     "output_type": "execute_result"
    }
   ],
   "source": [
    "gfp_d = result().read(r'E:\\diploma_thesis\\Data\\1. Plasmid can degrade GFP\\WB\\Results.csv')\n",
    "gfp_d.df.head()"
   ]
  },
  {
   "cell_type": "code",
   "execution_count": 8,
   "metadata": {},
   "outputs": [
    {
     "data": {
      "text/html": [
       "<div>\n",
       "<style scoped>\n",
       "    .dataframe tbody tr th:only-of-type {\n",
       "        vertical-align: middle;\n",
       "    }\n",
       "\n",
       "    .dataframe tbody tr th {\n",
       "        vertical-align: top;\n",
       "    }\n",
       "\n",
       "    .dataframe thead th {\n",
       "        text-align: right;\n",
       "    }\n",
       "</style>\n",
       "<table border=\"1\" class=\"dataframe\">\n",
       "  <thead>\n",
       "    <tr style=\"text-align: right;\">\n",
       "      <th></th>\n",
       "      <th>mean</th>\n",
       "      <th>sd</th>\n",
       "      <th>ci_lo</th>\n",
       "      <th>ci_hi</th>\n",
       "      <th>box_max</th>\n",
       "    </tr>\n",
       "    <tr>\n",
       "      <th>Group1</th>\n",
       "      <th></th>\n",
       "      <th></th>\n",
       "      <th></th>\n",
       "      <th></th>\n",
       "      <th></th>\n",
       "    </tr>\n",
       "  </thead>\n",
       "  <tbody>\n",
       "    <tr>\n",
       "      <th>X</th>\n",
       "      <td>1.000000</td>\n",
       "      <td>0.000000</td>\n",
       "      <td>1.000000</td>\n",
       "      <td>1.000000</td>\n",
       "      <td>--</td>\n",
       "    </tr>\n",
       "    <tr>\n",
       "      <th>TP</th>\n",
       "      <td>0.769359</td>\n",
       "      <td>0.036263</td>\n",
       "      <td>0.733097</td>\n",
       "      <td>0.805622</td>\n",
       "      <td>0.805622</td>\n",
       "    </tr>\n",
       "    <tr>\n",
       "      <th>FY</th>\n",
       "      <td>0.787002</td>\n",
       "      <td>0.056030</td>\n",
       "      <td>0.730972</td>\n",
       "      <td>0.843032</td>\n",
       "      <td>0.843032</td>\n",
       "    </tr>\n",
       "  </tbody>\n",
       "</table>\n",
       "</div>"
      ],
      "text/plain": [
       "            mean        sd     ci_lo     ci_hi   box_max\n",
       "Group1                                                  \n",
       "X       1.000000  0.000000  1.000000  1.000000        --\n",
       "TP      0.769359  0.036263  0.733097  0.805622  0.805622\n",
       "FY      0.787002  0.056030  0.730972  0.843032  0.843032"
      ]
     },
     "execution_count": 8,
     "metadata": {},
     "output_type": "execute_result"
    }
   ],
   "source": [
    "gfp_d.summarize(values = \"GFP_norm\").head()"
   ]
  },
  {
   "cell_type": "code",
   "execution_count": 9,
   "metadata": {},
   "outputs": [
    {
     "name": "stderr",
     "output_type": "stream",
     "text": [
      "c:\\Users\\Raphael\\mambaforge\\envs\\diplomathesis\\Lib\\site-packages\\scipy\\stats\\_axis_nan_policy.py:523: RuntimeWarning: Precision loss occurred in moment calculation due to catastrophic cancellation. This occurs when the data are nearly identical. Results may be unreliable.\n",
      "  res = hypotest_fun_out(*samples, **kwds)\n"
     ]
    },
    {
     "data": {
      "text/html": [
       "<div>\n",
       "<style scoped>\n",
       "    .dataframe tbody tr th:only-of-type {\n",
       "        vertical-align: middle;\n",
       "    }\n",
       "\n",
       "    .dataframe tbody tr th {\n",
       "        vertical-align: top;\n",
       "    }\n",
       "\n",
       "    .dataframe thead th {\n",
       "        text-align: right;\n",
       "    }\n",
       "</style>\n",
       "<table border=\"1\" class=\"dataframe\">\n",
       "  <thead>\n",
       "    <tr style=\"text-align: right;\">\n",
       "      <th></th>\n",
       "      <th>Group1</th>\n",
       "      <th>value</th>\n",
       "      <th>star</th>\n",
       "    </tr>\n",
       "    <tr>\n",
       "      <th>Group1</th>\n",
       "      <th></th>\n",
       "      <th></th>\n",
       "      <th></th>\n",
       "    </tr>\n",
       "  </thead>\n",
       "  <tbody>\n",
       "    <tr>\n",
       "      <th>X</th>\n",
       "      <td>TP</td>\n",
       "      <td>0.012</td>\n",
       "      <td>*</td>\n",
       "    </tr>\n",
       "    <tr>\n",
       "      <th>X</th>\n",
       "      <td>FY</td>\n",
       "      <td>0.031</td>\n",
       "      <td>*</td>\n",
       "    </tr>\n",
       "  </tbody>\n",
       "</table>\n",
       "</div>"
      ],
      "text/plain": [
       "       Group1  value star\n",
       "Group1                   \n",
       "X          TP  0.012    *\n",
       "X          FY  0.031    *"
      ]
     },
     "execution_count": 9,
     "metadata": {},
     "output_type": "execute_result"
    }
   ],
   "source": [
    "gfp_d.create_p_table().round(decimals=3).head()"
   ]
  },
  {
   "cell_type": "code",
   "execution_count": 10,
   "metadata": {},
   "outputs": [
    {
     "name": "stderr",
     "output_type": "stream",
     "text": [
      "C:\\Users\\Raphael\\AppData\\Local\\Temp\\ipykernel_31448\\885329879.py:30: UserWarning: set_ticklabels() should only be used with a fixed number of ticks, i.e. after set_ticks() or using a FixedLocator.\n",
      "  ax.set_xticklabels([\"X\",\"TP\",\"FY\"])\n"
     ]
    },
    {
     "data": {
      "image/png": "[encoded data removed]",
      "text/plain": [
       "<Figure size 354x354 with 1 Axes>"
      ]
     },
     "metadata": {},
     "output_type": "display_data"
    }
   ],
   "source": [
    "fig2,ax = plt.subplots(figsize = (3.54,3.54))\n",
    "ax = sns.barplot(data = gfp_d.df,\n",
    "                x = \"Group1\",\n",
    "                y = \"GFP_norm\",\n",
    "                hue = \"Group1\",\n",
    "                legend = False,\n",
    "                ax = ax,\n",
    "                palette = [\"#003f5c\",\n",
    "                     \"#ffa600\",\n",
    "                     \"#bc5090\"],\n",
    "                seed = 888,\n",
    "                alpha = 1,\n",
    "                capsize = 0.2,\n",
    "                err_kws = {\n",
    "                     \"linewidth\": 1,\n",
    "                     \"color\":\"0\"\n",
    "                })\n",
    "ax = sns.barplot(data = gfp_d.df,\n",
    "                x = \"Group1\",\n",
    "                y = \"GFP_norm\",\n",
    "                ax = ax,\n",
    "                color = \"k\",\n",
    "                fill = False,\n",
    "                linewidth = 1,\n",
    "                errorbar = None)\n",
    "ax = prettify(ax,\n",
    "              title = \"Densitometry\",\n",
    "              x = (\"Linker-Protein\",\"\"),\n",
    "              y = (\"Rel.Density\",\"%\"))\n",
    "ax.set_xticklabels([\"X\",\"TP\",\"FY\"])\n",
    "ax.tick_params(axis = \"x\",direction = \"out\")\n",
    "ax.tick_params(axis = \"y\",which=\"both\",direction = \"out\")\n",
    "fig2.tight_layout\n",
    "fig2.savefig(\"Fig1_Dens.svg\", format = \"svg\")"
   ]
  },
  {
   "cell_type": "markdown",
   "metadata": {},
   "source": [
    "# WB"
   ]
  },
  {
   "cell_type": "code",
   "execution_count": 11,
   "metadata": {},
   "outputs": [
    {
     "data": {
      "image/png": "[encoded data removed]",
      "text/plain": [
       "<Figure size 708x354 with 1 Axes>"
      ]
     },
     "metadata": {},
     "output_type": "display_data"
    }
   ],
   "source": [
    "from create_figures import WesternBlot\n",
    "import skimage as ski\n",
    "\n",
    "image1 = ski.io.imread(r\"Data\\1. Plasmid can degrade GFP\\WB\\Img_Final\\0_b-Actin.png\")\n",
    "image2 = ski.io.imread(r\"Data\\1. Plasmid can degrade GFP\\WB\\Img_Final\\1_GFP.png\")\n",
    "fig3, ax = plt.subplots(figsize = (7.08, 3.54))\n",
    "wb = (WesternBlot(border = 0.1)\n",
    "      .add_lane(image = image2,\n",
    "                protein =\"GFP\",\n",
    "                weight = 27)\n",
    "      .add_lane(image = image1,\n",
    "                protein =\"b-Actin\",\n",
    "                weight = 42)\n",
    "      .add_labels([\"X\",\"TP\",\"FY\"])\n",
    "      .plot(ax))\n",
    "\n",
    "fig3.savefig(\"WB.svg\", format = \"svg\")"
   ]
  }
 ],
 "metadata": {
  "kernelspec": {
   "display_name": "Python 3 (ipykernel)",
   "language": "python",
   "name": "python3"
  },
  "language_info": {
   "codemirror_mode": {
    "name": "ipython",
    "version": 3
   },
   "file_extension": ".py",
   "mimetype": "text/x-python",
   "name": "python",
   "nbconvert_exporter": "python",
   "pygments_lexer": "ipython3",
   "version": "3.11.9"
  }
 },
 "nbformat": 4,
 "nbformat_minor": 2
}
